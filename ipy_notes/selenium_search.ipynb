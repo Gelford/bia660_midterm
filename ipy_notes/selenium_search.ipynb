{
 "metadata": {
  "name": ""
 },
 "nbformat": 3,
 "nbformat_minor": 0,
 "worksheets": [
  {
   "cells": [
    {
     "cell_type": "code",
     "collapsed": false,
     "input": [
      "from bs4 import BeautifulSoup\n",
      "import urllib\n",
      "from selenium import webdriver\n",
      "from selenium.common.exceptions import NoSuchElementException\n",
      "\n",
      "import pymysql\n",
      "import re\n",
      "\n",
      "import time\n",
      "from datetime import datetime\n",
      "import calendar"
     ],
     "language": "python",
     "metadata": {},
     "outputs": [],
     "prompt_number": 203
    },
    {
     "cell_type": "code",
     "collapsed": false,
     "input": [
      "def myParseDateTime(str):\n",
      "    tmp_list = str.split(' ')\n",
      "    hour_min = tmp_list[0].split(':')\n",
      "    minute = hour_min[-1]\n",
      "    hour = hour_min[0]\n",
      "    if(tmp_list[1] == \"PM\"):\n",
      "        hour = int(hour) + 12\n",
      "    minute = int(minute)\n",
      "    d = int(tmp_list[3])\n",
      "    y = int(tmp_list[5])+2000\n",
      "    dic_months = dict((v,k) for k,v in enumerate(calendar.month_abbr))\n",
      "    m = dic_months[tmp_list[4]]\n",
      "    dt = datetime(y, m, d, hour, minute, 0)\n",
      "    return dt"
     ],
     "language": "python",
     "metadata": {},
     "outputs": [],
     "prompt_number": 204
    },
    {
     "cell_type": "code",
     "collapsed": false,
     "input": [
      "dbuser = \"bia_user\"\n",
      "dbpsw = \"biabiabia\"\n",
      "dbname = \"ios_compare_db\""
     ],
     "language": "python",
     "metadata": {},
     "outputs": [],
     "prompt_number": 205
    },
    {
     "cell_type": "code",
     "collapsed": false,
     "input": [
      "def myDBInsert(dbuser, dbpsw, dbname, tbl_name, search_con, t_since, t_until, page_num, lang, sort_how):\n",
      "    search_url = 'http://topsy.com/s?q=' + search_con + '&type=tweet&sort=-date&language=' + \\\n",
      "    lang + '&offset=' + str(page_num) + '0&mintime=' + t_since + '&maxtime=' + t_until\n",
      "    list_tweets = []\n",
      "\n",
      "    browser = webdriver.Firefox()\n",
      "    browser.get(search_url)\n",
      "    assert \"Twitter Search, Monitoring, & Analytics | Topsy.com\" in browser.title\n",
      "    try:\n",
      "        elem_list = browser.find_elements_by_class_name('media-body')\n",
      "    except NoSuchElementException:\n",
      "        assert 0, \"Not find!\"\n",
      "\n",
      "    for elem in elem_list:\n",
      "        id_html = elem.get_attribute(\"innerHTML\")\n",
      "        soup_all = BeautifulSoup(id_html)\n",
      "        soup_id_name = soup_all.find(attrs = {\"class\": \"media-heading\"})\n",
      "        tmp_id_name_list = soup_id_name.text.split(' @')\n",
      "        tmp_name = tmp_id_name_list[0]\n",
      "        tmp_id = tmp_id_name_list[-1]\n",
      "        #print tmp_id + \"\\t\" + tmp_name #person's id & name the tweet belonged to\n",
      "        str_uurl = \"http://twitter.com/\" + tmp_id #this guy's twitter url\n",
      "        #print str_uurl\n",
      "        soup_content = soup_id_name.nextSibling\n",
      "        str_content = soup_content.getText(separator = u\" \")\n",
      "        #print str_content #tweet content\n",
      "        soup_turl = soup_all.find(attrs = {\"class\": \"muted\"})\n",
      "        str_turl = soup_turl[\"href\"]\n",
      "        #print str_turl #tweet url\n",
      "        try:\n",
      "            f = urllib.urlopen(str_turl)\n",
      "        except IOError, e:\n",
      "            print \"cannot fetch tweet_url, donno why...\",\n",
      "            continue\n",
      "        tweet_html = f.read()\n",
      "        soup_tweet = BeautifulSoup(tweet_html)\n",
      "        tag_time = soup_tweet.findAll('span', attrs = {\"class\":\"metadata\"})\n",
      "        if(len(tag_time) != 0):\n",
      "            str_ttime = tag_time[0].find('span')['title']\n",
      "            #print str_ttime + \"\\n\" #time of the tweet_html\n",
      "            try:\n",
      "                dt = myParseDateTime(str_ttime)\n",
      "            except TypeError, e:\n",
      "                print \" type error!\",\n",
      "                continue\n",
      "            #print dt\n",
      "        else:\n",
      "            str_ttime = \"\"\n",
      "            dt = datetime.now()\n",
      "            dt = None\n",
      "            #print dt\n",
      "        list_tw_con = [tmp_id, tmp_name, str_uurl, str_content, str_turl, dt]\n",
      "        #print list_tw_con\n",
      "        list_tweets.append(list_tw_con)\n",
      "    conn = pymysql.connect(host = 'localhost', port = 3306, user = dbuser, passwd = dbpsw, db = dbname)\n",
      "    cur = conn.cursor()\n",
      "    j = 1;\n",
      "    for i in list_tweets:\n",
      "        if(i[5] == None):\n",
      "            str_insert_sql = \"insert ignore into \" + tbl_name + \" values( '\" + re.escape(i[0]) + \"', '\" + re.escape(i[1]) + \\\n",
      "            \"', '\" + re.escape(i[2]) + \"', '\" + re.escape(i[3]) + \"', '\" + re.escape(i[4]) + \\\n",
      "            \"', '\" + \"NULL\" + \"');\"\n",
      "        else:\n",
      "            str_insert_sql = \"insert ignore into \" + tbl_name + \" values( '\" + re.escape(i[0]) + \"', '\" + re.escape(i[1]) + \\\n",
      "            \"', '\" + re.escape(i[2]) + \"', '\" + re.escape(i[3]) + \"', '\" + re.escape(i[4]) + \\\n",
      "            \"', '\" + i[5].isoformat(' ') + \"');\"\n",
      "        try:\n",
      "            cur.execute(str_insert_sql)\n",
      "        except UnicodeEncodeError, e:\n",
      "            print \"unicode problem!\",\n",
      "            continue\n",
      "        #print str_insert_sql\n",
      "        cur.fetchall()\n",
      "        cur.connection.commit()\n",
      "        print str(j)+\"/10\", \" \",\n",
      "        j = j + 1\n",
      "    cur.close()\n",
      "    conn.close()\n",
      "    browser.close()\n",
      "    print \"\\nPage:\" + str(page_num)"
     ],
     "language": "python",
     "metadata": {},
     "outputs": [],
     "prompt_number": 206
    },
    {
     "cell_type": "code",
     "collapsed": false,
     "input": [
      "def getSUTimeList(t_const):\n",
      "    myList = []\n",
      "    for i in range(10):\n",
      "        myList.append(str(t_const + i*3600*24))\n",
      "    print myList\n",
      "    return myList"
     ],
     "language": "python",
     "metadata": {},
     "outputs": [],
     "prompt_number": 207
    },
    {
     "cell_type": "code",
     "collapsed": false,
     "input": [
      "#iOS 4 searching contents:\n",
      "search_con = '\\\"iOS 4\\\"' #run again using 'iOS4'\n",
      "t_const = 1276646411\n",
      "list_sin_until_time = getSUTimeList(t_const)\n",
      "t_since = list_sin_until_time[0]\n",
      "t_until = list_sin_until_time[1]\n",
      "\n",
      "page_num = 0 #page #, 1/2/3/4/5...\n",
      "lang = 'en'\n",
      "sort = ['-date','date']#newest or oldest\n",
      "\n",
      "search_url = 'http://topsy.com/s?q=' + search_con + '&type=tweet&sort=' + sort[0] + '&language=' + lang + '&offset=' + str(page_num) + '0&mintime=' + t_since + '&maxtime=' + t_until\n",
      "\n",
      "print search_url"
     ],
     "language": "python",
     "metadata": {},
     "outputs": [
      {
       "output_type": "stream",
       "stream": "stdout",
       "text": [
        "['1276646411', '1276732811', '1276819211', '1276905611', '1276992011', '1277078411', '1277164811', '1277251211', '1277337611', '1277424011']\n",
        "http://topsy.com/s?q=\"iOS 4\"&type=tweet&sort=-date&language=en&offset=00&mintime=1276646411&maxtime=1276732811\n"
       ]
      }
     ],
     "prompt_number": 208
    },
    {
     "cell_type": "code",
     "collapsed": false,
     "input": [
      "#iOS 4!!!\n",
      "tbl_name = \"ios_four_tweets\"\n",
      "for sort_index in range(2):\n",
      "    for since_until_index in range(9):\n",
      "        for page_num in range(10):\n",
      "            myDBInsert(dbuser, dbpsw, dbname, tbl_name, search_con, list_sin_until_time[since_until_index],\n",
      "                       list_sin_until_time[since_until_index + 1], page_num, lang, sort[sort_index])"
     ],
     "language": "python",
     "metadata": {},
     "outputs": [
      {
       "output_type": "stream",
       "stream": "stdout",
       "text": [
        "1/10   2/10   3/10   4/10   5/10   6/10   7/10   8/10   9/10   \n",
        "Page:0\n",
        "1/10"
       ]
      },
      {
       "output_type": "stream",
       "stream": "stdout",
       "text": [
        "   2/10   3/10   4/10   5/10   6/10   7/10   unicode problem! 8/10   9/10   \n",
        "Page:1\n",
        "1/10"
       ]
      },
      {
       "output_type": "stream",
       "stream": "stdout",
       "text": [
        "   2/10   3/10   4/10   5/10   6/10   7/10   8/10   9/10   10/10   \n",
        "Page:2\n",
        "1/10"
       ]
      },
      {
       "output_type": "stream",
       "stream": "stdout",
       "text": [
        "   2/10   3/10   4/10   5/10   unicode problem! 6/10   unicode problem! 7/10   8/10   \n",
        "Page:3\n",
        "1/10"
       ]
      },
      {
       "output_type": "stream",
       "stream": "stdout",
       "text": [
        "   2/10   3/10   4/10   5/10   6/10   7/10   8/10   9/10   10/10   \n",
        "Page:4\n",
        "1/10"
       ]
      },
      {
       "output_type": "stream",
       "stream": "stdout",
       "text": [
        "   2/10   3/10   4/10   5/10   6/10   7/10   8/10   9/10   10/10   \n",
        "Page:5\n",
        "1/10"
       ]
      },
      {
       "output_type": "stream",
       "stream": "stdout",
       "text": [
        "   2/10   3/10   unicode problem! 4/10   5/10   6/10   7/10   8/10   9/10   \n",
        "Page:6\n",
        "unicode problem!"
       ]
      },
      {
       "output_type": "stream",
       "stream": "stdout",
       "text": [
        " unicode problem! 1/10   2/10   3/10   4/10   5/10   6/10   7/10   unicode problem! \n",
        "Page:7\n",
        "1/10"
       ]
      },
      {
       "output_type": "stream",
       "stream": "stdout",
       "text": [
        "   2/10   3/10   4/10   5/10   6/10   7/10   8/10   9/10   10/10   \n",
        "Page:8\n",
        "1/10"
       ]
      },
      {
       "output_type": "stream",
       "stream": "stdout",
       "text": [
        "   2/10   3/10   4/10   5/10   6/10   7/10   8/10   9/10   10/10   \n",
        "Page:9\n",
        "1/10"
       ]
      },
      {
       "output_type": "stream",
       "stream": "stdout",
       "text": [
        "   2/10   3/10   4/10   unicode problem! 5/10   6/10   7/10   8/10   9/10   \n",
        "Page:0\n",
        "cannot fetch tweet_url, donno why..."
       ]
      },
      {
       "output_type": "stream",
       "stream": "stdout",
       "text": [
        " 1/10   2/10   3/10   4/10   5/10   6/10   7/10   8/10   9/10   \n",
        "Page:1\n",
        "1/10"
       ]
      },
      {
       "output_type": "stream",
       "stream": "stdout",
       "text": [
        "   2/10   3/10   4/10   5/10   6/10   7/10   8/10   9/10   10/10   \n",
        "Page:2\n",
        "1/10"
       ]
      },
      {
       "output_type": "stream",
       "stream": "stdout",
       "text": [
        "   2/10   3/10   4/10   unicode problem! 5/10   6/10   unicode problem! 7/10   8/10   \n",
        "Page:3\n",
        "1/10"
       ]
      },
      {
       "output_type": "stream",
       "stream": "stdout",
       "text": [
        "   2/10   3/10   4/10   unicode problem! unicode problem! 5/10   6/10   7/10   8/10   \n",
        "Page:4\n",
        "1/10"
       ]
      },
      {
       "output_type": "stream",
       "stream": "stdout",
       "text": [
        "   2/10   3/10   4/10   5/10   6/10   7/10   8/10   9/10   10/10   \n",
        "Page:5\n",
        "1/10"
       ]
      },
      {
       "output_type": "stream",
       "stream": "stdout",
       "text": [
        "   2/10   3/10   4/10   5/10   6/10   7/10   8/10   9/10   10/10   \n",
        "Page:6\n",
        "1/10"
       ]
      },
      {
       "output_type": "stream",
       "stream": "stdout",
       "text": [
        "   2/10   3/10   unicode problem! 4/10   5/10   6/10   7/10   8/10   9/10   \n",
        "Page:7\n",
        "unicode problem!"
       ]
      },
      {
       "output_type": "stream",
       "stream": "stdout",
       "text": [
        " 1/10   2/10   3/10   4/10   5/10   unicode problem! 6/10   unicode problem! 7/10   \n",
        "Page:8\n",
        "1/10"
       ]
      },
      {
       "output_type": "stream",
       "stream": "stdout",
       "text": [
        "   2/10   3/10   unicode problem! 4/10   5/10   6/10   7/10   unicode problem! unicode problem! \n",
        "Page:9\n",
        "1/10"
       ]
      },
      {
       "output_type": "stream",
       "stream": "stdout",
       "text": [
        "   2/10   3/10   4/10   5/10   6/10   7/10   8/10   9/10   10/10   \n",
        "Page:0\n",
        "1/10"
       ]
      },
      {
       "output_type": "stream",
       "stream": "stdout",
       "text": [
        "   2/10   3/10   4/10   unicode problem! unicode problem! 5/10   6/10   7/10   8/10   \n",
        "Page:1\n",
        "1/10"
       ]
      },
      {
       "output_type": "stream",
       "stream": "stdout",
       "text": [
        "   2/10   3/10   4/10   5/10   unicode problem! 6/10   7/10   unicode problem! 8/10   \n",
        "Page:2\n",
        "1/10"
       ]
      },
      {
       "output_type": "stream",
       "stream": "stdout",
       "text": [
        "   2/10   3/10   4/10   5/10   6/10   7/10   8/10   9/10   10/10   \n",
        "Page:3\n",
        "1/10"
       ]
      },
      {
       "output_type": "stream",
       "stream": "stdout",
       "text": [
        "   2/10   3/10   4/10   5/10   6/10   7/10   8/10   9/10   10/10   \n",
        "Page:4\n",
        "1/10"
       ]
      },
      {
       "output_type": "stream",
       "stream": "stdout",
       "text": [
        "   2/10   3/10   4/10   5/10   6/10   7/10   8/10   9/10   10/10   \n",
        "Page:5\n",
        "1/10"
       ]
      },
      {
       "output_type": "stream",
       "stream": "stdout",
       "text": [
        "   2/10   3/10   4/10   unicode problem! unicode problem! 5/10   6/10   7/10   8/10   \n",
        "Page:6\n",
        "1/10"
       ]
      },
      {
       "output_type": "stream",
       "stream": "stdout",
       "text": [
        "   2/10   3/10   4/10   5/10   6/10   7/10   8/10   9/10   10/10   \n",
        "Page:7\n",
        "1/10"
       ]
      },
      {
       "output_type": "stream",
       "stream": "stdout",
       "text": [
        "   2/10   3/10   4/10   5/10   6/10   7/10   8/10   9/10   10/10   \n",
        "Page:8\n",
        "1/10"
       ]
      },
      {
       "output_type": "stream",
       "stream": "stdout",
       "text": [
        "   2/10   3/10   4/10   5/10   6/10   unicode problem! 7/10   unicode problem! 8/10   \n",
        "Page:9\n",
        "1/10"
       ]
      },
      {
       "output_type": "stream",
       "stream": "stdout",
       "text": [
        "   unicode problem! 2/10   3/10   unicode problem! unicode problem! 4/10   5/10   6/10   7/10   \n",
        "Page:0\n",
        "1/10"
       ]
      },
      {
       "output_type": "stream",
       "stream": "stdout",
       "text": [
        "   2/10   3/10   4/10   5/10   unicode problem! 6/10   7/10   8/10   9/10   \n",
        "Page:1\n",
        "1/10"
       ]
      },
      {
       "output_type": "stream",
       "stream": "stdout",
       "text": [
        "   2/10   3/10   4/10   5/10   6/10   7/10   8/10   9/10   10/10   \n",
        "Page:2\n",
        "1/10"
       ]
      },
      {
       "output_type": "stream",
       "stream": "stdout",
       "text": [
        "   unicode problem! 2/10   3/10   4/10   5/10   6/10   7/10   8/10   9/10   \n",
        "Page:3\n",
        "1/10"
       ]
      },
      {
       "output_type": "stream",
       "stream": "stdout",
       "text": [
        "   2/10   3/10   4/10   5/10   6/10   7/10   8/10   9/10   unicode problem! \n",
        "Page:4\n",
        "1/10"
       ]
      },
      {
       "output_type": "stream",
       "stream": "stdout",
       "text": [
        "   2/10   3/10   4/10   5/10   6/10   7/10   8/10   9/10   10/10   \n",
        "Page:5\n",
        "1/10"
       ]
      },
      {
       "output_type": "stream",
       "stream": "stdout",
       "text": [
        "   2/10   3/10   4/10   unicode problem! 5/10   6/10   7/10   8/10   9/10   \n",
        "Page:6\n",
        "1/10"
       ]
      },
      {
       "output_type": "stream",
       "stream": "stdout",
       "text": [
        "   2/10   3/10   4/10   5/10   6/10   7/10   8/10   9/10   10/10   \n",
        "Page:7\n",
        "1/10"
       ]
      },
      {
       "output_type": "stream",
       "stream": "stdout",
       "text": [
        "   2/10   3/10   4/10   5/10   6/10   7/10   8/10   9/10   10/10   \n",
        "Page:8\n",
        "1/10"
       ]
      },
      {
       "output_type": "stream",
       "stream": "stdout",
       "text": [
        "   2/10   unicode problem! 3/10   4/10   5/10   6/10   7/10   8/10   9/10   \n",
        "Page:9\n",
        "1/10"
       ]
      },
      {
       "output_type": "stream",
       "stream": "stdout",
       "text": [
        "   2/10   3/10   4/10   5/10   6/10   7/10   8/10   9/10   10/10   \n",
        "Page:0\n",
        "1/10"
       ]
      },
      {
       "output_type": "stream",
       "stream": "stdout",
       "text": [
        "   2/10   3/10   4/10   unicode problem! 5/10   6/10   7/10   8/10   9/10   \n",
        "Page:1\n",
        "cannot fetch tweet_url, donno why..."
       ]
      },
      {
       "output_type": "stream",
       "stream": "stdout",
       "text": [
        " 1/10   unicode problem! 2/10   3/10   4/10   5/10   6/10   7/10   8/10   \n",
        "Page:2\n",
        "1/10"
       ]
      },
      {
       "output_type": "stream",
       "stream": "stdout",
       "text": [
        "   2/10   3/10   4/10   5/10   6/10   7/10   8/10   9/10   10/10   \n",
        "Page:3\n",
        "1/10"
       ]
      },
      {
       "output_type": "stream",
       "stream": "stdout",
       "text": [
        "   2/10   3/10   unicode problem! 4/10   unicode problem! 5/10   6/10   7/10   unicode problem! \n",
        "Page:4\n",
        "1/10"
       ]
      },
      {
       "output_type": "stream",
       "stream": "stdout",
       "text": [
        "   2/10   3/10   4/10   5/10   6/10   7/10   unicode problem! 8/10   9/10   \n",
        "Page:5\n",
        "1/10"
       ]
      },
      {
       "output_type": "stream",
       "stream": "stdout",
       "text": [
        "   unicode problem! 2/10   3/10   4/10   5/10   6/10   7/10   8/10   unicode problem! \n",
        "Page:6\n",
        "1/10"
       ]
      },
      {
       "output_type": "stream",
       "stream": "stdout",
       "text": [
        "   2/10   3/10   4/10   5/10   unicode problem! unicode problem! unicode problem! 6/10   7/10   \n",
        "Page:7\n",
        "1/10"
       ]
      },
      {
       "output_type": "stream",
       "stream": "stdout",
       "text": [
        "   2/10   3/10   4/10   5/10   6/10   7/10   8/10   9/10   10/10   \n",
        "Page:8\n",
        "1/10"
       ]
      },
      {
       "output_type": "stream",
       "stream": "stdout",
       "text": [
        "   2/10   unicode problem! 3/10   4/10   5/10   6/10   7/10   8/10   9/10   \n",
        "Page:9\n",
        "cannot fetch tweet_url, donno why..."
       ]
      },
      {
       "output_type": "stream",
       "stream": "stdout",
       "text": [
        " 1/10   2/10   unicode problem! 3/10   4/10   5/10   6/10   7/10   unicode problem! \n",
        "Page:0\n",
        "1/10"
       ]
      },
      {
       "output_type": "stream",
       "stream": "stdout",
       "text": [
        "   2/10   3/10   4/10   unicode problem! 5/10   6/10   7/10   8/10   9/10   \n",
        "Page:1\n",
        "1/10"
       ]
      },
      {
       "output_type": "stream",
       "stream": "stdout",
       "text": [
        "   2/10   3/10   4/10   5/10   6/10   7/10   8/10   9/10   10/10   \n",
        "Page:2\n",
        "cannot fetch tweet_url, donno why..."
       ]
      },
      {
       "output_type": "stream",
       "stream": "stdout",
       "text": [
        " 1/10   2/10   3/10   4/10   5/10   6/10   7/10   8/10   9/10   \n",
        "Page:3\n",
        "1/10"
       ]
      },
      {
       "output_type": "stream",
       "stream": "stdout",
       "text": [
        "   2/10   3/10   4/10   5/10   unicode problem! unicode problem! 6/10   7/10   8/10   \n",
        "Page:4\n",
        "1/10"
       ]
      },
      {
       "output_type": "stream",
       "stream": "stdout",
       "text": [
        "   2/10   unicode problem! 3/10   4/10   5/10   6/10   7/10   8/10   9/10   \n",
        "Page:5\n",
        "1/10"
       ]
      },
      {
       "output_type": "stream",
       "stream": "stdout",
       "text": [
        "   2/10   3/10   4/10   5/10   6/10   7/10   8/10   9/10   10/10   \n",
        "Page:6\n",
        "1/10"
       ]
      },
      {
       "output_type": "stream",
       "stream": "stdout",
       "text": [
        "   2/10   3/10   4/10   5/10   6/10   7/10   8/10   9/10   10/10   \n",
        "Page:7\n",
        "cannot fetch tweet_url, donno why..."
       ]
      },
      {
       "output_type": "stream",
       "stream": "stdout",
       "text": [
        " 1/10   2/10   3/10   4/10   5/10   6/10   7/10   8/10   9/10   \n",
        "Page:8\n",
        "1/10"
       ]
      },
      {
       "output_type": "stream",
       "stream": "stdout",
       "text": [
        "   2/10   3/10   4/10   5/10   6/10   7/10   unicode problem! 8/10   9/10   \n",
        "Page:9\n",
        "1/10"
       ]
      },
      {
       "output_type": "stream",
       "stream": "stdout",
       "text": [
        "   2/10   3/10   4/10   5/10   6/10   7/10   8/10   9/10   10/10   \n",
        "Page:0\n",
        "1/10"
       ]
      },
      {
       "output_type": "stream",
       "stream": "stdout",
       "text": [
        "   2/10   3/10   4/10   5/10   6/10   7/10   8/10   9/10   unicode problem! \n",
        "Page:1\n",
        "1/10"
       ]
      },
      {
       "output_type": "stream",
       "stream": "stdout",
       "text": [
        "   2/10   3/10   4/10   5/10   6/10   7/10   8/10   9/10   10/10   \n",
        "Page:2\n",
        "1/10"
       ]
      },
      {
       "output_type": "stream",
       "stream": "stdout",
       "text": [
        "   2/10   3/10   4/10   5/10   6/10   7/10   unicode problem! 8/10   unicode problem! \n",
        "Page:3\n",
        "1/10"
       ]
      },
      {
       "output_type": "stream",
       "stream": "stdout",
       "text": [
        "   2/10   3/10   4/10   5/10   6/10   7/10   8/10   9/10   10/10   \n",
        "Page:4\n",
        "1/10"
       ]
      },
      {
       "output_type": "stream",
       "stream": "stdout",
       "text": [
        "   unicode problem! 2/10   3/10   4/10   5/10   6/10   7/10   8/10   9/10   \n",
        "Page:5\n",
        "1/10"
       ]
      },
      {
       "output_type": "stream",
       "stream": "stdout",
       "text": [
        "   2/10   3/10   4/10   5/10   6/10   7/10   8/10   9/10   10/10   \n",
        "Page:6\n",
        "cannot fetch tweet_url, donno why..."
       ]
      },
      {
       "output_type": "stream",
       "stream": "stdout",
       "text": [
        " 1/10   2/10   3/10   4/10   5/10   unicode problem! 6/10   7/10   8/10   \n",
        "Page:7\n",
        "1/10"
       ]
      },
      {
       "output_type": "stream",
       "stream": "stdout",
       "text": [
        "   2/10   3/10   4/10   5/10   6/10   7/10   8/10   9/10   10/10   \n",
        "Page:8\n",
        "unicode problem!"
       ]
      },
      {
       "output_type": "stream",
       "stream": "stdout",
       "text": [
        " 1/10   2/10   3/10   4/10   5/10   6/10   7/10   8/10   9/10   \n",
        "Page:9\n",
        "1/10"
       ]
      },
      {
       "output_type": "stream",
       "stream": "stdout",
       "text": [
        "   2/10   3/10   4/10   5/10   6/10   7/10   8/10   9/10   10/10   \n",
        "Page:0\n",
        "1/10"
       ]
      },
      {
       "output_type": "stream",
       "stream": "stdout",
       "text": [
        "   2/10   3/10   4/10   5/10   6/10   7/10   8/10   9/10   10/10   \n",
        "Page:1\n",
        "1/10"
       ]
      },
      {
       "output_type": "stream",
       "stream": "stdout",
       "text": [
        "   2/10   3/10   4/10   5/10   unicode problem! 6/10   7/10   8/10   9/10   \n",
        "Page:2\n",
        "1/10"
       ]
      },
      {
       "output_type": "stream",
       "stream": "stdout",
       "text": [
        "   2/10   3/10   4/10   5/10   6/10   7/10   8/10   9/10   10/10   \n",
        "Page:3\n",
        "1/10"
       ]
      },
      {
       "output_type": "stream",
       "stream": "stdout",
       "text": [
        "   2/10   3/10   4/10   5/10   6/10   7/10   8/10   unicode problem! 9/10   \n",
        "Page:4\n",
        "unicode problem!"
       ]
      },
      {
       "output_type": "stream",
       "stream": "stdout",
       "text": [
        " 1/10   2/10   3/10   4/10   5/10   6/10   7/10   8/10   9/10   \n",
        "Page:5\n",
        "1/10"
       ]
      },
      {
       "output_type": "stream",
       "stream": "stdout",
       "text": [
        "   2/10   3/10   4/10   5/10   6/10   7/10   unicode problem! 8/10   9/10   \n",
        "Page:6\n",
        "unicode problem!"
       ]
      },
      {
       "output_type": "stream",
       "stream": "stdout",
       "text": [
        " unicode problem! 1/10   2/10   3/10   4/10   5/10   6/10   unicode problem! 7/10   \n",
        "Page:7\n",
        "1/10"
       ]
      },
      {
       "output_type": "stream",
       "stream": "stdout",
       "text": [
        "   2/10   3/10   4/10   5/10   6/10   7/10   8/10   9/10   10/10   \n",
        "Page:8\n",
        "1/10"
       ]
      },
      {
       "output_type": "stream",
       "stream": "stdout",
       "text": [
        "   2/10   3/10   4/10   5/10   6/10   7/10   8/10   9/10   10/10   \n",
        "Page:9\n",
        "1/10"
       ]
      },
      {
       "output_type": "stream",
       "stream": "stdout",
       "text": [
        "   unicode problem! 2/10   3/10   4/10   5/10   6/10   7/10   8/10   9/10   \n",
        "Page:0\n",
        "1/10"
       ]
      },
      {
       "output_type": "stream",
       "stream": "stdout",
       "text": [
        "   2/10   3/10   4/10   5/10   6/10   7/10   8/10   9/10   10/10   \n",
        "Page:1\n",
        "1/10"
       ]
      },
      {
       "output_type": "stream",
       "stream": "stdout",
       "text": [
        "   unicode problem! 2/10   3/10   unicode problem! 4/10   5/10   6/10   7/10   8/10   \n",
        "Page:2\n",
        "cannot fetch tweet_url, donno why..."
       ]
      },
      {
       "output_type": "stream",
       "stream": "stdout",
       "text": [
        " 1/10   2/10   3/10   4/10   unicode problem! 5/10   6/10   7/10   unicode problem! \n",
        "Page:3\n",
        "1/10"
       ]
      },
      {
       "output_type": "stream",
       "stream": "stdout",
       "text": [
        "   2/10   unicode problem! 3/10   4/10   5/10   6/10   7/10   8/10   9/10   \n",
        "Page:4\n",
        "1/10"
       ]
      },
      {
       "output_type": "stream",
       "stream": "stdout",
       "text": [
        "   2/10   3/10   4/10   5/10   6/10   7/10   8/10   9/10   10/10   \n",
        "Page:5\n",
        "unicode problem!"
       ]
      },
      {
       "output_type": "stream",
       "stream": "stdout",
       "text": [
        " 1/10   2/10   unicode problem! 3/10   unicode problem! 4/10   5/10   6/10   7/10   \n",
        "Page:6\n",
        "1/10"
       ]
      },
      {
       "output_type": "stream",
       "stream": "stdout",
       "text": [
        "   unicode problem! 2/10   3/10   4/10   unicode problem! 5/10   6/10   7/10   8/10   \n",
        "Page:7\n",
        "1/10"
       ]
      },
      {
       "output_type": "stream",
       "stream": "stdout",
       "text": [
        "   2/10   3/10   unicode problem! 4/10   5/10   6/10   7/10   8/10   9/10   \n",
        "Page:8\n",
        "1/10"
       ]
      },
      {
       "output_type": "stream",
       "stream": "stdout",
       "text": [
        "   2/10   3/10   4/10   5/10   6/10   7/10   8/10   9/10   10/10   \n",
        "Page:9\n",
        "1/10"
       ]
      },
      {
       "output_type": "stream",
       "stream": "stdout",
       "text": [
        "   2/10   3/10   4/10   5/10   6/10   7/10   8/10   9/10   \n",
        "Page:0\n",
        "1/10"
       ]
      },
      {
       "output_type": "stream",
       "stream": "stdout",
       "text": [
        "   2/10   3/10   4/10   5/10   6/10   7/10   unicode problem! 8/10   9/10   \n",
        "Page:1\n",
        "1/10"
       ]
      },
      {
       "output_type": "stream",
       "stream": "stdout",
       "text": [
        "   2/10   3/10   4/10   5/10   6/10   7/10   8/10   9/10   10/10   \n",
        "Page:2\n",
        "1/10"
       ]
      },
      {
       "output_type": "stream",
       "stream": "stdout",
       "text": [
        "   2/10   3/10   4/10   5/10   unicode problem! 6/10   unicode problem! 7/10   8/10   \n",
        "Page:3\n",
        "1/10"
       ]
      },
      {
       "output_type": "stream",
       "stream": "stdout",
       "text": [
        "   2/10   3/10   4/10   5/10   6/10   7/10   8/10   9/10   10/10   \n",
        "Page:4\n",
        "1/10"
       ]
      },
      {
       "output_type": "stream",
       "stream": "stdout",
       "text": [
        "   2/10   3/10   4/10   5/10   6/10   7/10   8/10   9/10   10/10   \n",
        "Page:5\n",
        "1/10"
       ]
      },
      {
       "output_type": "stream",
       "stream": "stdout",
       "text": [
        "   2/10   3/10   unicode problem! 4/10   5/10   6/10   7/10   8/10   9/10   \n",
        "Page:6\n",
        "unicode problem!"
       ]
      },
      {
       "output_type": "stream",
       "stream": "stdout",
       "text": [
        " unicode problem! 1/10   2/10   3/10   4/10   5/10   6/10   7/10   unicode problem! \n",
        "Page:7\n",
        "1/10"
       ]
      },
      {
       "output_type": "stream",
       "stream": "stdout",
       "text": [
        "   2/10   3/10   4/10   5/10   6/10   7/10   8/10   9/10   10/10   \n",
        "Page:8\n",
        "1/10"
       ]
      },
      {
       "output_type": "stream",
       "stream": "stdout",
       "text": [
        "   2/10   3/10   4/10   5/10   6/10   7/10   8/10   9/10   10/10   \n",
        "Page:9\n",
        "1/10"
       ]
      },
      {
       "output_type": "stream",
       "stream": "stdout",
       "text": [
        "   2/10   3/10   4/10   unicode problem! 5/10   6/10   7/10   8/10   9/10   \n",
        "Page:0\n",
        "cannot fetch tweet_url, donno why..."
       ]
      },
      {
       "output_type": "stream",
       "stream": "stdout",
       "text": [
        " 1/10   2/10   3/10   4/10   5/10   6/10   7/10   8/10   9/10   \n",
        "Page:1\n",
        "1/10"
       ]
      },
      {
       "output_type": "stream",
       "stream": "stdout",
       "text": [
        "   2/10   3/10   4/10   5/10   6/10   7/10   8/10   9/10   10/10   \n",
        "Page:2\n",
        "1/10"
       ]
      },
      {
       "output_type": "stream",
       "stream": "stdout",
       "text": [
        "   2/10   3/10   4/10   unicode problem! 5/10   6/10   unicode problem! 7/10   8/10   \n",
        "Page:3\n",
        "1/10"
       ]
      },
      {
       "output_type": "stream",
       "stream": "stdout",
       "text": [
        "   2/10   3/10   4/10   unicode problem! unicode problem! 5/10   6/10   7/10   8/10   \n",
        "Page:4\n",
        "1/10"
       ]
      },
      {
       "output_type": "stream",
       "stream": "stdout",
       "text": [
        "   2/10   3/10   4/10   5/10   6/10   7/10   8/10   9/10   10/10   \n",
        "Page:5\n",
        "1/10"
       ]
      },
      {
       "output_type": "stream",
       "stream": "stdout",
       "text": [
        "   2/10   3/10   4/10   5/10   6/10   7/10   8/10   9/10   10/10   \n",
        "Page:6\n",
        "1/10"
       ]
      },
      {
       "output_type": "stream",
       "stream": "stdout",
       "text": [
        "   2/10   3/10   unicode problem! 4/10   5/10   6/10   7/10   8/10   9/10   \n",
        "Page:7\n",
        "unicode problem!"
       ]
      },
      {
       "output_type": "stream",
       "stream": "stdout",
       "text": [
        " 1/10   2/10   3/10   4/10   5/10   unicode problem! 6/10   unicode problem! 7/10   \n",
        "Page:8\n",
        "1/10"
       ]
      },
      {
       "output_type": "stream",
       "stream": "stdout",
       "text": [
        "   2/10   3/10   unicode problem! 4/10   5/10   6/10   7/10   unicode problem! unicode problem! \n",
        "Page:9\n",
        "1/10"
       ]
      },
      {
       "output_type": "stream",
       "stream": "stdout",
       "text": [
        "   2/10   3/10   4/10   5/10   6/10   7/10   8/10   9/10   10/10   \n",
        "Page:0\n",
        "1/10"
       ]
      },
      {
       "output_type": "stream",
       "stream": "stdout",
       "text": [
        "   2/10   3/10   4/10   unicode problem! unicode problem! 5/10   6/10   7/10   8/10   \n",
        "Page:1\n",
        "1/10"
       ]
      },
      {
       "output_type": "stream",
       "stream": "stdout",
       "text": [
        "   2/10   3/10   4/10   5/10   unicode problem! 6/10   7/10   unicode problem! 8/10   \n",
        "Page:2\n",
        "1/10"
       ]
      },
      {
       "output_type": "stream",
       "stream": "stdout",
       "text": [
        "   2/10   3/10   4/10   5/10   6/10   7/10   8/10   9/10   10/10   \n",
        "Page:3\n",
        "1/10"
       ]
      },
      {
       "output_type": "stream",
       "stream": "stdout",
       "text": [
        "   2/10   3/10   4/10   5/10   6/10   7/10   8/10   9/10   10/10   \n",
        "Page:4\n",
        "1/10"
       ]
      },
      {
       "output_type": "stream",
       "stream": "stdout",
       "text": [
        "   2/10   3/10   4/10   5/10   6/10   7/10   8/10   9/10   10/10   \n",
        "Page:5\n",
        "1/10"
       ]
      },
      {
       "output_type": "stream",
       "stream": "stdout",
       "text": [
        "   2/10   3/10   4/10   unicode problem! unicode problem! 5/10   6/10   7/10   8/10   \n",
        "Page:6\n",
        "1/10"
       ]
      },
      {
       "output_type": "stream",
       "stream": "stdout",
       "text": [
        "   2/10   3/10   4/10   5/10   6/10   7/10   8/10   9/10   10/10   \n",
        "Page:7\n",
        "1/10"
       ]
      },
      {
       "output_type": "stream",
       "stream": "stdout",
       "text": [
        "   2/10   3/10   4/10   5/10   6/10   7/10   8/10   9/10   10/10   \n",
        "Page:8\n",
        "1/10"
       ]
      },
      {
       "output_type": "stream",
       "stream": "stdout",
       "text": [
        "   2/10   3/10   4/10   5/10   6/10   unicode problem! 7/10   unicode problem! 8/10   \n",
        "Page:9\n",
        "1/10"
       ]
      },
      {
       "output_type": "stream",
       "stream": "stdout",
       "text": [
        "   unicode problem! 2/10   3/10   unicode problem! unicode problem! 4/10   5/10   6/10   7/10   \n",
        "Page:0\n",
        "1/10"
       ]
      },
      {
       "output_type": "stream",
       "stream": "stdout",
       "text": [
        "   2/10   3/10   4/10   5/10   unicode problem! 6/10   7/10   8/10   9/10   \n",
        "Page:1\n",
        "1/10"
       ]
      },
      {
       "output_type": "stream",
       "stream": "stdout",
       "text": [
        "   2/10   3/10   4/10   5/10   6/10   7/10   8/10   9/10   10/10   \n",
        "Page:2\n",
        "1/10"
       ]
      },
      {
       "output_type": "stream",
       "stream": "stdout",
       "text": [
        "   unicode problem! 2/10   3/10   4/10   5/10   6/10   7/10   8/10   9/10   \n",
        "Page:3\n",
        "1/10"
       ]
      },
      {
       "output_type": "stream",
       "stream": "stdout",
       "text": [
        "   2/10   3/10   4/10   5/10   6/10   7/10   8/10   9/10   unicode problem! \n",
        "Page:4\n",
        "1/10"
       ]
      },
      {
       "output_type": "stream",
       "stream": "stdout",
       "text": [
        "   2/10   3/10   4/10   5/10   6/10   7/10   8/10   9/10   10/10   \n",
        "Page:5\n",
        "1/10"
       ]
      },
      {
       "output_type": "stream",
       "stream": "stdout",
       "text": [
        "   2/10   3/10   4/10   unicode problem! 5/10   6/10   7/10   8/10   9/10   \n",
        "Page:6\n",
        "1/10"
       ]
      },
      {
       "output_type": "stream",
       "stream": "stdout",
       "text": [
        "   2/10   3/10   4/10   5/10   6/10   7/10   8/10   9/10   10/10   \n",
        "Page:7\n",
        "1/10"
       ]
      },
      {
       "output_type": "stream",
       "stream": "stdout",
       "text": [
        "   2/10   3/10   4/10   5/10   6/10   7/10   8/10   9/10   10/10   \n",
        "Page:8\n",
        "1/10"
       ]
      },
      {
       "output_type": "stream",
       "stream": "stdout",
       "text": [
        "   2/10   unicode problem! 3/10   4/10   5/10   6/10   7/10   8/10   9/10   \n",
        "Page:9\n",
        "1/10"
       ]
      },
      {
       "output_type": "stream",
       "stream": "stdout",
       "text": [
        "   2/10   3/10   4/10   5/10   6/10   7/10   8/10   9/10   10/10   \n",
        "Page:0\n",
        "1/10"
       ]
      },
      {
       "output_type": "stream",
       "stream": "stdout",
       "text": [
        "   2/10   3/10   4/10   unicode problem! 5/10   6/10   7/10   8/10   9/10   \n",
        "Page:1\n",
        "cannot fetch tweet_url, donno why..."
       ]
      },
      {
       "output_type": "stream",
       "stream": "stdout",
       "text": [
        " 1/10   unicode problem! 2/10   3/10   4/10   5/10   6/10   7/10   8/10   \n",
        "Page:2\n",
        "1/10"
       ]
      },
      {
       "output_type": "stream",
       "stream": "stdout",
       "text": [
        "   2/10   3/10   4/10   5/10   6/10   7/10   8/10   9/10   10/10   \n",
        "Page:3\n",
        "1/10"
       ]
      },
      {
       "output_type": "stream",
       "stream": "stdout",
       "text": [
        "   2/10   3/10   unicode problem! 4/10   unicode problem! 5/10   6/10   7/10   unicode problem! \n",
        "Page:4\n",
        "1/10"
       ]
      },
      {
       "output_type": "stream",
       "stream": "stdout",
       "text": [
        "   2/10   3/10   4/10   5/10   6/10   7/10   unicode problem! 8/10   9/10   \n",
        "Page:5\n",
        "1/10"
       ]
      },
      {
       "output_type": "stream",
       "stream": "stdout",
       "text": [
        "   unicode problem! 2/10   3/10   4/10   5/10   6/10   7/10   8/10   unicode problem! \n",
        "Page:6\n",
        "1/10"
       ]
      },
      {
       "output_type": "stream",
       "stream": "stdout",
       "text": [
        "   2/10   3/10   4/10   5/10   unicode problem! unicode problem! unicode problem! 6/10   7/10   \n",
        "Page:7\n",
        "1/10"
       ]
      },
      {
       "output_type": "stream",
       "stream": "stdout",
       "text": [
        "   2/10   3/10   4/10   5/10   6/10   7/10   8/10   9/10   10/10   \n",
        "Page:8\n",
        "1/10"
       ]
      },
      {
       "output_type": "stream",
       "stream": "stdout",
       "text": [
        "   2/10   unicode problem! 3/10   4/10   5/10   6/10   7/10   8/10   9/10   \n",
        "Page:9\n",
        "cannot fetch tweet_url, donno why..."
       ]
      },
      {
       "output_type": "stream",
       "stream": "stdout",
       "text": [
        " 1/10   2/10   unicode problem! 3/10   4/10   5/10   6/10   7/10   unicode problem! \n",
        "Page:0\n",
        "1/10"
       ]
      },
      {
       "output_type": "stream",
       "stream": "stdout",
       "text": [
        "   2/10   3/10   4/10   unicode problem! 5/10   6/10   7/10   8/10   9/10   \n",
        "Page:1\n",
        "1/10"
       ]
      },
      {
       "output_type": "stream",
       "stream": "stdout",
       "text": [
        "   2/10   3/10   4/10   5/10   6/10   7/10   8/10   9/10   10/10   \n",
        "Page:2\n",
        "cannot fetch tweet_url, donno why..."
       ]
      },
      {
       "output_type": "stream",
       "stream": "stdout",
       "text": [
        " 1/10   2/10   3/10   4/10   5/10   6/10   7/10   8/10   9/10   \n",
        "Page:3\n",
        "1/10"
       ]
      },
      {
       "output_type": "stream",
       "stream": "stdout",
       "text": [
        "   2/10   3/10   4/10   5/10   unicode problem! unicode problem! 6/10   7/10   8/10   \n",
        "Page:4\n",
        "1/10"
       ]
      },
      {
       "output_type": "stream",
       "stream": "stdout",
       "text": [
        "   2/10   unicode problem! 3/10   4/10   5/10   6/10   7/10   8/10   9/10   \n",
        "Page:5\n",
        "1/10"
       ]
      },
      {
       "output_type": "stream",
       "stream": "stdout",
       "text": [
        "   2/10   3/10   4/10   5/10   6/10   7/10   8/10   9/10   10/10   \n",
        "Page:6\n",
        "1/10"
       ]
      },
      {
       "output_type": "stream",
       "stream": "stdout",
       "text": [
        "   2/10   3/10   4/10   5/10   6/10   7/10   8/10   9/10   10/10   \n",
        "Page:7\n",
        "cannot fetch tweet_url, donno why..."
       ]
      },
      {
       "output_type": "stream",
       "stream": "stdout",
       "text": [
        " 1/10   2/10   3/10   4/10   5/10   6/10   7/10   8/10   9/10   \n",
        "Page:8\n",
        "1/10"
       ]
      },
      {
       "output_type": "stream",
       "stream": "stdout",
       "text": [
        "   2/10   3/10   4/10   5/10   6/10   7/10   unicode problem! 8/10   9/10   \n",
        "Page:9\n",
        "1/10"
       ]
      },
      {
       "output_type": "stream",
       "stream": "stdout",
       "text": [
        "   2/10   3/10   4/10   5/10   6/10   7/10   8/10   9/10   10/10   \n",
        "Page:0\n",
        "1/10"
       ]
      },
      {
       "output_type": "stream",
       "stream": "stdout",
       "text": [
        "   2/10   3/10   4/10   5/10   6/10   7/10   8/10   9/10   unicode problem! \n",
        "Page:1\n",
        "1/10"
       ]
      },
      {
       "output_type": "stream",
       "stream": "stdout",
       "text": [
        "   2/10   3/10   4/10   5/10   6/10   7/10   8/10   9/10   10/10   \n",
        "Page:2\n",
        "1/10"
       ]
      },
      {
       "output_type": "stream",
       "stream": "stdout",
       "text": [
        "   2/10   3/10   4/10   5/10   6/10   7/10   unicode problem! 8/10   unicode problem! \n",
        "Page:3\n",
        "1/10"
       ]
      },
      {
       "output_type": "stream",
       "stream": "stdout",
       "text": [
        "   2/10   3/10   4/10   5/10   6/10   7/10   8/10   9/10   10/10   \n",
        "Page:4\n",
        "1/10"
       ]
      },
      {
       "output_type": "stream",
       "stream": "stdout",
       "text": [
        "   unicode problem! 2/10   3/10   4/10   5/10   6/10   7/10   8/10   9/10   \n",
        "Page:5\n",
        "1/10"
       ]
      },
      {
       "output_type": "stream",
       "stream": "stdout",
       "text": [
        "   2/10   3/10   4/10   5/10   6/10   7/10   8/10   9/10   10/10   \n",
        "Page:6\n",
        "cannot fetch tweet_url, donno why..."
       ]
      },
      {
       "output_type": "stream",
       "stream": "stdout",
       "text": [
        " 1/10   2/10   3/10   4/10   5/10   unicode problem! 6/10   7/10   8/10   \n",
        "Page:7\n",
        "1/10"
       ]
      },
      {
       "output_type": "stream",
       "stream": "stdout",
       "text": [
        "   2/10   3/10   4/10   5/10   6/10   7/10   8/10   9/10   10/10   \n",
        "Page:8\n",
        "unicode problem!"
       ]
      },
      {
       "output_type": "stream",
       "stream": "stdout",
       "text": [
        " 1/10   2/10   3/10   4/10   5/10   6/10   7/10   8/10   9/10   \n",
        "Page:9\n",
        "1/10"
       ]
      },
      {
       "output_type": "stream",
       "stream": "stdout",
       "text": [
        "   2/10   3/10   4/10   5/10   6/10   7/10   8/10   9/10   10/10   \n",
        "Page:0\n",
        "1/10"
       ]
      },
      {
       "output_type": "stream",
       "stream": "stdout",
       "text": [
        "   2/10   3/10   4/10   5/10   6/10   7/10   8/10   9/10   10/10   \n",
        "Page:1\n",
        "1/10"
       ]
      },
      {
       "output_type": "stream",
       "stream": "stdout",
       "text": [
        "   2/10   3/10   4/10   5/10   unicode problem! 6/10   7/10   8/10   9/10   \n",
        "Page:2\n",
        "1/10"
       ]
      },
      {
       "output_type": "stream",
       "stream": "stdout",
       "text": [
        "   2/10   3/10   4/10   5/10   6/10   7/10   8/10   9/10   10/10   \n",
        "Page:3\n",
        "1/10"
       ]
      },
      {
       "output_type": "stream",
       "stream": "stdout",
       "text": [
        "   2/10   3/10   4/10   5/10   6/10   7/10   8/10   unicode problem! 9/10   \n",
        "Page:4\n",
        "unicode problem!"
       ]
      },
      {
       "output_type": "stream",
       "stream": "stdout",
       "text": [
        " 1/10   2/10   3/10   4/10   5/10   6/10   7/10   8/10   9/10   \n",
        "Page:5\n",
        "1/10"
       ]
      },
      {
       "output_type": "stream",
       "stream": "stdout",
       "text": [
        "   2/10   3/10   4/10   5/10   6/10   7/10   unicode problem! 8/10   9/10   \n",
        "Page:6\n",
        "unicode problem!"
       ]
      },
      {
       "output_type": "stream",
       "stream": "stdout",
       "text": [
        " unicode problem! 1/10   2/10   3/10   4/10   5/10   6/10   unicode problem! 7/10   \n",
        "Page:7\n",
        "1/10"
       ]
      },
      {
       "output_type": "stream",
       "stream": "stdout",
       "text": [
        "   2/10   3/10   4/10   5/10   6/10   7/10   8/10   9/10   10/10   \n",
        "Page:8\n",
        "1/10"
       ]
      },
      {
       "output_type": "stream",
       "stream": "stdout",
       "text": [
        "   2/10   3/10   4/10   5/10   6/10   7/10   8/10   9/10   10/10   \n",
        "Page:9\n",
        "1/10"
       ]
      },
      {
       "output_type": "stream",
       "stream": "stdout",
       "text": [
        "   unicode problem! 2/10   3/10   4/10   5/10   6/10   7/10   8/10   9/10   \n",
        "Page:0\n",
        "1/10"
       ]
      },
      {
       "output_type": "stream",
       "stream": "stdout",
       "text": [
        "   2/10   3/10   4/10   5/10   6/10   7/10   8/10   9/10   10/10   \n",
        "Page:1\n",
        "1/10"
       ]
      },
      {
       "output_type": "stream",
       "stream": "stdout",
       "text": [
        "   unicode problem! 2/10   3/10   unicode problem! 4/10   5/10   6/10   7/10   8/10   \n",
        "Page:2\n",
        "cannot fetch tweet_url, donno why..."
       ]
      },
      {
       "output_type": "stream",
       "stream": "stdout",
       "text": [
        " 1/10   2/10   3/10   4/10   unicode problem! 5/10   6/10   7/10   unicode problem! \n",
        "Page:3\n",
        "1/10"
       ]
      },
      {
       "output_type": "stream",
       "stream": "stdout",
       "text": [
        "   2/10   unicode problem! 3/10   4/10   5/10   6/10   7/10   8/10   9/10   \n",
        "Page:4\n",
        "1/10"
       ]
      },
      {
       "output_type": "stream",
       "stream": "stdout",
       "text": [
        "   2/10   3/10   4/10   5/10   6/10   7/10   8/10   9/10   10/10   \n",
        "Page:5\n",
        "unicode problem!"
       ]
      },
      {
       "output_type": "stream",
       "stream": "stdout",
       "text": [
        " 1/10   2/10   unicode problem! 3/10   unicode problem! 4/10   5/10   6/10   7/10   \n",
        "Page:6\n",
        "1/10"
       ]
      },
      {
       "output_type": "stream",
       "stream": "stdout",
       "text": [
        "   unicode problem! 2/10   3/10   4/10   unicode problem! 5/10   6/10   7/10   8/10   \n",
        "Page:7\n",
        "1/10"
       ]
      },
      {
       "output_type": "stream",
       "stream": "stdout",
       "text": [
        "   2/10   3/10   unicode problem! 4/10   5/10   6/10   7/10   8/10   9/10   \n",
        "Page:8\n",
        "1/10"
       ]
      },
      {
       "output_type": "stream",
       "stream": "stdout",
       "text": [
        "   2/10   3/10   4/10   5/10   6/10   7/10   8/10   9/10   10/10   \n",
        "Page:9\n"
       ]
      }
     ],
     "prompt_number": 209
    },
    {
     "cell_type": "code",
     "collapsed": false,
     "input": [
      "#iOS 5 searching contents:\n",
      "search_con = '\\\"iOS 5\\\"' #run again using 'iOS5'\n",
      "t_const = 1317945611\n",
      "list_sin_until_time = getSUTimeList(t_const)\n",
      "t_since = list_sin_until_time[0]\n",
      "t_until = list_sin_until_time[1]\n",
      "\n",
      "page_num = 0 #page #, 1/2/3/4/5...\n",
      "lang = 'en'\n",
      "sort = ['-date','date']#newest or oldest\n",
      "\n",
      "search_url = 'http://topsy.com/s?q=' + search_con + '&type=tweet&sort=' + sort[0] + '&language=' + lang + '&offset=' + str(page_num) + '0&mintime=' + t_since + '&maxtime=' + t_until\n",
      "\n",
      "print search_url"
     ],
     "language": "python",
     "metadata": {},
     "outputs": [
      {
       "output_type": "stream",
       "stream": "stdout",
       "text": [
        "['1317945611', '1318032011', '1318118411', '1318204811', '1318291211', '1318377611', '1318464011', '1318550411', '1318636811', '1318723211']\n",
        "http://topsy.com/s?q=\"iOS 5\"&type=tweet&sort=-date&language=en&offset=00&mintime=1317945611&maxtime=1318032011\n"
       ]
      }
     ],
     "prompt_number": 210
    },
    {
     "cell_type": "code",
     "collapsed": false,
     "input": [
      "#insert in to table ios_five_tweets\n",
      "tbl_name = 'ios_five_tweets'\n",
      "for sort_index in range(2):\n",
      "    for since_until_index in range(9):\n",
      "        for page_num in range(10):\n",
      "            myDBInsert(dbuser, dbpsw, dbname, tbl_name, search_con, list_sin_until_time[since_until_index],\n",
      "                       list_sin_until_time[since_until_index + 1], page_num, lang, sort[sort_index])"
     ],
     "language": "python",
     "metadata": {},
     "outputs": [
      {
       "output_type": "stream",
       "stream": "stdout",
       "text": [
        "1/10   2/10   3/10   4/10   5/10   6/10   unicode problem! 7/10   8/10   9/10   \n",
        "Page:0\n",
        "unicode problem!"
       ]
      },
      {
       "output_type": "stream",
       "stream": "stdout",
       "text": [
        " 1/10   2/10   3/10   4/10   unicode problem! 5/10   6/10   7/10   8/10   \n",
        "Page:1\n",
        "1/10"
       ]
      },
      {
       "output_type": "stream",
       "stream": "stdout",
       "text": [
        "   2/10   3/10   unicode problem! unicode problem! 4/10   5/10   6/10   7/10   8/10   \n",
        "Page:2\n",
        "unicode problem!"
       ]
      },
      {
       "output_type": "stream",
       "stream": "stdout",
       "text": [
        " 1/10   2/10   3/10   unicode problem! 4/10   unicode problem! 5/10   6/10   7/10   \n",
        "Page:3\n",
        "1/10"
       ]
      },
      {
       "output_type": "stream",
       "stream": "stdout",
       "text": [
        "   2/10   3/10   4/10   5/10   6/10   7/10   8/10   9/10   10/10   \n",
        "Page:4\n",
        "1/10"
       ]
      },
      {
       "output_type": "stream",
       "stream": "stdout",
       "text": [
        "   2/10   3/10   4/10   5/10   6/10   7/10   8/10   9/10   10/10   \n",
        "Page:5\n",
        "1/10"
       ]
      },
      {
       "output_type": "stream",
       "stream": "stdout",
       "text": [
        "   2/10   3/10   4/10   5/10   6/10   7/10   8/10   9/10   10/10   \n",
        "Page:6\n",
        "1/10"
       ]
      },
      {
       "output_type": "stream",
       "stream": "stdout",
       "text": [
        "   2/10   3/10   4/10   unicode problem! 5/10   unicode problem! 6/10   7/10   8/10   \n",
        "Page:7\n",
        "1/10"
       ]
      },
      {
       "output_type": "stream",
       "stream": "stdout",
       "text": [
        "   2/10   3/10   4/10   5/10   6/10   7/10   8/10   9/10   10/10   \n",
        "Page:8\n",
        "1/10"
       ]
      },
      {
       "output_type": "stream",
       "stream": "stdout",
       "text": [
        "   2/10   3/10   4/10   5/10   6/10   7/10   8/10   9/10   10/10   \n",
        "Page:9\n",
        "1/10"
       ]
      },
      {
       "output_type": "stream",
       "stream": "stdout",
       "text": [
        "   2/10   3/10   4/10   5/10   6/10   7/10   8/10   9/10   10/10   \n",
        "Page:0\n",
        "unicode problem!"
       ]
      },
      {
       "output_type": "stream",
       "stream": "stdout",
       "text": [
        " unicode problem! 1/10   2/10   3/10   4/10   5/10   unicode problem! 6/10   7/10   \n",
        "Page:1\n",
        "1/10"
       ]
      },
      {
       "output_type": "stream",
       "stream": "stdout",
       "text": [
        "   unicode problem! 2/10   3/10   4/10   5/10   unicode problem! unicode problem! 6/10   7/10   \n",
        "Page:2\n",
        "1/10"
       ]
      },
      {
       "output_type": "stream",
       "stream": "stdout",
       "text": [
        "   2/10   3/10   4/10   5/10   6/10   7/10   8/10   9/10   10/10   \n",
        "Page:3\n",
        "1/10"
       ]
      },
      {
       "output_type": "stream",
       "stream": "stdout",
       "text": [
        "   2/10   unicode problem! 3/10   unicode problem! 4/10   5/10   6/10   unicode problem! unicode problem! \n",
        "Page:4\n",
        "unicode problem!"
       ]
      },
      {
       "output_type": "stream",
       "stream": "stdout",
       "text": [
        " 1/10   unicode problem! 2/10   3/10   4/10   5/10   6/10   7/10   8/10   \n",
        "Page:5\n",
        "1/10"
       ]
      },
      {
       "output_type": "stream",
       "stream": "stdout",
       "text": [
        "   2/10   3/10   unicode problem! unicode problem! 4/10   5/10   6/10   unicode problem! 7/10   \n",
        "Page:6\n",
        "1/10"
       ]
      },
      {
       "output_type": "stream",
       "stream": "stdout",
       "text": [
        "   2/10   3/10   4/10   5/10   6/10   7/10   unicode problem! 8/10   unicode problem! \n",
        "Page:7\n",
        "1/10"
       ]
      },
      {
       "output_type": "stream",
       "stream": "stdout",
       "text": [
        "   2/10   3/10   4/10   5/10   6/10   7/10   8/10   unicode problem! 9/10   \n",
        "Page:8\n",
        "unicode problem!"
       ]
      },
      {
       "output_type": "stream",
       "stream": "stdout",
       "text": [
        " 1/10   2/10   unicode problem! 3/10   4/10   5/10   unicode problem! 6/10   7/10   \n",
        "Page:9\n",
        "1/10"
       ]
      },
      {
       "output_type": "stream",
       "stream": "stdout",
       "text": [
        "   unicode problem! unicode problem! 2/10   3/10   4/10   5/10   6/10   7/10   8/10   \n",
        "Page:0\n",
        "1/10"
       ]
      },
      {
       "output_type": "stream",
       "stream": "stdout",
       "text": [
        "   2/10   3/10   4/10   unicode problem! 5/10   6/10   7/10   8/10   9/10   \n",
        "Page:1\n",
        "1/10"
       ]
      },
      {
       "output_type": "stream",
       "stream": "stdout",
       "text": [
        "   2/10   3/10   4/10   5/10   6/10   7/10   8/10   9/10   10/10   \n",
        "Page:2\n",
        "1/10"
       ]
      },
      {
       "output_type": "stream",
       "stream": "stdout",
       "text": [
        "   2/10   3/10   unicode problem! 4/10   5/10   6/10   7/10   8/10   9/10   \n",
        "Page:3\n",
        "1/10"
       ]
      },
      {
       "output_type": "stream",
       "stream": "stdout",
       "text": [
        "   2/10   3/10   unicode problem! 4/10   5/10   6/10   7/10   8/10   9/10   \n",
        "Page:4\n",
        "1/10"
       ]
      },
      {
       "output_type": "stream",
       "stream": "stdout",
       "text": [
        "   2/10   3/10   4/10   5/10   unicode problem! 6/10   7/10   8/10   9/10   \n",
        "Page:5\n",
        "1/10"
       ]
      },
      {
       "output_type": "stream",
       "stream": "stdout",
       "text": [
        "   2/10   unicode problem! 3/10   4/10   unicode problem! 5/10   6/10   7/10   8/10   \n",
        "Page:6\n",
        "1/10"
       ]
      },
      {
       "output_type": "stream",
       "stream": "stdout",
       "text": [
        "   unicode problem! unicode problem! 2/10   3/10   4/10   5/10   unicode problem! 6/10   7/10   \n",
        "Page:7\n",
        "1/10"
       ]
      },
      {
       "output_type": "stream",
       "stream": "stdout",
       "text": [
        "   2/10   3/10   4/10   5/10   6/10   unicode problem! unicode problem! 7/10   8/10   \n",
        "Page:8\n",
        "1/10"
       ]
      },
      {
       "output_type": "stream",
       "stream": "stdout",
       "text": [
        "   2/10   3/10   4/10   5/10   6/10   7/10   8/10   9/10   10/10   \n",
        "Page:9\n",
        "unicode problem!"
       ]
      },
      {
       "output_type": "stream",
       "stream": "stdout",
       "text": [
        " 1/10   2/10   3/10   4/10   5/10   6/10   7/10   8/10   9/10   \n",
        "Page:0\n",
        "1/10"
       ]
      },
      {
       "output_type": "stream",
       "stream": "stdout",
       "text": [
        "   2/10   3/10   4/10   unicode problem! 5/10   6/10   7/10   8/10   9/10   \n",
        "Page:1\n",
        "unicode problem!"
       ]
      },
      {
       "output_type": "stream",
       "stream": "stdout",
       "text": [
        " 1/10   2/10   3/10   4/10   5/10   6/10   7/10   unicode problem! 8/10   \n",
        "Page:2\n",
        "unicode problem!"
       ]
      },
      {
       "output_type": "stream",
       "stream": "stdout",
       "text": [
        " 1/10   2/10   unicode problem! 3/10   unicode problem! 4/10   unicode problem! 5/10   unicode problem! \n",
        "Page:3\n",
        "1/10"
       ]
      },
      {
       "output_type": "stream",
       "stream": "stdout",
       "text": [
        "   2/10   unicode problem! unicode problem! unicode problem! unicode problem! unicode problem! 3/10   4/10   unicode problem! \n",
        "Page:4\n",
        "1/10"
       ]
      },
      {
       "output_type": "stream",
       "stream": "stdout",
       "text": [
        "   2/10   3/10   4/10   5/10   unicode problem! 6/10   7/10   8/10   unicode problem! \n",
        "Page:5\n",
        "1/10"
       ]
      },
      {
       "output_type": "stream",
       "stream": "stdout",
       "text": [
        "   unicode problem! unicode problem! 2/10   3/10   4/10   5/10   unicode problem! unicode problem! 6/10   \n",
        "Page:6\n",
        "1/10"
       ]
      },
      {
       "output_type": "stream",
       "stream": "stdout",
       "text": [
        "   2/10   3/10   4/10   5/10   6/10   7/10   8/10   9/10   unicode problem! \n",
        "Page:7\n",
        "1/10"
       ]
      },
      {
       "output_type": "stream",
       "stream": "stdout",
       "text": [
        "   2/10   3/10   4/10   5/10   6/10   7/10   8/10   9/10   10/10   \n",
        "Page:8\n",
        "1/10"
       ]
      },
      {
       "output_type": "stream",
       "stream": "stdout",
       "text": [
        "   2/10   unicode problem! 3/10   4/10   5/10   6/10   7/10   8/10   9/10   \n",
        "Page:9\n",
        "1/10"
       ]
      },
      {
       "output_type": "stream",
       "stream": "stdout",
       "text": [
        "   2/10   3/10   4/10   5/10   6/10   7/10   8/10   unicode problem! 9/10   \n",
        "Page:0\n",
        "1/10"
       ]
      },
      {
       "output_type": "stream",
       "stream": "stdout",
       "text": [
        "   unicode problem! 2/10   3/10   4/10   5/10   6/10   7/10   8/10   9/10   \n",
        "Page:1\n",
        "1/10"
       ]
      },
      {
       "output_type": "stream",
       "stream": "stdout",
       "text": [
        "   2/10   3/10   4/10   unicode problem! 5/10   6/10   7/10   unicode problem! 8/10   \n",
        "Page:2\n",
        "1/10"
       ]
      },
      {
       "output_type": "stream",
       "stream": "stdout",
       "text": [
        "   2/10   3/10   4/10   5/10   6/10   7/10   8/10   9/10   10/10   \n",
        "Page:3\n",
        "unicode problem!"
       ]
      },
      {
       "output_type": "stream",
       "stream": "stdout",
       "text": [
        " 1/10   2/10   3/10   4/10   5/10   6/10   7/10   8/10   9/10   \n",
        "Page:4\n",
        "1/10"
       ]
      },
      {
       "output_type": "stream",
       "stream": "stdout",
       "text": [
        "   2/10   unicode problem! 3/10   4/10   5/10   6/10   7/10   8/10   9/10   \n",
        "Page:5\n",
        "1/10"
       ]
      },
      {
       "output_type": "stream",
       "stream": "stdout",
       "text": [
        "   2/10   3/10   unicode problem! 4/10   5/10   6/10   7/10   8/10   unicode problem! \n",
        "Page:6\n",
        "1/10"
       ]
      },
      {
       "output_type": "stream",
       "stream": "stdout",
       "text": [
        "   2/10   3/10   4/10   5/10   6/10   7/10   8/10   9/10   10/10   \n",
        "Page:7\n",
        "1/10"
       ]
      },
      {
       "output_type": "stream",
       "stream": "stdout",
       "text": [
        "   2/10   unicode problem! unicode problem! 3/10   4/10   unicode problem! 5/10   6/10   7/10   \n",
        "Page:8\n",
        "1/10"
       ]
      },
      {
       "output_type": "stream",
       "stream": "stdout",
       "text": [
        "   2/10   3/10   4/10   5/10   6/10   7/10   8/10   9/10   10/10   \n",
        "Page:9\n",
        "1/10"
       ]
      },
      {
       "output_type": "stream",
       "stream": "stdout",
       "text": [
        "   2/10   unicode problem! 3/10   4/10   5/10   6/10   7/10   8/10   9/10   \n",
        "Page:0\n",
        "1/10"
       ]
      },
      {
       "output_type": "stream",
       "stream": "stdout",
       "text": [
        "   unicode problem! 2/10   3/10   4/10   5/10   6/10   unicode problem! 7/10   8/10   \n",
        "Page:1\n",
        "1/10"
       ]
      },
      {
       "output_type": "stream",
       "stream": "stdout",
       "text": [
        "   unicode problem! 2/10   3/10   unicode problem! unicode problem! 4/10   unicode problem! 5/10   6/10   \n",
        "Page:2\n",
        "1/10"
       ]
      },
      {
       "output_type": "stream",
       "stream": "stdout",
       "text": [
        "   2/10   3/10   4/10   unicode problem! 5/10   6/10   7/10   8/10   unicode problem! \n",
        "Page:3\n",
        "1/10"
       ]
      },
      {
       "output_type": "stream",
       "stream": "stdout",
       "text": [
        "   2/10   3/10   4/10   5/10   6/10   7/10   8/10   unicode problem! 9/10   \n",
        "Page:4\n",
        "1/10"
       ]
      },
      {
       "output_type": "stream",
       "stream": "stdout",
       "text": [
        "   2/10   3/10   4/10   5/10   6/10   7/10   unicode problem! unicode problem! 8/10   \n",
        "Page:5\n",
        "1/10"
       ]
      },
      {
       "output_type": "stream",
       "stream": "stdout",
       "text": [
        "   2/10   3/10   unicode problem! 4/10   5/10   6/10   unicode problem! unicode problem! 7/10   \n",
        "Page:6\n",
        "unicode problem!"
       ]
      },
      {
       "output_type": "stream",
       "stream": "stdout",
       "text": [
        " 1/10   2/10   3/10   4/10   unicode problem! 5/10   unicode problem! 6/10   7/10   \n",
        "Page:7\n",
        "1/10"
       ]
      },
      {
       "output_type": "stream",
       "stream": "stdout",
       "text": [
        "   2/10   3/10   4/10   unicode problem! 5/10   6/10   7/10   8/10   9/10   \n",
        "Page:8\n",
        "1/10"
       ]
      },
      {
       "output_type": "stream",
       "stream": "stdout",
       "text": [
        "   2/10   3/10   4/10   5/10   6/10   7/10   8/10   9/10   10/10   \n",
        "Page:9\n",
        "1/10"
       ]
      },
      {
       "output_type": "stream",
       "stream": "stdout",
       "text": [
        "   2/10   3/10   unicode problem! unicode problem! unicode problem! 4/10   5/10   6/10   7/10   \n",
        "Page:0\n",
        "1/10"
       ]
      },
      {
       "output_type": "stream",
       "stream": "stdout",
       "text": [
        "   2/10   3/10   4/10   5/10   6/10   7/10   8/10   unicode problem! 9/10   \n",
        "Page:1\n",
        "1/10"
       ]
      },
      {
       "output_type": "stream",
       "stream": "stdout",
       "text": [
        "   2/10   3/10   unicode problem! 4/10   5/10   6/10   7/10   8/10   9/10   \n",
        "Page:2\n",
        "1/10"
       ]
      },
      {
       "output_type": "stream",
       "stream": "stdout",
       "text": [
        "   unicode problem! 2/10   3/10   4/10   5/10   6/10   7/10   8/10   9/10   \n",
        "Page:3\n",
        "unicode problem!"
       ]
      },
      {
       "output_type": "stream",
       "stream": "stdout",
       "text": [
        " 1/10   2/10   3/10   4/10   5/10   6/10   7/10   8/10   unicode problem! \n",
        "Page:4\n",
        "1/10"
       ]
      },
      {
       "output_type": "stream",
       "stream": "stdout",
       "text": [
        "   2/10   3/10   unicode problem! 4/10   5/10   6/10   7/10   8/10   9/10   \n",
        "Page:5\n",
        "1/10"
       ]
      },
      {
       "output_type": "stream",
       "stream": "stdout",
       "text": [
        "   2/10   3/10   4/10   5/10   6/10   7/10   8/10   unicode problem! unicode problem! \n",
        "Page:6\n",
        "unicode problem!"
       ]
      },
      {
       "output_type": "stream",
       "stream": "stdout",
       "text": [
        " 1/10   2/10   3/10   unicode problem! 4/10   unicode problem! 5/10   6/10   7/10   \n",
        "Page:7\n",
        "1/10"
       ]
      },
      {
       "output_type": "stream",
       "stream": "stdout",
       "text": [
        "   2/10   3/10   4/10   5/10   unicode problem! 6/10   7/10   8/10   9/10   \n",
        "Page:8\n",
        "1/10"
       ]
      },
      {
       "output_type": "stream",
       "stream": "stdout",
       "text": [
        "   2/10   3/10   4/10   unicode problem! 5/10   6/10   unicode problem! 7/10   8/10   \n",
        "Page:9\n",
        "1/10"
       ]
      },
      {
       "output_type": "stream",
       "stream": "stdout",
       "text": [
        "   unicode problem! 2/10   3/10   unicode problem! 4/10   unicode problem! 5/10   6/10   7/10   \n",
        "Page:0\n",
        "1/10"
       ]
      },
      {
       "output_type": "stream",
       "stream": "stdout",
       "text": [
        "   unicode problem! unicode problem! 2/10   unicode problem! unicode problem! 3/10   unicode problem! 4/10   5/10   \n",
        "Page:1\n",
        "1/10"
       ]
      },
      {
       "output_type": "stream",
       "stream": "stdout",
       "text": [
        "   unicode problem! 2/10   3/10   unicode problem! unicode problem! 4/10   5/10   6/10   7/10   \n",
        "Page:2\n",
        "1/10"
       ]
      },
      {
       "output_type": "stream",
       "stream": "stdout",
       "text": [
        "   2/10   3/10   unicode problem! 4/10   5/10   6/10   7/10   unicode problem! unicode problem! \n",
        "Page:3\n",
        "unicode problem!"
       ]
      },
      {
       "output_type": "stream",
       "stream": "stdout",
       "text": [
        " 1/10   2/10   3/10   unicode problem! 4/10   5/10   unicode problem! 6/10   7/10   \n",
        "Page:4\n",
        "unicode problem!"
       ]
      },
      {
       "output_type": "stream",
       "stream": "stdout",
       "text": [
        " 1/10   2/10   3/10   4/10   unicode problem! 5/10   unicode problem! 6/10   unicode problem! \n",
        "Page:5\n",
        "1/10"
       ]
      },
      {
       "output_type": "stream",
       "stream": "stdout",
       "text": [
        "   2/10   3/10   4/10   5/10   6/10   unicode problem! 7/10   unicode problem! unicode problem! \n",
        "Page:6\n",
        "1/10"
       ]
      },
      {
       "output_type": "stream",
       "stream": "stdout",
       "text": [
        "   2/10   3/10   4/10   5/10   6/10   7/10   8/10   9/10   10/10   \n",
        "Page:7\n",
        "1/10"
       ]
      },
      {
       "output_type": "stream",
       "stream": "stdout",
       "text": [
        "   2/10   3/10   unicode problem! 4/10   unicode problem! 5/10   6/10   7/10   8/10   \n",
        "Page:8\n",
        "unicode problem!"
       ]
      },
      {
       "output_type": "stream",
       "stream": "stdout",
       "text": [
        " 1/10   2/10   3/10   unicode problem! 4/10   5/10   6/10   7/10   8/10   \n",
        "Page:9\n",
        "1/10"
       ]
      },
      {
       "output_type": "stream",
       "stream": "stdout",
       "text": [
        "   2/10   3/10   4/10   5/10   6/10   unicode problem! 7/10   8/10   unicode problem! \n",
        "Page:0\n",
        "1/10"
       ]
      },
      {
       "output_type": "stream",
       "stream": "stdout",
       "text": [
        "   2/10   3/10   4/10   5/10   unicode problem! unicode problem! unicode problem! 6/10   7/10   \n",
        "Page:1\n",
        "unicode problem!"
       ]
      },
      {
       "output_type": "stream",
       "stream": "stdout",
       "text": [
        " unicode problem! 1/10   2/10   3/10   4/10   5/10   unicode problem! 6/10   7/10   \n",
        "Page:2\n",
        "1/10"
       ]
      },
      {
       "output_type": "stream",
       "stream": "stdout",
       "text": [
        "   2/10   3/10   4/10   5/10   6/10   unicode problem! 7/10   8/10   9/10   \n",
        "Page:3\n",
        "1/10"
       ]
      },
      {
       "output_type": "stream",
       "stream": "stdout",
       "text": [
        "   2/10   3/10   4/10   5/10   unicode problem! 6/10   7/10   8/10   9/10   \n",
        "Page:4\n",
        "unicode problem!"
       ]
      },
      {
       "output_type": "stream",
       "stream": "stdout",
       "text": [
        " unicode problem! 1/10   2/10   3/10   4/10   5/10   6/10   7/10   8/10   \n",
        "Page:5\n",
        "1/10"
       ]
      },
      {
       "output_type": "stream",
       "stream": "stdout",
       "text": [
        "   2/10   3/10   unicode problem! 4/10   5/10   6/10   7/10   8/10   9/10   \n",
        "Page:6\n",
        "1/10"
       ]
      },
      {
       "output_type": "stream",
       "stream": "stdout",
       "text": [
        "   unicode problem! 2/10   3/10   4/10   5/10   6/10   7/10   8/10   9/10   \n",
        "Page:7\n",
        "1/10"
       ]
      },
      {
       "output_type": "stream",
       "stream": "stdout",
       "text": [
        "   2/10   3/10   4/10   5/10   unicode problem! 6/10   7/10   8/10   9/10   \n",
        "Page:8\n",
        "1/10"
       ]
      },
      {
       "output_type": "stream",
       "stream": "stdout",
       "text": [
        "   2/10   3/10   4/10   5/10   6/10   7/10   8/10   9/10   10/10   \n",
        "Page:9\n",
        "1/10"
       ]
      },
      {
       "output_type": "stream",
       "stream": "stdout",
       "text": [
        "   2/10   3/10   4/10   5/10   6/10   unicode problem! 7/10   8/10   9/10   \n",
        "Page:0\n",
        "unicode problem!"
       ]
      },
      {
       "output_type": "stream",
       "stream": "stdout",
       "text": [
        " 1/10   2/10   3/10   4/10   unicode problem! 5/10   6/10   7/10   8/10   \n",
        "Page:1\n",
        "1/10"
       ]
      },
      {
       "output_type": "stream",
       "stream": "stdout",
       "text": [
        "   2/10   3/10   unicode problem! unicode problem! 4/10   5/10   6/10   7/10   8/10   \n",
        "Page:2\n",
        "unicode problem!"
       ]
      },
      {
       "output_type": "stream",
       "stream": "stdout",
       "text": [
        " 1/10   2/10   3/10   unicode problem! 4/10   unicode problem! 5/10   6/10   7/10   \n",
        "Page:3\n",
        "1/10"
       ]
      },
      {
       "output_type": "stream",
       "stream": "stdout",
       "text": [
        "   2/10   3/10   4/10   5/10   6/10   7/10   8/10   9/10   10/10   \n",
        "Page:4\n",
        "1/10"
       ]
      },
      {
       "output_type": "stream",
       "stream": "stdout",
       "text": [
        "   2/10   3/10   4/10   5/10   6/10   7/10   8/10   9/10   10/10   \n",
        "Page:5\n",
        "1/10"
       ]
      },
      {
       "output_type": "stream",
       "stream": "stdout",
       "text": [
        "   2/10   3/10   4/10   5/10   6/10   7/10   8/10   9/10   10/10   \n",
        "Page:6\n",
        "1/10"
       ]
      },
      {
       "output_type": "stream",
       "stream": "stdout",
       "text": [
        "   2/10   3/10   4/10   unicode problem! 5/10   unicode problem! 6/10   7/10   8/10   \n",
        "Page:7\n",
        "1/10"
       ]
      },
      {
       "output_type": "stream",
       "stream": "stdout",
       "text": [
        "   2/10   3/10   4/10   5/10   6/10   7/10   8/10   9/10   10/10   \n",
        "Page:8\n",
        "1/10"
       ]
      },
      {
       "output_type": "stream",
       "stream": "stdout",
       "text": [
        "   2/10   3/10   4/10   5/10   6/10   7/10   8/10   9/10   10/10   \n",
        "Page:9\n",
        "1/10"
       ]
      },
      {
       "output_type": "stream",
       "stream": "stdout",
       "text": [
        "   2/10   3/10   4/10   5/10   6/10   7/10   8/10   9/10   10/10   \n",
        "Page:0\n",
        "unicode problem!"
       ]
      },
      {
       "output_type": "stream",
       "stream": "stdout",
       "text": [
        " unicode problem! 1/10   2/10   3/10   4/10   5/10   unicode problem! 6/10   7/10   \n",
        "Page:1\n",
        "1/10"
       ]
      },
      {
       "output_type": "stream",
       "stream": "stdout",
       "text": [
        "   unicode problem! 2/10   3/10   4/10   5/10   unicode problem! unicode problem! 6/10   7/10   \n",
        "Page:2\n",
        "1/10"
       ]
      },
      {
       "output_type": "stream",
       "stream": "stdout",
       "text": [
        "   2/10   3/10   4/10   5/10   6/10   7/10   8/10   9/10   10/10   \n",
        "Page:3\n",
        "1/10"
       ]
      },
      {
       "output_type": "stream",
       "stream": "stdout",
       "text": [
        "   2/10   unicode problem! 3/10   unicode problem! 4/10   5/10   6/10   unicode problem! unicode problem! \n",
        "Page:4\n",
        "unicode problem!"
       ]
      },
      {
       "output_type": "stream",
       "stream": "stdout",
       "text": [
        " 1/10   unicode problem! 2/10   3/10   4/10   5/10   6/10   7/10   8/10   \n",
        "Page:5\n",
        "1/10"
       ]
      },
      {
       "output_type": "stream",
       "stream": "stdout",
       "text": [
        "   2/10   3/10   unicode problem! unicode problem! 4/10   5/10   6/10   unicode problem! 7/10   \n",
        "Page:6\n",
        "1/10"
       ]
      },
      {
       "output_type": "stream",
       "stream": "stdout",
       "text": [
        "   2/10   3/10   4/10   5/10   6/10   7/10   unicode problem! 8/10   unicode problem! \n",
        "Page:7\n",
        "1/10"
       ]
      },
      {
       "output_type": "stream",
       "stream": "stdout",
       "text": [
        "   2/10   3/10   4/10   5/10   6/10   7/10   8/10   unicode problem! 9/10   \n",
        "Page:8\n",
        "unicode problem!"
       ]
      },
      {
       "output_type": "stream",
       "stream": "stdout",
       "text": [
        " 1/10   2/10   unicode problem! 3/10   4/10   5/10   unicode problem! 6/10   7/10   \n",
        "Page:9\n",
        "1/10"
       ]
      },
      {
       "output_type": "stream",
       "stream": "stdout",
       "text": [
        "   unicode problem! unicode problem! 2/10   3/10   4/10   5/10   6/10   7/10   8/10   \n",
        "Page:0\n",
        "1/10"
       ]
      },
      {
       "output_type": "stream",
       "stream": "stdout",
       "text": [
        "   2/10   3/10   4/10   unicode problem! 5/10   6/10   7/10   8/10   9/10   \n",
        "Page:1\n",
        "1/10"
       ]
      },
      {
       "output_type": "stream",
       "stream": "stdout",
       "text": [
        "   2/10   3/10   4/10   5/10   6/10   7/10   8/10   9/10   10/10   \n",
        "Page:2\n",
        "1/10"
       ]
      },
      {
       "output_type": "stream",
       "stream": "stdout",
       "text": [
        "   2/10   3/10   unicode problem! 4/10   5/10   6/10   7/10   8/10   9/10   \n",
        "Page:3\n",
        "1/10"
       ]
      },
      {
       "output_type": "stream",
       "stream": "stdout",
       "text": [
        "   2/10   3/10   unicode problem! 4/10   5/10   6/10   7/10   8/10   9/10   \n",
        "Page:4\n",
        "1/10"
       ]
      },
      {
       "output_type": "stream",
       "stream": "stdout",
       "text": [
        "   2/10   3/10   4/10   5/10   unicode problem! 6/10   7/10   8/10   9/10   \n",
        "Page:5\n",
        "1/10"
       ]
      },
      {
       "output_type": "stream",
       "stream": "stdout",
       "text": [
        "   2/10   unicode problem! 3/10   4/10   unicode problem! 5/10   6/10   7/10   8/10   \n",
        "Page:6\n",
        "1/10"
       ]
      },
      {
       "output_type": "stream",
       "stream": "stdout",
       "text": [
        "   unicode problem! unicode problem! 2/10   3/10   4/10   5/10   unicode problem! 6/10   7/10   \n",
        "Page:7\n",
        "1/10"
       ]
      },
      {
       "output_type": "stream",
       "stream": "stdout",
       "text": [
        "   2/10   3/10   4/10   5/10   6/10   unicode problem! unicode problem! 7/10   8/10   \n",
        "Page:8\n",
        "1/10"
       ]
      },
      {
       "output_type": "stream",
       "stream": "stdout",
       "text": [
        "   2/10   3/10   4/10   5/10   6/10   7/10   8/10   9/10   10/10   \n",
        "Page:9\n",
        "unicode problem!"
       ]
      },
      {
       "output_type": "stream",
       "stream": "stdout",
       "text": [
        " 1/10   2/10   3/10   4/10   5/10   6/10   7/10   8/10   9/10   \n",
        "Page:0\n",
        "1/10"
       ]
      },
      {
       "output_type": "stream",
       "stream": "stdout",
       "text": [
        "   2/10   3/10   4/10   unicode problem! 5/10   6/10   7/10   8/10   9/10   \n",
        "Page:1\n",
        "unicode problem!"
       ]
      },
      {
       "output_type": "stream",
       "stream": "stdout",
       "text": [
        " 1/10   2/10   3/10   4/10   5/10   6/10   7/10   unicode problem! 8/10   \n",
        "Page:2\n",
        "unicode problem!"
       ]
      },
      {
       "output_type": "stream",
       "stream": "stdout",
       "text": [
        " 1/10   2/10   unicode problem! 3/10   unicode problem! 4/10   unicode problem! 5/10   unicode problem! \n",
        "Page:3\n",
        "1/10"
       ]
      },
      {
       "output_type": "stream",
       "stream": "stdout",
       "text": [
        "   2/10   unicode problem! unicode problem! unicode problem! unicode problem! unicode problem! 3/10   4/10   unicode problem! \n",
        "Page:4\n",
        "1/10"
       ]
      },
      {
       "output_type": "stream",
       "stream": "stdout",
       "text": [
        "   2/10   3/10   4/10   5/10   unicode problem! 6/10   7/10   8/10   unicode problem! \n",
        "Page:5\n",
        "1/10"
       ]
      },
      {
       "output_type": "stream",
       "stream": "stdout",
       "text": [
        "   unicode problem! unicode problem! 2/10   3/10   4/10   5/10   unicode problem! unicode problem! 6/10   \n",
        "Page:6\n",
        "1/10"
       ]
      },
      {
       "output_type": "stream",
       "stream": "stdout",
       "text": [
        "   2/10   3/10   4/10   5/10   6/10   7/10   8/10   9/10   unicode problem! \n",
        "Page:7\n",
        "1/10"
       ]
      },
      {
       "output_type": "stream",
       "stream": "stdout",
       "text": [
        "   2/10   3/10   4/10   5/10   6/10   7/10   8/10   9/10   10/10   \n",
        "Page:8\n",
        "1/10"
       ]
      },
      {
       "output_type": "stream",
       "stream": "stdout",
       "text": [
        "   2/10   unicode problem! 3/10   4/10   5/10   6/10   7/10   8/10   9/10   \n",
        "Page:9\n",
        "1/10"
       ]
      },
      {
       "output_type": "stream",
       "stream": "stdout",
       "text": [
        "   2/10   3/10   4/10   5/10   6/10   7/10   8/10   unicode problem! 9/10   \n",
        "Page:0\n",
        "1/10"
       ]
      },
      {
       "output_type": "stream",
       "stream": "stdout",
       "text": [
        "   unicode problem! 2/10   3/10   4/10   5/10   6/10   7/10   8/10   9/10   \n",
        "Page:1\n",
        "1/10"
       ]
      },
      {
       "output_type": "stream",
       "stream": "stdout",
       "text": [
        "   2/10   3/10   4/10   unicode problem! 5/10   6/10   7/10   unicode problem! 8/10   \n",
        "Page:2\n",
        "1/10"
       ]
      },
      {
       "output_type": "stream",
       "stream": "stdout",
       "text": [
        "   2/10   3/10   4/10   5/10   6/10   7/10   8/10   9/10   10/10   \n",
        "Page:3\n",
        "unicode problem!"
       ]
      },
      {
       "output_type": "stream",
       "stream": "stdout",
       "text": [
        " 1/10   2/10   3/10   4/10   5/10   6/10   7/10   8/10   9/10   \n",
        "Page:4\n",
        "1/10"
       ]
      },
      {
       "output_type": "stream",
       "stream": "stdout",
       "text": [
        "   2/10   unicode problem! 3/10   4/10   5/10   6/10   7/10   8/10   9/10   \n",
        "Page:5\n",
        "1/10"
       ]
      },
      {
       "output_type": "stream",
       "stream": "stdout",
       "text": [
        "   2/10   3/10   unicode problem! 4/10   5/10   6/10   7/10   8/10   unicode problem! \n",
        "Page:6\n",
        "1/10"
       ]
      },
      {
       "output_type": "stream",
       "stream": "stdout",
       "text": [
        "   2/10   3/10   4/10   5/10   6/10   7/10   8/10   9/10   10/10   \n",
        "Page:7\n",
        "1/10"
       ]
      },
      {
       "output_type": "stream",
       "stream": "stdout",
       "text": [
        "   2/10   unicode problem! unicode problem! 3/10   4/10   unicode problem! 5/10   6/10   7/10   \n",
        "Page:8\n",
        "1/10"
       ]
      },
      {
       "output_type": "stream",
       "stream": "stdout",
       "text": [
        "   2/10   3/10   4/10   5/10   6/10   7/10   8/10   9/10   10/10   \n",
        "Page:9\n",
        "1/10"
       ]
      },
      {
       "output_type": "stream",
       "stream": "stdout",
       "text": [
        "   2/10   unicode problem! 3/10   4/10   5/10   6/10   7/10   8/10   9/10   \n",
        "Page:0\n",
        "1/10"
       ]
      },
      {
       "output_type": "stream",
       "stream": "stdout",
       "text": [
        "   unicode problem! 2/10   3/10   4/10   5/10   6/10   unicode problem! 7/10   8/10   \n",
        "Page:1\n",
        "1/10"
       ]
      },
      {
       "output_type": "stream",
       "stream": "stdout",
       "text": [
        "   unicode problem! 2/10   3/10   unicode problem! unicode problem! 4/10   unicode problem! 5/10   6/10   \n",
        "Page:2\n",
        "1/10"
       ]
      },
      {
       "output_type": "stream",
       "stream": "stdout",
       "text": [
        "   2/10   3/10   4/10   unicode problem! 5/10   6/10   7/10   8/10   unicode problem! \n",
        "Page:3\n",
        "1/10"
       ]
      },
      {
       "output_type": "stream",
       "stream": "stdout",
       "text": [
        "   2/10   3/10   4/10   5/10   6/10   7/10   8/10   unicode problem! 9/10   \n",
        "Page:4\n",
        "1/10"
       ]
      },
      {
       "output_type": "stream",
       "stream": "stdout",
       "text": [
        "   2/10   3/10   4/10   5/10   6/10   7/10   unicode problem! unicode problem! 8/10   \n",
        "Page:5\n",
        "1/10"
       ]
      },
      {
       "output_type": "stream",
       "stream": "stdout",
       "text": [
        "   2/10   3/10   unicode problem! 4/10   5/10   6/10   unicode problem! unicode problem! 7/10   \n",
        "Page:6\n",
        "unicode problem!"
       ]
      },
      {
       "output_type": "stream",
       "stream": "stdout",
       "text": [
        " 1/10   2/10   3/10   4/10   unicode problem! 5/10   unicode problem! 6/10   7/10   \n",
        "Page:7\n",
        "1/10"
       ]
      },
      {
       "output_type": "stream",
       "stream": "stdout",
       "text": [
        "   2/10   3/10   4/10   unicode problem! 5/10   6/10   7/10   8/10   9/10   \n",
        "Page:8\n",
        "1/10"
       ]
      },
      {
       "output_type": "stream",
       "stream": "stdout",
       "text": [
        "   2/10   3/10   4/10   5/10   6/10   7/10   8/10   9/10   10/10   \n",
        "Page:9\n",
        "1/10"
       ]
      },
      {
       "output_type": "stream",
       "stream": "stdout",
       "text": [
        "   2/10   3/10   unicode problem! unicode problem! unicode problem! 4/10   5/10   6/10   7/10   \n",
        "Page:0\n",
        "1/10"
       ]
      },
      {
       "output_type": "stream",
       "stream": "stdout",
       "text": [
        "   2/10   3/10   4/10   5/10   6/10   7/10   8/10   unicode problem! 9/10   \n",
        "Page:1\n",
        "1/10"
       ]
      },
      {
       "output_type": "stream",
       "stream": "stdout",
       "text": [
        "   2/10   3/10   unicode problem! 4/10   5/10   6/10   7/10   8/10   9/10   \n",
        "Page:2\n",
        "1/10"
       ]
      },
      {
       "output_type": "stream",
       "stream": "stdout",
       "text": [
        "   unicode problem! 2/10   3/10   4/10   5/10   6/10   7/10   8/10   9/10   \n",
        "Page:3\n",
        "unicode problem!"
       ]
      },
      {
       "output_type": "stream",
       "stream": "stdout",
       "text": [
        " 1/10   2/10   3/10   4/10   5/10   6/10   7/10   8/10   unicode problem! \n",
        "Page:4\n",
        "1/10"
       ]
      },
      {
       "output_type": "stream",
       "stream": "stdout",
       "text": [
        "   2/10   3/10   unicode problem! 4/10   5/10   6/10   7/10   8/10   9/10   \n",
        "Page:5\n",
        "1/10"
       ]
      },
      {
       "output_type": "stream",
       "stream": "stdout",
       "text": [
        "   2/10   3/10   4/10   5/10   6/10   7/10   8/10   unicode problem! unicode problem! \n",
        "Page:6\n",
        "unicode problem!"
       ]
      },
      {
       "output_type": "stream",
       "stream": "stdout",
       "text": [
        " 1/10   2/10   3/10   unicode problem! 4/10   unicode problem! 5/10   6/10   7/10   \n",
        "Page:7\n",
        "1/10"
       ]
      },
      {
       "output_type": "stream",
       "stream": "stdout",
       "text": [
        "   2/10   3/10   4/10   5/10   unicode problem! 6/10   7/10   8/10   9/10   \n",
        "Page:8\n",
        "1/10"
       ]
      },
      {
       "output_type": "stream",
       "stream": "stdout",
       "text": [
        "   2/10   3/10   4/10   unicode problem! 5/10   6/10   unicode problem! 7/10   8/10   \n",
        "Page:9\n",
        "1/10"
       ]
      },
      {
       "output_type": "stream",
       "stream": "stdout",
       "text": [
        "   unicode problem! 2/10   3/10   unicode problem! 4/10   unicode problem! 5/10   6/10   7/10   \n",
        "Page:0\n",
        "1/10"
       ]
      },
      {
       "output_type": "stream",
       "stream": "stdout",
       "text": [
        "   unicode problem! unicode problem! 2/10   unicode problem! unicode problem! 3/10   unicode problem! 4/10   5/10   \n",
        "Page:1\n",
        "1/10"
       ]
      },
      {
       "output_type": "stream",
       "stream": "stdout",
       "text": [
        "   unicode problem! 2/10   3/10   unicode problem! unicode problem! 4/10   5/10   6/10   7/10   \n",
        "Page:2\n",
        "1/10"
       ]
      },
      {
       "output_type": "stream",
       "stream": "stdout",
       "text": [
        "   2/10   3/10   unicode problem! 4/10   5/10   6/10   7/10   unicode problem! unicode problem! \n",
        "Page:3\n",
        "unicode problem!"
       ]
      },
      {
       "output_type": "stream",
       "stream": "stdout",
       "text": [
        " 1/10   2/10   3/10   unicode problem! 4/10   5/10   unicode problem! 6/10   7/10   \n",
        "Page:4\n",
        "unicode problem!"
       ]
      },
      {
       "output_type": "stream",
       "stream": "stdout",
       "text": [
        " 1/10   2/10   3/10   4/10   unicode problem! 5/10   unicode problem! 6/10   unicode problem! \n",
        "Page:5\n",
        "1/10"
       ]
      },
      {
       "output_type": "stream",
       "stream": "stdout",
       "text": [
        "   2/10   3/10   4/10   5/10   6/10   unicode problem! 7/10   unicode problem! unicode problem! \n",
        "Page:6\n",
        "1/10"
       ]
      },
      {
       "output_type": "stream",
       "stream": "stdout",
       "text": [
        "   2/10   3/10   4/10   5/10   6/10   7/10   8/10   9/10   10/10   \n",
        "Page:7\n",
        "1/10"
       ]
      },
      {
       "output_type": "stream",
       "stream": "stdout",
       "text": [
        "   2/10   3/10   unicode problem! 4/10   unicode problem! 5/10   6/10   7/10   8/10   \n",
        "Page:8\n",
        "unicode problem!"
       ]
      },
      {
       "output_type": "stream",
       "stream": "stdout",
       "text": [
        " 1/10   2/10   3/10   unicode problem! 4/10   5/10   6/10   7/10   8/10   \n",
        "Page:9\n",
        "1/10"
       ]
      },
      {
       "output_type": "stream",
       "stream": "stdout",
       "text": [
        "   2/10   3/10   4/10   5/10   6/10   unicode problem! 7/10   8/10   unicode problem! \n",
        "Page:0\n",
        "1/10"
       ]
      },
      {
       "output_type": "stream",
       "stream": "stdout",
       "text": [
        "   2/10   3/10   4/10   5/10   unicode problem! unicode problem! unicode problem! 6/10   7/10   \n",
        "Page:1\n",
        "unicode problem!"
       ]
      },
      {
       "output_type": "stream",
       "stream": "stdout",
       "text": [
        " unicode problem! 1/10   2/10   3/10   4/10   5/10   unicode problem! 6/10   7/10   \n",
        "Page:2\n",
        "1/10"
       ]
      },
      {
       "output_type": "stream",
       "stream": "stdout",
       "text": [
        "   2/10   3/10   4/10   5/10   6/10   unicode problem! 7/10   8/10   9/10   \n",
        "Page:3\n",
        "1/10"
       ]
      },
      {
       "output_type": "stream",
       "stream": "stdout",
       "text": [
        "   2/10   3/10   4/10   5/10   unicode problem! 6/10   7/10   8/10   9/10   \n",
        "Page:4\n",
        "unicode problem!"
       ]
      },
      {
       "output_type": "stream",
       "stream": "stdout",
       "text": [
        " unicode problem! 1/10   2/10   3/10   4/10   5/10   6/10   7/10   8/10   \n",
        "Page:5\n",
        "1/10"
       ]
      },
      {
       "output_type": "stream",
       "stream": "stdout",
       "text": [
        "   2/10   3/10   unicode problem! 4/10   5/10   6/10   7/10   8/10   9/10   \n",
        "Page:6\n",
        "1/10"
       ]
      },
      {
       "output_type": "stream",
       "stream": "stdout",
       "text": [
        "   unicode problem! 2/10   3/10   4/10   5/10   6/10   7/10   8/10   9/10   \n",
        "Page:7\n",
        "1/10"
       ]
      },
      {
       "output_type": "stream",
       "stream": "stdout",
       "text": [
        "   2/10   3/10   4/10   5/10   unicode problem! 6/10   7/10   8/10   9/10   \n",
        "Page:8\n",
        "1/10"
       ]
      },
      {
       "output_type": "stream",
       "stream": "stdout",
       "text": [
        "   2/10   3/10   4/10   5/10   6/10   7/10   8/10   9/10   10/10   \n",
        "Page:9\n"
       ]
      }
     ],
     "prompt_number": 211
    },
    {
     "cell_type": "code",
     "collapsed": false,
     "input": [
      "#iOS 6 searching contents:\n",
      "search_con = '\\\"iOS 6\\\"' #run again using 'iOS6'\n",
      "t_const = 1347580811\n",
      "list_sin_until_time = getSUTimeList(t_const)\n",
      "t_since = list_sin_until_time[0]\n",
      "t_until = list_sin_until_time[1]\n",
      "\n",
      "page_num = 0 #page #, 1/2/3/4/5...\n",
      "lang = 'en'\n",
      "sort = ['-date','date']#newest or oldest\n",
      "\n",
      "search_url = 'http://topsy.com/s?q=' + search_con + '&type=tweet&sort=' + sort[0] + '&language=' + lang + '&offset=' + str(page_num) + '0&mintime=' + t_since + '&maxtime=' + t_until\n",
      "\n",
      "print search_url"
     ],
     "language": "python",
     "metadata": {},
     "outputs": [
      {
       "output_type": "stream",
       "stream": "stdout",
       "text": [
        "['1347580811', '1347667211', '1347753611', '1347840011', '1347926411', '1348012811', '1348099211', '1348185611', '1348272011', '1348358411']\n",
        "http://topsy.com/s?q=\"iOS 6\"&type=tweet&sort=-date&language=en&offset=00&mintime=1347580811&maxtime=1347667211\n"
       ]
      }
     ],
     "prompt_number": 212
    },
    {
     "cell_type": "code",
     "collapsed": false,
     "input": [
      "#insert in to table ios_six_tweets\n",
      "tbl_name = 'ios_six_tweets'\n",
      "for sort_index in range(2):\n",
      "    for since_until_index in range(9):\n",
      "        for page_num in range(10):\n",
      "            myDBInsert(dbuser, dbpsw, dbname, tbl_name, search_con, list_sin_until_time[since_until_index],\n",
      "                       list_sin_until_time[since_until_index + 1], page_num, lang, sort[sort_index])"
     ],
     "language": "python",
     "metadata": {},
     "outputs": [
      {
       "output_type": "stream",
       "stream": "stdout",
       "text": [
        "1/10   2/10   3/10   4/10   5/10   6/10   7/10   8/10   9/10   10/10   \n",
        "Page:0\n",
        "1/10"
       ]
      },
      {
       "output_type": "stream",
       "stream": "stdout",
       "text": [
        "   2/10   3/10   4/10   5/10   6/10   7/10   8/10   9/10   10/10   \n",
        "Page:1\n",
        "1/10"
       ]
      },
      {
       "output_type": "stream",
       "stream": "stdout",
       "text": [
        "   2/10   3/10   4/10   5/10   6/10   7/10   8/10   unicode problem! 9/10   \n",
        "Page:2\n",
        "1/10"
       ]
      },
      {
       "output_type": "stream",
       "stream": "stdout",
       "text": [
        "   2/10   3/10   4/10   unicode problem! 5/10   6/10   7/10   8/10   9/10   \n",
        "Page:3\n",
        "1/10"
       ]
      },
      {
       "output_type": "stream",
       "stream": "stdout",
       "text": [
        "   2/10   3/10   unicode problem! unicode problem! 4/10   5/10   unicode problem! unicode problem! 6/10   \n",
        "Page:4\n",
        "unicode problem!"
       ]
      },
      {
       "output_type": "stream",
       "stream": "stdout",
       "text": [
        " 1/10   2/10   unicode problem! 3/10   4/10   5/10   unicode problem! 6/10   7/10   \n",
        "Page:5\n",
        "1/10"
       ]
      },
      {
       "output_type": "stream",
       "stream": "stdout",
       "text": [
        "   2/10   3/10   4/10   unicode problem! unicode problem! unicode problem! 5/10   6/10   7/10   \n",
        "Page:6\n",
        "unicode problem!"
       ]
      },
      {
       "output_type": "stream",
       "stream": "stdout",
       "text": [
        " unicode problem! 1/10   2/10   unicode problem! 3/10   4/10   5/10   unicode problem! unicode problem! \n",
        "Page:7\n",
        "1/10"
       ]
      },
      {
       "output_type": "stream",
       "stream": "stdout",
       "text": [
        "   unicode problem! 2/10   3/10   4/10   5/10   6/10   7/10   unicode problem! \n",
        "Page:8\n",
        "1/10"
       ]
      },
      {
       "output_type": "stream",
       "stream": "stdout",
       "text": [
        "   2/10   unicode problem! 3/10   unicode problem! 4/10   5/10   unicode problem! 6/10   unicode problem! \n",
        "Page:9\n",
        "1/10"
       ]
      },
      {
       "output_type": "stream",
       "stream": "stdout",
       "text": [
        "   2/10   unicode problem! unicode problem! 3/10   unicode problem! 4/10   5/10   6/10   7/10   \n",
        "Page:0\n",
        "1/10"
       ]
      },
      {
       "output_type": "stream",
       "stream": "stdout",
       "text": [
        "   2/10   3/10   4/10   5/10   unicode problem! 6/10   7/10   8/10   9/10   \n",
        "Page:1\n",
        "1/10"
       ]
      },
      {
       "output_type": "stream",
       "stream": "stdout",
       "text": [
        "   2/10   3/10   4/10   unicode problem! 5/10   unicode problem! 6/10   7/10   unicode problem! \n",
        "Page:2\n",
        "1/10"
       ]
      },
      {
       "output_type": "stream",
       "stream": "stdout",
       "text": [
        "   2/10   3/10   4/10   5/10   6/10   7/10   8/10   9/10   10/10   \n",
        "Page:3\n",
        "unicode problem!"
       ]
      },
      {
       "output_type": "stream",
       "stream": "stdout",
       "text": [
        " 1/10   2/10   3/10   unicode problem! 4/10   5/10   6/10   7/10   8/10   \n",
        "Page:4\n",
        "unicode problem!"
       ]
      },
      {
       "output_type": "stream",
       "stream": "stdout",
       "text": [
        " 1/10   2/10   3/10   4/10   5/10   6/10   unicode problem! 7/10   8/10   \n",
        "Page:5\n",
        "1/10"
       ]
      },
      {
       "output_type": "stream",
       "stream": "stdout",
       "text": [
        "   2/10   3/10   4/10   5/10   6/10   7/10   8/10   unicode problem! 9/10   \n",
        "Page:6\n",
        "unicode problem!"
       ]
      },
      {
       "output_type": "stream",
       "stream": "stdout",
       "text": [
        " unicode problem! 1/10   2/10   unicode problem! unicode problem! 3/10   4/10   5/10   unicode problem! \n",
        "Page:7\n",
        "1/10"
       ]
      },
      {
       "output_type": "stream",
       "stream": "stdout",
       "text": [
        "   2/10   unicode problem! 3/10   4/10   5/10   6/10   7/10   8/10   9/10   \n",
        "Page:8\n",
        "1/10"
       ]
      },
      {
       "output_type": "stream",
       "stream": "stdout",
       "text": [
        "   2/10   unicode problem! 3/10   unicode problem! unicode problem! 4/10   5/10   unicode problem! 6/10   \n",
        "Page:9\n",
        "unicode problem!"
       ]
      },
      {
       "output_type": "stream",
       "stream": "stdout",
       "text": [
        " 1/10   unicode problem! unicode problem! unicode problem! 2/10   3/10   unicode problem! unicode problem! 4/10   \n",
        "Page:0\n",
        "1/10"
       ]
      },
      {
       "output_type": "stream",
       "stream": "stdout",
       "text": [
        "   2/10   3/10   unicode problem! 4/10   5/10   6/10   7/10   8/10   9/10   \n",
        "Page:1\n",
        "1/10"
       ]
      },
      {
       "output_type": "stream",
       "stream": "stdout",
       "text": [
        "   2/10   3/10   4/10   5/10   6/10   7/10   8/10   9/10   unicode problem! \n",
        "Page:2\n",
        "1/10"
       ]
      },
      {
       "output_type": "stream",
       "stream": "stdout",
       "text": [
        "   2/10   3/10   4/10   5/10   6/10   7/10   8/10   9/10   10/10   \n",
        "Page:3\n",
        "1/10"
       ]
      },
      {
       "output_type": "stream",
       "stream": "stdout",
       "text": [
        "   2/10   unicode problem! 3/10   4/10   5/10   6/10   unicode problem! unicode problem! \n",
        "Page:4\n",
        "1/10"
       ]
      },
      {
       "output_type": "stream",
       "stream": "stdout",
       "text": [
        "   2/10   3/10   4/10   5/10   unicode problem! 6/10   unicode problem! 7/10   8/10   \n",
        "Page:5\n",
        "1/10"
       ]
      },
      {
       "output_type": "stream",
       "stream": "stdout",
       "text": [
        "   2/10   3/10   4/10   5/10   unicode problem! 6/10   7/10   8/10   9/10   \n",
        "Page:6\n",
        "1/10"
       ]
      },
      {
       "output_type": "stream",
       "stream": "stdout",
       "text": [
        "   2/10   3/10   4/10   5/10   unicode problem! 6/10   unicode problem! 7/10   unicode problem! \n",
        "Page:7\n",
        "1/10"
       ]
      },
      {
       "output_type": "stream",
       "stream": "stdout",
       "text": [
        "   2/10   unicode problem! 3/10   4/10   5/10   6/10   7/10   8/10   9/10   \n",
        "Page:8\n",
        "1/10"
       ]
      },
      {
       "output_type": "stream",
       "stream": "stdout",
       "text": [
        "   2/10   3/10   4/10   5/10   unicode problem! unicode problem! unicode problem! unicode problem! 6/10   \n",
        "Page:9\n",
        "unicode problem!"
       ]
      },
      {
       "output_type": "stream",
       "stream": "stdout",
       "text": [
        " 1/10   2/10   3/10   4/10   5/10   unicode problem! 6/10   7/10   8/10   \n",
        "Page:0\n",
        "1/10"
       ]
      },
      {
       "output_type": "stream",
       "stream": "stdout",
       "text": [
        "   2/10   3/10   4/10   5/10   6/10   unicode problem! 7/10   unicode problem! 8/10   \n",
        "Page:1\n",
        "unicode problem!"
       ]
      },
      {
       "output_type": "stream",
       "stream": "stdout",
       "text": [
        " unicode problem! unicode problem! unicode problem! 1/10   2/10   unicode problem! unicode problem! unicode problem! unicode problem! \n",
        "Page:2\n",
        "unicode problem!"
       ]
      },
      {
       "output_type": "stream",
       "stream": "stdout",
       "text": [
        " unicode problem! unicode problem! 1/10   unicode problem! 2/10   3/10   4/10   5/10   unicode problem! \n",
        "Page:3\n",
        "1/10"
       ]
      },
      {
       "output_type": "stream",
       "stream": "stdout",
       "text": [
        "   unicode problem! 2/10   unicode problem! unicode problem! 3/10   4/10   5/10   unicode problem! 6/10   \n",
        "Page:4\n",
        "unicode problem!"
       ]
      },
      {
       "output_type": "stream",
       "stream": "stdout",
       "text": [
        " 1/10   2/10   3/10   4/10   5/10   unicode problem! 6/10   7/10   8/10   \n",
        "Page:5\n",
        "unicode problem!"
       ]
      },
      {
       "output_type": "stream",
       "stream": "stdout",
       "text": [
        " 1/10   2/10   3/10   4/10   5/10   unicode problem! 6/10   7/10   8/10   \n",
        "Page:6\n",
        "unicode problem!"
       ]
      },
      {
       "output_type": "stream",
       "stream": "stdout",
       "text": [
        " 1/10   2/10   unicode problem! 3/10   4/10   5/10   unicode problem! unicode problem! 6/10   \n",
        "Page:7\n",
        "1/10"
       ]
      },
      {
       "output_type": "stream",
       "stream": "stdout",
       "text": [
        "   unicode problem! 2/10   3/10   4/10   5/10   unicode problem! unicode problem! 6/10   7/10   \n",
        "Page:8\n",
        "1/10"
       ]
      },
      {
       "output_type": "stream",
       "stream": "stdout",
       "text": [
        "   unicode problem! 2/10   3/10   4/10   5/10   6/10   unicode problem! 7/10   \n",
        "Page:9\n",
        "unicode problem!"
       ]
      },
      {
       "output_type": "stream",
       "stream": "stdout",
       "text": [
        " 1/10   unicode problem! unicode problem! unicode problem! 2/10   3/10   unicode problem! 4/10   5/10   \n",
        "Page:0\n",
        "1/10"
       ]
      },
      {
       "output_type": "stream",
       "stream": "stdout",
       "text": [
        "   2/10   3/10   4/10   5/10   6/10   7/10   8/10   9/10   unicode problem! \n",
        "Page:1\n",
        "1/10"
       ]
      },
      {
       "output_type": "stream",
       "stream": "stdout",
       "text": [
        "   2/10   3/10   unicode problem! 4/10   5/10   unicode problem! 6/10   unicode problem! 7/10   \n",
        "Page:2\n",
        "1/10"
       ]
      },
      {
       "output_type": "stream",
       "stream": "stdout",
       "text": [
        "   2/10   3/10   4/10   5/10   unicode problem! 6/10   7/10   unicode problem! 8/10   \n",
        "Page:3\n",
        "1/10"
       ]
      },
      {
       "output_type": "stream",
       "stream": "stdout",
       "text": [
        "   2/10   3/10   4/10   5/10   unicode problem! 6/10   unicode problem! unicode problem! 7/10   \n",
        "Page:4\n",
        "1/10"
       ]
      },
      {
       "output_type": "stream",
       "stream": "stdout",
       "text": [
        "   unicode problem! 2/10   unicode problem! unicode problem! 3/10   unicode problem! 4/10   5/10   \n",
        "Page:5\n",
        "1/10"
       ]
      },
      {
       "output_type": "stream",
       "stream": "stdout",
       "text": [
        "   2/10   unicode problem! 3/10   4/10   5/10   6/10   unicode problem! 7/10   8/10   \n",
        "Page:6\n",
        "unicode problem!"
       ]
      },
      {
       "output_type": "stream",
       "stream": "stdout",
       "text": [
        " unicode problem! unicode problem! 1/10   2/10   3/10   unicode problem! unicode problem! 4/10   5/10   \n",
        "Page:7\n",
        "1/10"
       ]
      },
      {
       "output_type": "stream",
       "stream": "stdout",
       "text": [
        "   2/10   3/10   4/10   5/10   6/10   7/10   unicode problem! 8/10   unicode problem! \n",
        "Page:8\n",
        "unicode problem!"
       ]
      },
      {
       "output_type": "stream",
       "stream": "stdout",
       "text": [
        " unicode problem! 1/10   2/10   unicode problem! 3/10   4/10   5/10   6/10   unicode problem! \n",
        "Page:9\n",
        "unicode problem!"
       ]
      },
      {
       "output_type": "stream",
       "stream": "stdout",
       "text": [
        " 1/10   unicode problem! 2/10   3/10   4/10   unicode problem! unicode problem! unicode problem! \n",
        "Page:0\n",
        "1/10"
       ]
      },
      {
       "output_type": "stream",
       "stream": "stdout",
       "text": [
        "   2/10   3/10   unicode problem! unicode problem! 4/10   unicode problem! unicode problem! 5/10   6/10   \n",
        "Page:1\n",
        "1/10"
       ]
      },
      {
       "output_type": "stream",
       "stream": "stdout",
       "text": [
        "   unicode problem! 2/10   unicode problem! 3/10   4/10   5/10   6/10   7/10   8/10   \n",
        "Page:2\n",
        "unicode problem!"
       ]
      },
      {
       "output_type": "stream",
       "stream": "stdout",
       "text": [
        " 1/10   2/10   3/10   unicode problem! unicode problem! 4/10   5/10   6/10   unicode problem! \n",
        "Page:3\n",
        "1/10"
       ]
      },
      {
       "output_type": "stream",
       "stream": "stdout",
       "text": [
        "   2/10   3/10   unicode problem! unicode problem! 4/10   unicode problem! unicode problem! 5/10   6/10   \n",
        "Page:4\n",
        "unicode problem!"
       ]
      },
      {
       "output_type": "stream",
       "stream": "stdout",
       "text": [
        " 1/10   unicode problem! unicode problem! 2/10   3/10   4/10   5/10   unicode problem! unicode problem! \n",
        "Page:5\n",
        "1/10"
       ]
      },
      {
       "output_type": "stream",
       "stream": "stdout",
       "text": [
        "   2/10   unicode problem! unicode problem! unicode problem! unicode problem! unicode problem! 3/10   unicode problem! 4/10   \n",
        "Page:6\n",
        "1/10"
       ]
      },
      {
       "output_type": "stream",
       "stream": "stdout",
       "text": [
        "   2/10   unicode problem! 3/10   4/10   5/10   6/10   7/10   8/10   9/10   \n",
        "Page:7\n",
        "1/10"
       ]
      },
      {
       "output_type": "stream",
       "stream": "stdout",
       "text": [
        "   2/10   3/10   4/10   5/10   6/10   unicode problem! 7/10   unicode problem! \n",
        "Page:8\n",
        "1/10"
       ]
      },
      {
       "output_type": "stream",
       "stream": "stdout",
       "text": [
        "   2/10   3/10   unicode problem! 4/10   5/10   6/10   unicode problem! 7/10   8/10   \n",
        "Page:9\n",
        "1/10"
       ]
      },
      {
       "output_type": "stream",
       "stream": "stdout",
       "text": [
        "   unicode problem! 2/10   3/10   4/10   unicode problem! 5/10   unicode problem! 6/10   7/10   \n",
        "Page:0\n",
        "1/10"
       ]
      },
      {
       "output_type": "stream",
       "stream": "stdout",
       "text": [
        "   2/10   3/10   unicode problem! 4/10   5/10   6/10   7/10   8/10   unicode problem! \n",
        "Page:1\n",
        "unicode problem!"
       ]
      },
      {
       "output_type": "stream",
       "stream": "stdout",
       "text": [
        " 1/10   2/10   unicode problem! unicode problem! unicode problem! unicode problem! unicode problem! 3/10   unicode problem! \n",
        "Page:2\n",
        "1/10"
       ]
      },
      {
       "output_type": "stream",
       "stream": "stdout",
       "text": [
        "   unicode problem! unicode problem! 2/10   3/10   4/10   5/10   6/10   unicode problem! 7/10   \n",
        "Page:3\n",
        "unicode problem!"
       ]
      },
      {
       "output_type": "stream",
       "stream": "stdout",
       "text": [
        " 1/10   2/10   3/10   unicode problem! unicode problem! unicode problem! unicode problem! unicode problem! 4/10   \n",
        "Page:4\n",
        "1/10"
       ]
      },
      {
       "output_type": "stream",
       "stream": "stdout",
       "text": [
        "   2/10   3/10   4/10   5/10   6/10   unicode problem! unicode problem! unicode problem! unicode problem! \n",
        "Page:5\n",
        "1/10"
       ]
      },
      {
       "output_type": "stream",
       "stream": "stdout",
       "text": [
        "   2/10   unicode problem! 3/10   4/10   unicode problem! 5/10   6/10   unicode problem! 7/10   \n",
        "Page:6\n",
        "1/10"
       ]
      },
      {
       "output_type": "stream",
       "stream": "stdout",
       "text": [
        "   2/10   unicode problem! 3/10   4/10   unicode problem! unicode problem! 5/10   6/10   7/10   \n",
        "Page:7\n",
        "1/10"
       ]
      },
      {
       "output_type": "stream",
       "stream": "stdout",
       "text": [
        "   unicode problem! 2/10   unicode problem! 3/10   unicode problem! unicode problem! unicode problem! 4/10   5/10   \n",
        "Page:8\n",
        "1/10"
       ]
      },
      {
       "output_type": "stream",
       "stream": "stdout",
       "text": [
        "   2/10   unicode problem! unicode problem! 3/10   4/10   5/10   6/10   unicode problem! 7/10   \n",
        "Page:9\n",
        "unicode problem!"
       ]
      },
      {
       "output_type": "stream",
       "stream": "stdout",
       "text": [
        " 1/10   2/10   3/10   4/10   5/10   unicode problem! 6/10   unicode problem! unicode problem! \n",
        "Page:0\n",
        "1/10"
       ]
      },
      {
       "output_type": "stream",
       "stream": "stdout",
       "text": [
        "   2/10   unicode problem! 3/10   4/10   5/10   6/10   7/10   8/10   9/10   \n",
        "Page:1\n",
        "1/10"
       ]
      },
      {
       "output_type": "stream",
       "stream": "stdout",
       "text": [
        "   2/10   3/10   4/10   5/10   unicode problem! 6/10   unicode problem! 7/10   8/10   \n",
        "Page:2\n",
        "unicode problem!"
       ]
      },
      {
       "output_type": "stream",
       "stream": "stdout",
       "text": [
        " 1/10   2/10   3/10   4/10   5/10   6/10   unicode problem! 7/10   unicode problem! \n",
        "Page:3\n",
        "unicode problem!"
       ]
      },
      {
       "output_type": "stream",
       "stream": "stdout",
       "text": [
        " 1/10   unicode problem! 2/10   3/10   unicode problem! 4/10   unicode problem! unicode problem! 5/10   \n",
        "Page:4\n",
        "unicode problem!"
       ]
      },
      {
       "output_type": "stream",
       "stream": "stdout",
       "text": [
        " 1/10   2/10   3/10   4/10   5/10   6/10   7/10   unicode problem! 8/10   \n",
        "Page:5\n",
        "unicode problem!"
       ]
      },
      {
       "output_type": "stream",
       "stream": "stdout",
       "text": [
        " unicode problem! unicode problem! unicode problem! 1/10   2/10   unicode problem! unicode problem! 3/10   unicode problem! \n",
        "Page:6\n",
        "unicode problem!"
       ]
      },
      {
       "output_type": "stream",
       "stream": "stdout",
       "text": [
        " 1/10   2/10   unicode problem! 3/10   unicode problem! 4/10   unicode problem! 5/10   unicode problem! \n",
        "Page:7\n",
        "1/10"
       ]
      },
      {
       "output_type": "stream",
       "stream": "stdout",
       "text": [
        "   2/10   unicode problem! 3/10   unicode problem! 4/10   unicode problem! 5/10   unicode problem! 6/10   \n",
        "Page:8\n",
        "unicode problem!"
       ]
      },
      {
       "output_type": "stream",
       "stream": "stdout",
       "text": [
        " 1/10   unicode problem! unicode problem! unicode problem! 2/10   unicode problem! 3/10   unicode problem! 4/10   \n",
        "Page:9\n",
        "1/10"
       ]
      },
      {
       "output_type": "stream",
       "stream": "stdout",
       "text": [
        "   2/10   3/10   4/10   5/10   unicode problem! 6/10   7/10   8/10   9/10   \n",
        "Page:0\n",
        "1/10"
       ]
      },
      {
       "output_type": "stream",
       "stream": "stdout",
       "text": [
        "   2/10   unicode problem! 3/10   4/10   5/10   unicode problem! 6/10   7/10   unicode problem! \n",
        "Page:1\n",
        "1/10"
       ]
      },
      {
       "output_type": "stream",
       "stream": "stdout",
       "text": [
        "   unicode problem! unicode problem! 2/10   3/10   4/10   5/10   6/10   7/10   8/10   \n",
        "Page:2\n",
        "1/10"
       ]
      },
      {
       "output_type": "stream",
       "stream": "stdout",
       "text": [
        "   2/10   unicode problem! 3/10   4/10   5/10   6/10   unicode problem! 7/10   8/10   \n",
        "Page:3\n",
        "1/10"
       ]
      },
      {
       "output_type": "stream",
       "stream": "stdout",
       "text": [
        "   2/10   3/10   4/10   5/10   6/10   7/10   unicode problem! unicode problem! unicode problem! \n",
        "Page:4\n",
        "unicode problem!"
       ]
      },
      {
       "output_type": "stream",
       "stream": "stdout",
       "text": [
        " 1/10   2/10   3/10   4/10   5/10   6/10   7/10   unicode problem! 8/10   \n",
        "Page:5\n",
        "1/10"
       ]
      },
      {
       "output_type": "stream",
       "stream": "stdout",
       "text": [
        "   2/10   3/10   4/10   5/10   unicode problem! 6/10   7/10   8/10   9/10   \n",
        "Page:6\n",
        "1/10"
       ]
      },
      {
       "output_type": "stream",
       "stream": "stdout",
       "text": [
        "   unicode problem! 2/10   3/10   unicode problem! 4/10   5/10   6/10   7/10   8/10   \n",
        "Page:7\n",
        "1/10"
       ]
      },
      {
       "output_type": "stream",
       "stream": "stdout",
       "text": [
        "   2/10   unicode problem! 3/10   4/10   5/10   6/10   unicode problem! unicode problem! \n",
        "Page:8\n",
        "unicode problem!"
       ]
      },
      {
       "output_type": "stream",
       "stream": "stdout",
       "text": [
        " unicode problem! 1/10   unicode problem! unicode problem! unicode problem! unicode problem! 2/10   3/10   unicode problem! \n",
        "Page:9\n",
        "1/10"
       ]
      },
      {
       "output_type": "stream",
       "stream": "stdout",
       "text": [
        "   2/10   3/10   4/10   5/10   6/10   7/10   8/10   9/10   10/10   \n",
        "Page:0\n",
        "1/10"
       ]
      },
      {
       "output_type": "stream",
       "stream": "stdout",
       "text": [
        "   2/10   3/10   4/10   5/10   6/10   7/10   8/10   9/10   10/10   \n",
        "Page:1\n",
        "1/10"
       ]
      },
      {
       "output_type": "stream",
       "stream": "stdout",
       "text": [
        "   2/10   3/10   4/10   5/10   6/10   7/10   8/10   unicode problem! 9/10   \n",
        "Page:2\n",
        "1/10"
       ]
      },
      {
       "output_type": "stream",
       "stream": "stdout",
       "text": [
        "   2/10   3/10   4/10   unicode problem! 5/10   6/10   7/10   8/10   9/10   \n",
        "Page:3\n",
        "1/10"
       ]
      },
      {
       "output_type": "stream",
       "stream": "stdout",
       "text": [
        "   2/10   3/10   unicode problem! unicode problem! 4/10   5/10   unicode problem! unicode problem! 6/10   \n",
        "Page:4\n",
        "unicode problem!"
       ]
      },
      {
       "output_type": "stream",
       "stream": "stdout",
       "text": [
        " 1/10   2/10   unicode problem! 3/10   4/10   5/10   unicode problem! 6/10   7/10   \n",
        "Page:5\n",
        "1/10"
       ]
      },
      {
       "output_type": "stream",
       "stream": "stdout",
       "text": [
        "   2/10   3/10   4/10   unicode problem! unicode problem! unicode problem! 5/10   6/10   7/10   \n",
        "Page:6\n",
        "unicode problem!"
       ]
      },
      {
       "output_type": "stream",
       "stream": "stdout",
       "text": [
        " unicode problem! 1/10   2/10   unicode problem! 3/10   4/10   5/10   unicode problem! unicode problem! \n",
        "Page:7\n",
        "1/10"
       ]
      },
      {
       "output_type": "stream",
       "stream": "stdout",
       "text": [
        "   unicode problem! 2/10   3/10   4/10   5/10   6/10   7/10   unicode problem! \n",
        "Page:8\n",
        "1/10"
       ]
      },
      {
       "output_type": "stream",
       "stream": "stdout",
       "text": [
        "   2/10   unicode problem! 3/10   unicode problem! 4/10   5/10   unicode problem! 6/10   unicode problem! \n",
        "Page:9\n",
        "1/10"
       ]
      },
      {
       "output_type": "stream",
       "stream": "stdout",
       "text": [
        "   2/10   unicode problem! unicode problem! 3/10   unicode problem! 4/10   5/10   6/10   7/10   \n",
        "Page:0\n",
        "1/10"
       ]
      },
      {
       "output_type": "stream",
       "stream": "stdout",
       "text": [
        "   2/10   3/10   4/10   5/10   unicode problem! 6/10   7/10   8/10   9/10   \n",
        "Page:1\n",
        "1/10"
       ]
      },
      {
       "output_type": "stream",
       "stream": "stdout",
       "text": [
        "   2/10   3/10   4/10   unicode problem! 5/10   unicode problem! 6/10   7/10   unicode problem! \n",
        "Page:2\n",
        "1/10"
       ]
      },
      {
       "output_type": "stream",
       "stream": "stdout",
       "text": [
        "   2/10   3/10   4/10   5/10   6/10   7/10   8/10   9/10   10/10   \n",
        "Page:3\n",
        "unicode problem!"
       ]
      },
      {
       "output_type": "stream",
       "stream": "stdout",
       "text": [
        " 1/10   2/10   3/10   unicode problem! 4/10   5/10   6/10   7/10   8/10   \n",
        "Page:4\n",
        "unicode problem!"
       ]
      },
      {
       "output_type": "stream",
       "stream": "stdout",
       "text": [
        " 1/10   2/10   3/10   4/10   5/10   6/10   unicode problem! 7/10   8/10   \n",
        "Page:5\n",
        "1/10"
       ]
      },
      {
       "output_type": "stream",
       "stream": "stdout",
       "text": [
        "   2/10   3/10   4/10   5/10   6/10   7/10   8/10   unicode problem! 9/10   \n",
        "Page:6\n",
        "unicode problem!"
       ]
      },
      {
       "output_type": "stream",
       "stream": "stdout",
       "text": [
        " unicode problem! 1/10   2/10   unicode problem! unicode problem! 3/10   4/10   5/10   unicode problem! \n",
        "Page:7\n",
        "1/10"
       ]
      },
      {
       "output_type": "stream",
       "stream": "stdout",
       "text": [
        "   2/10   unicode problem! 3/10   4/10   5/10   6/10   7/10   8/10   9/10   \n",
        "Page:8\n",
        "1/10"
       ]
      },
      {
       "output_type": "stream",
       "stream": "stdout",
       "text": [
        "   2/10   unicode problem! 3/10   unicode problem! unicode problem! 4/10   5/10   unicode problem! 6/10   \n",
        "Page:9\n",
        "unicode problem!"
       ]
      },
      {
       "output_type": "stream",
       "stream": "stdout",
       "text": [
        " 1/10   unicode problem! unicode problem! unicode problem! 2/10   3/10   unicode problem! unicode problem! 4/10   \n",
        "Page:0\n",
        "1/10"
       ]
      },
      {
       "output_type": "stream",
       "stream": "stdout",
       "text": [
        "   2/10   3/10   unicode problem! 4/10   5/10   6/10   7/10   8/10   9/10   \n",
        "Page:1\n",
        "1/10"
       ]
      },
      {
       "output_type": "stream",
       "stream": "stdout",
       "text": [
        "   2/10   3/10   4/10   5/10   6/10   7/10   8/10   9/10   unicode problem! \n",
        "Page:2\n",
        "1/10"
       ]
      },
      {
       "output_type": "stream",
       "stream": "stdout",
       "text": [
        "   2/10   3/10   4/10   5/10   6/10   7/10   8/10   9/10   10/10   \n",
        "Page:3\n",
        "1/10"
       ]
      },
      {
       "output_type": "stream",
       "stream": "stdout",
       "text": [
        "   2/10   unicode problem! 3/10   4/10   5/10   6/10   unicode problem! unicode problem! \n",
        "Page:4\n",
        "1/10"
       ]
      },
      {
       "output_type": "stream",
       "stream": "stdout",
       "text": [
        "   2/10   3/10   4/10   5/10   unicode problem! 6/10   unicode problem! 7/10   8/10   \n",
        "Page:5\n",
        "1/10"
       ]
      },
      {
       "output_type": "stream",
       "stream": "stdout",
       "text": [
        "   2/10   3/10   4/10   5/10   unicode problem! 6/10   7/10   8/10   9/10   \n",
        "Page:6\n",
        "1/10"
       ]
      },
      {
       "output_type": "stream",
       "stream": "stdout",
       "text": [
        "   2/10   3/10   4/10   5/10   unicode problem! 6/10   unicode problem! 7/10   unicode problem! \n",
        "Page:7\n",
        "1/10"
       ]
      },
      {
       "output_type": "stream",
       "stream": "stdout",
       "text": [
        "   2/10   unicode problem! 3/10   4/10   5/10   6/10   7/10   8/10   9/10   \n",
        "Page:8\n",
        "1/10"
       ]
      },
      {
       "output_type": "stream",
       "stream": "stdout",
       "text": [
        "   2/10   3/10   4/10   5/10   unicode problem! unicode problem! unicode problem! unicode problem! 6/10   \n",
        "Page:9\n",
        "unicode problem!"
       ]
      },
      {
       "output_type": "stream",
       "stream": "stdout",
       "text": [
        " 1/10   2/10   3/10   4/10   5/10   unicode problem! 6/10   7/10   8/10   \n",
        "Page:0\n",
        "1/10"
       ]
      },
      {
       "output_type": "stream",
       "stream": "stdout",
       "text": [
        "   2/10   3/10   4/10   5/10   6/10   unicode problem! 7/10   unicode problem! 8/10   \n",
        "Page:1\n",
        "unicode problem!"
       ]
      },
      {
       "output_type": "stream",
       "stream": "stdout",
       "text": [
        " unicode problem! unicode problem! unicode problem! 1/10   2/10   unicode problem! unicode problem! unicode problem! unicode problem! \n",
        "Page:2\n",
        "unicode problem!"
       ]
      },
      {
       "output_type": "stream",
       "stream": "stdout",
       "text": [
        " unicode problem! unicode problem! 1/10   unicode problem! 2/10   3/10   4/10   5/10   unicode problem! \n",
        "Page:3\n",
        "1/10"
       ]
      },
      {
       "output_type": "stream",
       "stream": "stdout",
       "text": [
        "   unicode problem! 2/10   unicode problem! unicode problem! 3/10   4/10   5/10   unicode problem! 6/10   \n",
        "Page:4\n",
        "unicode problem!"
       ]
      },
      {
       "output_type": "stream",
       "stream": "stdout",
       "text": [
        " 1/10   2/10   3/10   4/10   5/10   unicode problem! 6/10   7/10   8/10   \n",
        "Page:5\n",
        "unicode problem!"
       ]
      },
      {
       "output_type": "stream",
       "stream": "stdout",
       "text": [
        " 1/10   2/10   3/10   4/10   5/10   unicode problem! 6/10   7/10   8/10   \n",
        "Page:6\n",
        "unicode problem!"
       ]
      },
      {
       "output_type": "stream",
       "stream": "stdout",
       "text": [
        " 1/10   2/10   unicode problem! 3/10   4/10   5/10   unicode problem! unicode problem! 6/10   \n",
        "Page:7\n",
        "1/10"
       ]
      },
      {
       "output_type": "stream",
       "stream": "stdout",
       "text": [
        "   unicode problem! 2/10   3/10   4/10   5/10   unicode problem! unicode problem! 6/10   7/10   \n",
        "Page:8\n",
        "1/10"
       ]
      },
      {
       "output_type": "stream",
       "stream": "stdout",
       "text": [
        "   unicode problem! 2/10   3/10   4/10   5/10   6/10   unicode problem! 7/10   \n",
        "Page:9\n",
        "unicode problem!"
       ]
      },
      {
       "output_type": "stream",
       "stream": "stdout",
       "text": [
        " 1/10   unicode problem! unicode problem! unicode problem! 2/10   3/10   unicode problem! 4/10   5/10   \n",
        "Page:0\n",
        "1/10"
       ]
      },
      {
       "output_type": "stream",
       "stream": "stdout",
       "text": [
        "   2/10   3/10   4/10   5/10   6/10   7/10   8/10   9/10   unicode problem! \n",
        "Page:1\n",
        "1/10"
       ]
      },
      {
       "output_type": "stream",
       "stream": "stdout",
       "text": [
        "   2/10   3/10   unicode problem! 4/10   5/10   unicode problem! 6/10   unicode problem! 7/10   \n",
        "Page:2\n",
        "1/10"
       ]
      },
      {
       "output_type": "stream",
       "stream": "stdout",
       "text": [
        "   2/10   3/10   4/10   5/10   unicode problem! 6/10   7/10   unicode problem! 8/10   \n",
        "Page:3\n",
        "1/10"
       ]
      },
      {
       "output_type": "stream",
       "stream": "stdout",
       "text": [
        "   2/10   3/10   4/10   5/10   unicode problem! 6/10   unicode problem! unicode problem! 7/10   \n",
        "Page:4\n",
        "1/10"
       ]
      },
      {
       "output_type": "stream",
       "stream": "stdout",
       "text": [
        "   unicode problem! 2/10   unicode problem! unicode problem! 3/10   unicode problem! 4/10   5/10   \n",
        "Page:5\n",
        "1/10"
       ]
      },
      {
       "output_type": "stream",
       "stream": "stdout",
       "text": [
        "   2/10   unicode problem! 3/10   4/10   5/10   6/10   unicode problem! 7/10   8/10   \n",
        "Page:6\n",
        "unicode problem!"
       ]
      },
      {
       "output_type": "stream",
       "stream": "stdout",
       "text": [
        " unicode problem! unicode problem! 1/10   2/10   3/10   unicode problem! unicode problem! 4/10   5/10   \n",
        "Page:7\n",
        "1/10"
       ]
      },
      {
       "output_type": "stream",
       "stream": "stdout",
       "text": [
        "   2/10   3/10   4/10   5/10   6/10   7/10   unicode problem! 8/10   unicode problem! \n",
        "Page:8\n",
        "unicode problem!"
       ]
      },
      {
       "output_type": "stream",
       "stream": "stdout",
       "text": [
        " unicode problem! 1/10   2/10   unicode problem! 3/10   4/10   5/10   6/10   unicode problem! \n",
        "Page:9\n",
        "unicode problem!"
       ]
      },
      {
       "output_type": "stream",
       "stream": "stdout",
       "text": [
        " 1/10   unicode problem! 2/10   3/10   4/10   unicode problem! unicode problem! unicode problem! \n",
        "Page:0\n",
        "1/10"
       ]
      },
      {
       "output_type": "stream",
       "stream": "stdout",
       "text": [
        "   2/10   3/10   unicode problem! unicode problem! 4/10   unicode problem! unicode problem! 5/10   6/10   \n",
        "Page:1\n",
        "1/10"
       ]
      },
      {
       "output_type": "stream",
       "stream": "stdout",
       "text": [
        "   unicode problem! 2/10   unicode problem! 3/10   4/10   5/10   6/10   7/10   8/10   \n",
        "Page:2\n",
        "unicode problem!"
       ]
      },
      {
       "output_type": "stream",
       "stream": "stdout",
       "text": [
        " 1/10   2/10   3/10   unicode problem! unicode problem! 4/10   5/10   6/10   unicode problem! \n",
        "Page:3\n",
        "1/10"
       ]
      },
      {
       "output_type": "stream",
       "stream": "stdout",
       "text": [
        "   2/10   3/10   unicode problem! unicode problem! 4/10   unicode problem! unicode problem! 5/10   6/10   \n",
        "Page:4\n",
        "unicode problem!"
       ]
      },
      {
       "output_type": "stream",
       "stream": "stdout",
       "text": [
        " 1/10   unicode problem! unicode problem! 2/10   3/10   4/10   5/10   unicode problem! unicode problem! \n",
        "Page:5\n",
        "1/10"
       ]
      },
      {
       "output_type": "stream",
       "stream": "stdout",
       "text": [
        "   2/10   unicode problem! unicode problem! unicode problem! unicode problem! unicode problem! 3/10   unicode problem! 4/10   \n",
        "Page:6\n",
        "1/10"
       ]
      },
      {
       "output_type": "stream",
       "stream": "stdout",
       "text": [
        "   2/10   unicode problem! 3/10   4/10   5/10   6/10   7/10   8/10   9/10   \n",
        "Page:7\n",
        "1/10"
       ]
      },
      {
       "output_type": "stream",
       "stream": "stdout",
       "text": [
        "   2/10   3/10   4/10   5/10   6/10   unicode problem! 7/10   unicode problem! \n",
        "Page:8\n",
        "1/10"
       ]
      },
      {
       "output_type": "stream",
       "stream": "stdout",
       "text": [
        "   2/10   3/10   unicode problem! 4/10   5/10   6/10   unicode problem! 7/10   8/10   \n",
        "Page:9\n",
        "1/10"
       ]
      },
      {
       "output_type": "stream",
       "stream": "stdout",
       "text": [
        "   unicode problem! 2/10   3/10   4/10   unicode problem! 5/10   unicode problem! 6/10   7/10   \n",
        "Page:0\n",
        "1/10"
       ]
      },
      {
       "output_type": "stream",
       "stream": "stdout",
       "text": [
        "   2/10   3/10   unicode problem! 4/10   5/10   6/10   7/10   8/10   unicode problem! \n",
        "Page:1\n",
        "unicode problem!"
       ]
      },
      {
       "output_type": "stream",
       "stream": "stdout",
       "text": [
        " 1/10   2/10   unicode problem! unicode problem! unicode problem! unicode problem! unicode problem! 3/10   unicode problem! \n",
        "Page:2\n",
        "1/10"
       ]
      },
      {
       "output_type": "stream",
       "stream": "stdout",
       "text": [
        "   unicode problem! unicode problem! 2/10   3/10   4/10   5/10   6/10   unicode problem! 7/10   \n",
        "Page:3\n",
        "unicode problem!"
       ]
      },
      {
       "output_type": "stream",
       "stream": "stdout",
       "text": [
        " 1/10   2/10   3/10   unicode problem! unicode problem! unicode problem! unicode problem! unicode problem! 4/10   \n",
        "Page:4\n",
        "1/10"
       ]
      },
      {
       "output_type": "stream",
       "stream": "stdout",
       "text": [
        "   2/10   3/10   4/10   5/10   6/10   unicode problem! unicode problem! unicode problem! unicode problem! \n",
        "Page:5\n",
        "1/10"
       ]
      },
      {
       "output_type": "stream",
       "stream": "stdout",
       "text": [
        "   2/10   unicode problem! 3/10   4/10   unicode problem! 5/10   6/10   unicode problem! 7/10   \n",
        "Page:6\n",
        "1/10"
       ]
      },
      {
       "output_type": "stream",
       "stream": "stdout",
       "text": [
        "   2/10   unicode problem! 3/10   4/10   unicode problem! unicode problem! 5/10   6/10   7/10   \n",
        "Page:7\n",
        "1/10"
       ]
      },
      {
       "output_type": "stream",
       "stream": "stdout",
       "text": [
        "   unicode problem! 2/10   unicode problem! 3/10   unicode problem! unicode problem! unicode problem! 4/10   5/10   \n",
        "Page:8\n",
        "1/10"
       ]
      },
      {
       "output_type": "stream",
       "stream": "stdout",
       "text": [
        "   2/10   unicode problem! unicode problem! 3/10   4/10   5/10   6/10   unicode problem! 7/10   \n",
        "Page:9\n",
        "unicode problem!"
       ]
      },
      {
       "output_type": "stream",
       "stream": "stdout",
       "text": [
        " 1/10   2/10   3/10   4/10   5/10   unicode problem! 6/10   unicode problem! unicode problem! \n",
        "Page:0\n",
        "1/10"
       ]
      },
      {
       "output_type": "stream",
       "stream": "stdout",
       "text": [
        "   2/10   unicode problem! 3/10   4/10   5/10   6/10   7/10   8/10   9/10   \n",
        "Page:1\n",
        "1/10"
       ]
      },
      {
       "output_type": "stream",
       "stream": "stdout",
       "text": [
        "   2/10   3/10   4/10   5/10   unicode problem! 6/10   unicode problem! 7/10   8/10   \n",
        "Page:2\n",
        "unicode problem!"
       ]
      },
      {
       "output_type": "stream",
       "stream": "stdout",
       "text": [
        " 1/10   2/10   3/10   4/10   5/10   6/10   unicode problem! 7/10   unicode problem! \n",
        "Page:3\n",
        "unicode problem!"
       ]
      },
      {
       "output_type": "stream",
       "stream": "stdout",
       "text": [
        " 1/10   unicode problem! 2/10   3/10   unicode problem! 4/10   unicode problem! unicode problem! 5/10   \n",
        "Page:4\n",
        "unicode problem!"
       ]
      },
      {
       "output_type": "stream",
       "stream": "stdout",
       "text": [
        " 1/10   2/10   3/10   4/10   5/10   6/10   7/10   unicode problem! 8/10   \n",
        "Page:5\n",
        "unicode problem!"
       ]
      },
      {
       "output_type": "stream",
       "stream": "stdout",
       "text": [
        " unicode problem! unicode problem! unicode problem! 1/10   2/10   unicode problem! unicode problem! 3/10   unicode problem! \n",
        "Page:6\n",
        "unicode problem!"
       ]
      },
      {
       "output_type": "stream",
       "stream": "stdout",
       "text": [
        " 1/10   2/10   unicode problem! 3/10   unicode problem! 4/10   unicode problem! 5/10   unicode problem! \n",
        "Page:7\n",
        "1/10"
       ]
      },
      {
       "output_type": "stream",
       "stream": "stdout",
       "text": [
        "   2/10   unicode problem! 3/10   unicode problem! 4/10   unicode problem! 5/10   unicode problem! 6/10   \n",
        "Page:8\n",
        "unicode problem!"
       ]
      },
      {
       "output_type": "stream",
       "stream": "stdout",
       "text": [
        " 1/10   unicode problem! unicode problem! unicode problem! 2/10   unicode problem! 3/10   unicode problem! 4/10   \n",
        "Page:9\n",
        "1/10"
       ]
      },
      {
       "output_type": "stream",
       "stream": "stdout",
       "text": [
        "   2/10   3/10   4/10   5/10   unicode problem! 6/10   7/10   8/10   9/10   \n",
        "Page:0\n",
        "1/10"
       ]
      },
      {
       "output_type": "stream",
       "stream": "stdout",
       "text": [
        "   2/10   unicode problem! 3/10   4/10   5/10   unicode problem! 6/10   7/10   unicode problem! \n",
        "Page:1\n",
        "1/10"
       ]
      },
      {
       "output_type": "stream",
       "stream": "stdout",
       "text": [
        "   unicode problem! unicode problem! 2/10   3/10   4/10   5/10   6/10   7/10   8/10   \n",
        "Page:2\n",
        "1/10"
       ]
      },
      {
       "output_type": "stream",
       "stream": "stdout",
       "text": [
        "   2/10   unicode problem! 3/10   4/10   5/10   6/10   unicode problem! 7/10   8/10   \n",
        "Page:3\n",
        "1/10"
       ]
      },
      {
       "output_type": "stream",
       "stream": "stdout",
       "text": [
        "   2/10   3/10   4/10   5/10   6/10   7/10   unicode problem! unicode problem! unicode problem! \n",
        "Page:4\n",
        "unicode problem!"
       ]
      },
      {
       "output_type": "stream",
       "stream": "stdout",
       "text": [
        " 1/10   2/10   3/10   4/10   5/10   6/10   7/10   unicode problem! 8/10   \n",
        "Page:5\n",
        "1/10"
       ]
      },
      {
       "output_type": "stream",
       "stream": "stdout",
       "text": [
        "   2/10   3/10   4/10   5/10   unicode problem! 6/10   7/10   8/10   9/10   \n",
        "Page:6\n",
        "1/10"
       ]
      },
      {
       "output_type": "stream",
       "stream": "stdout",
       "text": [
        "   unicode problem! 2/10   3/10   unicode problem! 4/10   5/10   6/10   7/10   8/10   \n",
        "Page:7\n",
        "1/10"
       ]
      },
      {
       "output_type": "stream",
       "stream": "stdout",
       "text": [
        "   2/10   unicode problem! 3/10   4/10   5/10   6/10   unicode problem! unicode problem! \n",
        "Page:8\n",
        "unicode problem!"
       ]
      },
      {
       "output_type": "stream",
       "stream": "stdout",
       "text": [
        " unicode problem! 1/10   unicode problem! unicode problem! unicode problem! unicode problem! 2/10   3/10   unicode problem! \n",
        "Page:9\n"
       ]
      }
     ],
     "prompt_number": 213
    },
    {
     "cell_type": "code",
     "collapsed": false,
     "input": [
      "#iOS 7 searching contents:\n",
      "search_con = '\\\"iOS 7\\\"' #run again using 'iOS7'\n",
      "t_const = 1379462411\n",
      "list_sin_until_time = getSUTimeList(t_const)\n",
      "t_since = list_sin_until_time[0]\n",
      "t_until = list_sin_until_time[1]\n",
      "\n",
      "page_num = 0 #page #, 1/2/3/4/5...\n",
      "lang = 'en'\n",
      "sort = ['-date','date']#newest or oldest\n",
      "\n",
      "search_url = 'http://topsy.com/s?q=' + search_con + '&type=tweet&sort=' + sort[0] + '&language=' + lang + '&offset=' + str(page_num) + '0&mintime=' + t_since + '&maxtime=' + t_until\n",
      "\n",
      "print search_url"
     ],
     "language": "python",
     "metadata": {},
     "outputs": [
      {
       "output_type": "stream",
       "stream": "stdout",
       "text": [
        "['1379462411', '1379548811', '1379635211', '1379721611', '1379808011', '1379894411', '1379980811', '1380067211', '1380153611', '1380240011']\n",
        "http://topsy.com/s?q=\"iOS 7\"&type=tweet&sort=-date&language=en&offset=00&mintime=1379462411&maxtime=1379548811\n"
       ]
      }
     ],
     "prompt_number": 214
    },
    {
     "cell_type": "code",
     "collapsed": false,
     "input": [
      "#insert in to table ios_six_tweets\n",
      "tbl_name = 'ios_seven_tweets'\n",
      "for sort_index in range(2):\n",
      "    for since_until_index in range(9):\n",
      "        for page_num in range(10):\n",
      "            myDBInsert(dbuser, dbpsw, dbname, tbl_name, search_con, list_sin_until_time[since_until_index],\n",
      "                       list_sin_until_time[since_until_index + 1], page_num, lang, sort[sort_index])"
     ],
     "language": "python",
     "metadata": {},
     "outputs": [
      {
       "output_type": "stream",
       "stream": "stdout",
       "text": [
        "unicode problem! unicode problem! 1/10   unicode problem! 2/10   3/10   4/10   unicode problem! unicode problem! 5/10   \n",
        "Page:0\n",
        "unicode problem!"
       ]
      },
      {
       "output_type": "stream",
       "stream": "stdout",
       "text": [
        " 1/10   unicode problem! unicode problem! unicode problem! 2/10   3/10   4/10   5/10   unicode problem! \n",
        "Page:1\n",
        "unicode problem!"
       ]
      },
      {
       "output_type": "stream",
       "stream": "stdout",
       "text": [
        " 1/10   unicode problem! unicode problem! unicode problem! unicode problem! unicode problem! unicode problem! 2/10   unicode problem! \n",
        "Page:2\n",
        "1/10"
       ]
      },
      {
       "output_type": "stream",
       "stream": "stdout",
       "text": [
        "   2/10   3/10   4/10   5/10   6/10   unicode problem! 7/10   unicode problem! unicode problem! \n",
        "Page:3\n",
        "unicode problem!"
       ]
      },
      {
       "output_type": "stream",
       "stream": "stdout",
       "text": [
        " 1/10   2/10   3/10   4/10   5/10   6/10   7/10   8/10   9/10   \n",
        "Page:4\n",
        "unicode problem!"
       ]
      },
      {
       "output_type": "stream",
       "stream": "stdout",
       "text": [
        " unicode problem! 1/10   2/10   3/10   unicode problem! unicode problem! 4/10   5/10   6/10   \n",
        "Page:5\n",
        "1/10"
       ]
      },
      {
       "output_type": "stream",
       "stream": "stdout",
       "text": [
        "   2/10   3/10   unicode problem! 4/10   unicode problem! 5/10   unicode problem! 6/10   unicode problem! \n",
        "Page:6\n",
        "1/10"
       ]
      },
      {
       "output_type": "stream",
       "stream": "stdout",
       "text": [
        "   unicode problem! unicode problem! 2/10   unicode problem! 3/10   4/10   5/10   unicode problem! unicode problem! \n",
        "Page:7\n",
        "unicode problem!"
       ]
      },
      {
       "output_type": "stream",
       "stream": "stdout",
       "text": [
        " unicode problem! unicode problem! 1/10   2/10   3/10   4/10   5/10   unicode problem! unicode problem! \n",
        "Page:8\n",
        "unicode problem!"
       ]
      },
      {
       "output_type": "stream",
       "stream": "stdout",
       "text": [
        " 1/10   2/10   3/10   unicode problem! unicode problem! unicode problem! unicode problem! unicode problem! 4/10   \n",
        "Page:9\n",
        "unicode problem!"
       ]
      },
      {
       "output_type": "stream",
       "stream": "stdout",
       "text": [
        " unicode problem! unicode problem! 1/10   2/10   unicode problem! 3/10   4/10   unicode problem! 5/10   \n",
        "Page:0\n",
        "1/10"
       ]
      },
      {
       "output_type": "stream",
       "stream": "stdout",
       "text": [
        "   unicode problem! unicode problem! unicode problem! 2/10   3/10   unicode problem! 4/10   5/10   6/10   \n",
        "Page:1\n",
        "1/10"
       ]
      },
      {
       "output_type": "stream",
       "stream": "stdout",
       "text": [
        "   2/10   unicode problem! 3/10   4/10   5/10   unicode problem! 6/10   unicode problem! 7/10   \n",
        "Page:2\n",
        "1/10"
       ]
      },
      {
       "output_type": "stream",
       "stream": "stdout",
       "text": [
        "   2/10   3/10   4/10   5/10   6/10   7/10   8/10   9/10   10/10   \n",
        "Page:3\n",
        "1/10"
       ]
      },
      {
       "output_type": "stream",
       "stream": "stdout",
       "text": [
        "   2/10   3/10   4/10   unicode problem! unicode problem! 5/10   unicode problem! 6/10   7/10   \n",
        "Page:4\n",
        "1/10"
       ]
      },
      {
       "output_type": "stream",
       "stream": "stdout",
       "text": [
        "   unicode problem! unicode problem! unicode problem! unicode problem! unicode problem! unicode problem! 2/10   3/10   4/10   \n",
        "Page:5\n",
        "unicode problem!"
       ]
      },
      {
       "output_type": "stream",
       "stream": "stdout",
       "text": [
        " 1/10   2/10   3/10   4/10   5/10   6/10   unicode problem! 7/10   8/10   \n",
        "Page:6\n",
        "1/10"
       ]
      },
      {
       "output_type": "stream",
       "stream": "stdout",
       "text": [
        "   unicode problem! unicode problem! unicode problem! unicode problem! 2/10   unicode problem! 3/10   4/10   unicode problem! \n",
        "Page:7\n",
        "unicode problem!"
       ]
      },
      {
       "output_type": "stream",
       "stream": "stdout",
       "text": [
        " 1/10   2/10   3/10   unicode problem! unicode problem! 4/10   5/10   6/10   unicode problem! \n",
        "Page:8\n",
        "1/10"
       ]
      },
      {
       "output_type": "stream",
       "stream": "stdout",
       "text": [
        "   2/10   unicode problem! unicode problem! 3/10   unicode problem! 4/10   5/10   unicode problem! 6/10   \n",
        "Page:9\n",
        "1/10"
       ]
      },
      {
       "output_type": "stream",
       "stream": "stdout",
       "text": [
        "   2/10   3/10   4/10   unicode problem! 5/10   6/10   unicode problem! 7/10   8/10   \n",
        "Page:0\n",
        "1/10"
       ]
      },
      {
       "output_type": "stream",
       "stream": "stdout",
       "text": [
        "   2/10   3/10   4/10   unicode problem! 5/10   unicode problem! unicode problem! 6/10   7/10   \n",
        "Page:1\n",
        "unicode problem!"
       ]
      },
      {
       "output_type": "stream",
       "stream": "stdout",
       "text": [
        " 1/10   2/10   3/10   unicode problem! unicode problem! 4/10   5/10   6/10   7/10   \n",
        "Page:2\n",
        "unicode problem!"
       ]
      },
      {
       "output_type": "stream",
       "stream": "stdout",
       "text": [
        " unicode problem! 1/10   unicode problem! 2/10   unicode problem! 3/10   4/10   5/10   6/10   \n",
        "Page:3\n",
        "1/10"
       ]
      },
      {
       "output_type": "stream",
       "stream": "stdout",
       "text": [
        "   2/10   3/10   4/10   5/10   unicode problem! unicode problem! unicode problem! unicode problem! unicode problem! \n",
        "Page:4\n",
        "1/10"
       ]
      },
      {
       "output_type": "stream",
       "stream": "stdout",
       "text": [
        "   2/10   3/10   unicode problem! unicode problem! 4/10   unicode problem! 5/10   6/10   7/10   \n",
        "Page:5\n",
        "unicode problem!"
       ]
      },
      {
       "output_type": "stream",
       "stream": "stdout",
       "text": [
        " unicode problem! 1/10   2/10   unicode problem! 3/10   4/10   5/10   unicode problem! 6/10   \n",
        "Page:6\n",
        "1/10"
       ]
      },
      {
       "output_type": "stream",
       "stream": "stdout",
       "text": [
        "   2/10   3/10   4/10   unicode problem! unicode problem! unicode problem! 5/10   unicode problem! 6/10   \n",
        "Page:7\n",
        "1/10"
       ]
      },
      {
       "output_type": "stream",
       "stream": "stdout",
       "text": [
        "   2/10   3/10   unicode problem! 4/10   5/10   6/10   7/10   8/10   unicode problem! \n",
        "Page:8\n",
        "1/10"
       ]
      },
      {
       "output_type": "stream",
       "stream": "stdout",
       "text": [
        "   unicode problem! 2/10   3/10   4/10   unicode problem! 5/10   6/10   7/10   unicode problem! \n",
        "Page:9\n",
        "unicode problem!"
       ]
      },
      {
       "output_type": "stream",
       "stream": "stdout",
       "text": [
        " unicode problem! unicode problem! 1/10   unicode problem! 2/10   3/10   unicode problem! 4/10   unicode problem! \n",
        "Page:0\n",
        "1/10"
       ]
      },
      {
       "output_type": "stream",
       "stream": "stdout",
       "text": [
        "   2/10   unicode problem! unicode problem! unicode problem! 3/10   4/10   5/10   unicode problem! unicode problem! \n",
        "Page:1\n",
        "1/10"
       ]
      },
      {
       "output_type": "stream",
       "stream": "stdout",
       "text": [
        "   2/10   3/10   unicode problem! 4/10   5/10   6/10   unicode problem! 7/10   unicode problem! \n",
        "Page:2\n",
        "1/10"
       ]
      },
      {
       "output_type": "stream",
       "stream": "stdout",
       "text": [
        "   unicode problem! 2/10   3/10   4/10   unicode problem! unicode problem! 5/10   6/10   unicode problem! \n",
        "Page:3\n",
        "1/10"
       ]
      },
      {
       "output_type": "stream",
       "stream": "stdout",
       "text": [
        "   unicode problem! unicode problem! unicode problem! unicode problem! 2/10   3/10   unicode problem! unicode problem! 4/10   \n",
        "Page:4\n",
        "1/10"
       ]
      },
      {
       "output_type": "stream",
       "stream": "stdout",
       "text": [
        "   unicode problem! unicode problem! 2/10   3/10   4/10   unicode problem! 5/10   unicode problem! 6/10   \n",
        "Page:5\n",
        "unicode problem!"
       ]
      },
      {
       "output_type": "stream",
       "stream": "stdout",
       "text": [
        " 1/10   2/10   3/10   4/10   5/10   6/10   7/10   8/10   unicode problem! \n",
        "Page:6\n",
        "unicode problem!"
       ]
      },
      {
       "output_type": "stream",
       "stream": "stdout",
       "text": [
        " 1/10   2/10   3/10   4/10   5/10   6/10   7/10   unicode problem! 8/10   \n",
        "Page:7\n",
        "1/10"
       ]
      },
      {
       "output_type": "stream",
       "stream": "stdout",
       "text": [
        "   unicode problem! 2/10   3/10   4/10   5/10   6/10   7/10   8/10   unicode problem! \n",
        "Page:8\n",
        "1/10"
       ]
      },
      {
       "output_type": "stream",
       "stream": "stdout",
       "text": [
        "   2/10   unicode problem! 3/10   unicode problem! 4/10   unicode problem! 5/10   unicode problem! unicode problem! \n",
        "Page:9\n",
        "1/10"
       ]
      },
      {
       "output_type": "stream",
       "stream": "stdout",
       "text": [
        "   2/10   3/10   unicode problem! 4/10   unicode problem! 5/10   6/10   7/10   8/10   \n",
        "Page:0\n",
        "1/10"
       ]
      },
      {
       "output_type": "stream",
       "stream": "stdout",
       "text": [
        "   unicode problem! 2/10   unicode problem! 3/10   4/10   unicode problem! 5/10   unicode problem! unicode problem! \n",
        "Page:1\n",
        "1/10"
       ]
      },
      {
       "output_type": "stream",
       "stream": "stdout",
       "text": [
        "   2/10   3/10   4/10   5/10   6/10   unicode problem! 7/10   8/10   9/10   \n",
        "Page:2\n",
        "unicode problem!"
       ]
      },
      {
       "output_type": "stream",
       "stream": "stdout",
       "text": [
        " 1/10   unicode problem! unicode problem! 2/10   3/10   unicode problem! 4/10   5/10   unicode problem! \n",
        "Page:3\n",
        "unicode problem!"
       ]
      },
      {
       "output_type": "stream",
       "stream": "stdout",
       "text": [
        " unicode problem! 1/10   unicode problem! unicode problem! unicode problem! 2/10   3/10   4/10   5/10   \n",
        "Page:4\n",
        "1/10"
       ]
      },
      {
       "output_type": "stream",
       "stream": "stdout",
       "text": [
        "   2/10   3/10   4/10   5/10   unicode problem! 6/10   7/10   8/10   9/10   \n",
        "Page:5\n",
        "1/10"
       ]
      },
      {
       "output_type": "stream",
       "stream": "stdout",
       "text": [
        "   2/10   unicode problem! unicode problem! unicode problem! 3/10   unicode problem! 4/10   5/10   6/10   \n",
        "Page:6\n",
        "1/10"
       ]
      },
      {
       "output_type": "stream",
       "stream": "stdout",
       "text": [
        "   2/10   3/10   4/10   5/10   6/10   unicode problem! 7/10   8/10   9/10   \n",
        "Page:7\n",
        "unicode problem!"
       ]
      },
      {
       "output_type": "stream",
       "stream": "stdout",
       "text": [
        " 1/10   2/10   3/10   4/10   unicode problem! 5/10   6/10   7/10   8/10   \n",
        "Page:8\n",
        "unicode problem!"
       ]
      },
      {
       "output_type": "stream",
       "stream": "stdout",
       "text": [
        " unicode problem! 1/10   2/10   3/10   unicode problem! 4/10   unicode problem! 5/10   unicode problem! \n",
        "Page:9\n",
        "unicode problem!"
       ]
      },
      {
       "output_type": "stream",
       "stream": "stdout",
       "text": [
        " 1/10   unicode problem! 2/10   3/10   unicode problem! 4/10   unicode problem! 5/10   unicode problem! \n",
        "Page:0\n",
        "unicode problem!"
       ]
      },
      {
       "output_type": "stream",
       "stream": "stdout",
       "text": [
        " 1/10   2/10   3/10   unicode problem! 4/10   unicode problem! unicode problem! 5/10   unicode problem! \n",
        "Page:1\n",
        "1/10"
       ]
      },
      {
       "output_type": "stream",
       "stream": "stdout",
       "text": [
        "   unicode problem! 2/10   3/10   4/10   5/10   6/10   unicode problem! unicode problem! 7/10   \n",
        "Page:2\n",
        "unicode problem!"
       ]
      },
      {
       "output_type": "stream",
       "stream": "stdout",
       "text": [
        " 1/10   unicode problem! unicode problem! 2/10   unicode problem! 3/10   4/10   unicode problem! unicode problem! \n",
        "Page:3\n",
        "1/10"
       ]
      },
      {
       "output_type": "stream",
       "stream": "stdout",
       "text": [
        "   2/10   3/10   4/10   5/10   6/10   7/10   8/10   9/10   unicode problem! \n",
        "Page:4\n",
        "1/10"
       ]
      },
      {
       "output_type": "stream",
       "stream": "stdout",
       "text": [
        "   2/10   unicode problem! unicode problem! unicode problem! unicode problem! 3/10   4/10   5/10   6/10   \n",
        "Page:5\n",
        "1/10"
       ]
      },
      {
       "output_type": "stream",
       "stream": "stdout",
       "text": [
        "   2/10   3/10   unicode problem! 4/10   5/10   6/10   unicode problem! 7/10   8/10   \n",
        "Page:6\n",
        "1/10"
       ]
      },
      {
       "output_type": "stream",
       "stream": "stdout",
       "text": [
        "   2/10   3/10   4/10   unicode problem! 5/10   unicode problem! 6/10   7/10   8/10   \n",
        "Page:7\n",
        "unicode problem!"
       ]
      },
      {
       "output_type": "stream",
       "stream": "stdout",
       "text": [
        " 1/10   unicode problem! 2/10   3/10   4/10   5/10   6/10   7/10   8/10   \n",
        "Page:8\n",
        "1/10"
       ]
      },
      {
       "output_type": "stream",
       "stream": "stdout",
       "text": [
        "   unicode problem! 2/10   3/10   4/10   unicode problem! 5/10   6/10   7/10   unicode problem! \n",
        "Page:9\n",
        "1/10"
       ]
      },
      {
       "output_type": "stream",
       "stream": "stdout",
       "text": [
        "   unicode problem! 2/10   unicode problem! unicode problem! 3/10   4/10   5/10   6/10   unicode problem! \n",
        "Page:0\n",
        "1/10"
       ]
      },
      {
       "output_type": "stream",
       "stream": "stdout",
       "text": [
        "   2/10   3/10   unicode problem! unicode problem! 4/10   5/10   6/10   unicode problem! unicode problem! \n",
        "Page:1\n",
        "1/10"
       ]
      },
      {
       "output_type": "stream",
       "stream": "stdout",
       "text": [
        "   2/10   unicode problem! 3/10   4/10   5/10   unicode problem! 6/10   7/10   8/10   \n",
        "Page:2\n",
        "1/10"
       ]
      },
      {
       "output_type": "stream",
       "stream": "stdout",
       "text": [
        "   unicode problem! 2/10   3/10   4/10   5/10   6/10   7/10   8/10   9/10   \n",
        "Page:3\n",
        "unicode problem!"
       ]
      },
      {
       "output_type": "stream",
       "stream": "stdout",
       "text": [
        " 1/10   2/10   3/10   4/10   unicode problem! 5/10   unicode problem! 6/10   7/10   \n",
        "Page:4\n",
        "1/10"
       ]
      },
      {
       "output_type": "stream",
       "stream": "stdout",
       "text": [
        "   2/10   3/10   4/10   unicode problem! 5/10   6/10   7/10   8/10   9/10   \n",
        "Page:5\n",
        "unicode problem!"
       ]
      },
      {
       "output_type": "stream",
       "stream": "stdout",
       "text": [
        " unicode problem! unicode problem! unicode problem! 1/10   2/10   unicode problem! 3/10   unicode problem! 4/10   \n",
        "Page:6\n",
        "1/10"
       ]
      },
      {
       "output_type": "stream",
       "stream": "stdout",
       "text": [
        "   2/10   3/10   4/10   5/10   unicode problem! 6/10   unicode problem! unicode problem! 7/10   \n",
        "Page:7\n",
        "1/10"
       ]
      },
      {
       "output_type": "stream",
       "stream": "stdout",
       "text": [
        "   unicode problem! unicode problem! 2/10   unicode problem! 3/10   unicode problem! unicode problem! 4/10   unicode problem! \n",
        "Page:8\n",
        "1/10"
       ]
      },
      {
       "output_type": "stream",
       "stream": "stdout",
       "text": [
        "   2/10   unicode problem! 3/10   unicode problem! 4/10   unicode problem! 5/10   6/10   7/10   \n",
        "Page:9\n",
        "1/10"
       ]
      },
      {
       "output_type": "stream",
       "stream": "stdout",
       "text": [
        "   2/10   unicode problem! 3/10   4/10   unicode problem! 5/10   unicode problem! unicode problem! unicode problem! \n",
        "Page:0\n",
        "unicode problem!"
       ]
      },
      {
       "output_type": "stream",
       "stream": "stdout",
       "text": [
        " 1/10   unicode problem! 2/10   3/10   4/10   5/10   unicode problem! 6/10   7/10   \n",
        "Page:1\n",
        "unicode problem!"
       ]
      },
      {
       "output_type": "stream",
       "stream": "stdout",
       "text": [
        " 1/10   2/10   unicode problem! 3/10   4/10   unicode problem! 5/10   6/10   7/10   \n",
        "Page:2\n",
        "1/10"
       ]
      },
      {
       "output_type": "stream",
       "stream": "stdout",
       "text": [
        "   unicode problem! unicode problem! unicode problem! unicode problem! 2/10   unicode problem! unicode problem! unicode problem! unicode problem! \n",
        "Page:3\n",
        "unicode problem!"
       ]
      },
      {
       "output_type": "stream",
       "stream": "stdout",
       "text": [
        " unicode problem! 1/10   2/10   3/10   4/10   unicode problem! 5/10   6/10   7/10   \n",
        "Page:4\n",
        "1/10"
       ]
      },
      {
       "output_type": "stream",
       "stream": "stdout",
       "text": [
        "   unicode problem! unicode problem! unicode problem! unicode problem! 2/10   3/10   unicode problem! unicode problem! unicode problem! \n",
        "Page:5\n",
        "unicode problem!"
       ]
      },
      {
       "output_type": "stream",
       "stream": "stdout",
       "text": [
        " 1/10   unicode problem! unicode problem! 2/10   3/10   unicode problem! unicode problem! unicode problem! unicode problem! \n",
        "Page:6\n",
        "unicode problem!"
       ]
      },
      {
       "output_type": "stream",
       "stream": "stdout",
       "text": [
        " unicode problem! 1/10   2/10   3/10   unicode problem! 4/10   5/10   unicode problem! unicode problem! \n",
        "Page:7\n",
        "1/10"
       ]
      },
      {
       "output_type": "stream",
       "stream": "stdout",
       "text": [
        "   unicode problem! unicode problem! unicode problem! unicode problem! unicode problem! 2/10   3/10   unicode problem! unicode problem! \n",
        "Page:8\n",
        "unicode problem!"
       ]
      },
      {
       "output_type": "stream",
       "stream": "stdout",
       "text": [
        " unicode problem! 1/10   2/10   unicode problem! unicode problem! unicode problem! 3/10   unicode problem! unicode problem! \n",
        "Page:9\n",
        "unicode problem!"
       ]
      },
      {
       "output_type": "stream",
       "stream": "stdout",
       "text": [
        " unicode problem! unicode problem! 1/10   unicode problem! 2/10   unicode problem! unicode problem! unicode problem! unicode problem! \n",
        "Page:0\n",
        "1/10"
       ]
      },
      {
       "output_type": "stream",
       "stream": "stdout",
       "text": [
        "   unicode problem! unicode problem! unicode problem! unicode problem! 2/10   3/10   4/10   5/10   6/10   \n",
        "Page:1\n",
        "unicode problem!"
       ]
      },
      {
       "output_type": "stream",
       "stream": "stdout",
       "text": [
        " unicode problem! 1/10   unicode problem! unicode problem! unicode problem! unicode problem! 2/10   3/10   4/10   \n",
        "Page:2\n",
        "unicode problem!"
       ]
      },
      {
       "output_type": "stream",
       "stream": "stdout",
       "text": [
        " 1/10   unicode problem! 2/10   unicode problem! 3/10   unicode problem! 4/10   5/10   unicode problem! \n",
        "Page:3\n",
        "unicode problem!"
       ]
      },
      {
       "output_type": "stream",
       "stream": "stdout",
       "text": [
        " unicode problem! unicode problem! 1/10   unicode problem! unicode problem! 2/10   3/10   4/10   unicode problem! \n",
        "Page:4\n",
        "unicode problem!"
       ]
      },
      {
       "output_type": "stream",
       "stream": "stdout",
       "text": [
        " 1/10   unicode problem! 2/10   3/10   4/10   5/10   6/10   7/10   8/10   \n",
        "Page:5\n",
        "1/10"
       ]
      },
      {
       "output_type": "stream",
       "stream": "stdout",
       "text": [
        "   2/10   3/10   4/10   5/10   6/10   7/10   8/10   9/10   10/10   \n",
        "Page:6\n",
        "unicode problem!"
       ]
      },
      {
       "output_type": "stream",
       "stream": "stdout",
       "text": [
        " 1/10   2/10   unicode problem! 3/10   unicode problem! 4/10   unicode problem! 5/10   6/10   \n",
        "Page:7\n",
        "1/10"
       ]
      },
      {
       "output_type": "stream",
       "stream": "stdout",
       "text": [
        "   2/10   3/10   4/10   5/10   unicode problem! 6/10   7/10   8/10   unicode problem! \n",
        "Page:8\n",
        "1/10"
       ]
      },
      {
       "output_type": "stream",
       "stream": "stdout",
       "text": [
        "   2/10   unicode problem! 3/10   4/10   unicode problem! 5/10   6/10   7/10   8/10   \n",
        "Page:9\n",
        "unicode problem!"
       ]
      },
      {
       "output_type": "stream",
       "stream": "stdout",
       "text": [
        " unicode problem! 1/10   unicode problem! 2/10   3/10   4/10   unicode problem! unicode problem! 5/10   \n",
        "Page:0\n",
        "unicode problem!"
       ]
      },
      {
       "output_type": "stream",
       "stream": "stdout",
       "text": [
        " 1/10   unicode problem! unicode problem! unicode problem! 2/10   3/10   4/10   5/10   unicode problem! \n",
        "Page:1\n",
        "unicode problem!"
       ]
      },
      {
       "output_type": "stream",
       "stream": "stdout",
       "text": [
        " 1/10   unicode problem! unicode problem! unicode problem! unicode problem! unicode problem! unicode problem! 2/10   unicode problem! \n",
        "Page:2\n",
        "1/10"
       ]
      },
      {
       "output_type": "stream",
       "stream": "stdout",
       "text": [
        "   2/10   3/10   4/10   5/10   6/10   unicode problem! 7/10   unicode problem! unicode problem! \n",
        "Page:3\n",
        "unicode problem!"
       ]
      },
      {
       "output_type": "stream",
       "stream": "stdout",
       "text": [
        " 1/10   2/10   3/10   4/10   5/10   6/10   7/10   8/10   9/10   \n",
        "Page:4\n",
        "unicode problem!"
       ]
      },
      {
       "output_type": "stream",
       "stream": "stdout",
       "text": [
        " unicode problem! 1/10   2/10   3/10   unicode problem! unicode problem! 4/10   5/10   6/10   \n",
        "Page:5\n",
        "1/10"
       ]
      },
      {
       "output_type": "stream",
       "stream": "stdout",
       "text": [
        "   2/10   3/10   unicode problem! 4/10   unicode problem! 5/10   unicode problem! 6/10   unicode problem! \n",
        "Page:6\n",
        "1/10"
       ]
      },
      {
       "output_type": "stream",
       "stream": "stdout",
       "text": [
        "   unicode problem! unicode problem! 2/10   unicode problem! 3/10   4/10   5/10   unicode problem! unicode problem! \n",
        "Page:7\n",
        "unicode problem!"
       ]
      },
      {
       "output_type": "stream",
       "stream": "stdout",
       "text": [
        " unicode problem! unicode problem! 1/10   2/10   3/10   4/10   5/10   unicode problem! unicode problem! \n",
        "Page:8\n",
        "unicode problem!"
       ]
      },
      {
       "output_type": "stream",
       "stream": "stdout",
       "text": [
        " 1/10   2/10   3/10   unicode problem! unicode problem! unicode problem! unicode problem! unicode problem! 4/10   \n",
        "Page:9\n",
        "unicode problem!"
       ]
      },
      {
       "output_type": "stream",
       "stream": "stdout",
       "text": [
        " unicode problem! unicode problem! 1/10   2/10   unicode problem! 3/10   4/10   unicode problem! 5/10   \n",
        "Page:0\n",
        "1/10"
       ]
      },
      {
       "output_type": "stream",
       "stream": "stdout",
       "text": [
        "   unicode problem! unicode problem! unicode problem! 2/10   3/10   unicode problem! 4/10   5/10   6/10   \n",
        "Page:1\n",
        "1/10"
       ]
      },
      {
       "output_type": "stream",
       "stream": "stdout",
       "text": [
        "   2/10   unicode problem! 3/10   4/10   5/10   unicode problem! 6/10   unicode problem! 7/10   \n",
        "Page:2\n",
        "1/10"
       ]
      },
      {
       "output_type": "stream",
       "stream": "stdout",
       "text": [
        "   2/10   3/10   4/10   5/10   6/10   7/10   8/10   9/10   10/10   \n",
        "Page:3\n",
        "1/10"
       ]
      },
      {
       "output_type": "stream",
       "stream": "stdout",
       "text": [
        "   2/10   3/10   4/10   unicode problem! unicode problem! 5/10   unicode problem! 6/10   7/10   \n",
        "Page:4\n",
        "1/10"
       ]
      },
      {
       "output_type": "stream",
       "stream": "stdout",
       "text": [
        "   unicode problem! unicode problem! unicode problem! unicode problem! unicode problem! unicode problem! 2/10   3/10   4/10   \n",
        "Page:5\n",
        "unicode problem!"
       ]
      },
      {
       "output_type": "stream",
       "stream": "stdout",
       "text": [
        " 1/10   2/10   3/10   4/10   5/10   6/10   unicode problem! 7/10   8/10   \n",
        "Page:6\n",
        "1/10"
       ]
      },
      {
       "output_type": "stream",
       "stream": "stdout",
       "text": [
        "   unicode problem! unicode problem! unicode problem! unicode problem! 2/10   unicode problem! 3/10   4/10   unicode problem! \n",
        "Page:7\n",
        "unicode problem!"
       ]
      },
      {
       "output_type": "stream",
       "stream": "stdout",
       "text": [
        " 1/10   2/10   3/10   unicode problem! unicode problem! 4/10   5/10   6/10   unicode problem! \n",
        "Page:8\n",
        "1/10"
       ]
      },
      {
       "output_type": "stream",
       "stream": "stdout",
       "text": [
        "   2/10   unicode problem! unicode problem! 3/10   unicode problem! 4/10   5/10   unicode problem! 6/10   \n",
        "Page:9\n",
        "1/10"
       ]
      },
      {
       "output_type": "stream",
       "stream": "stdout",
       "text": [
        "   2/10   3/10   4/10   unicode problem! 5/10   6/10   unicode problem! 7/10   8/10   \n",
        "Page:0\n",
        "1/10"
       ]
      },
      {
       "output_type": "stream",
       "stream": "stdout",
       "text": [
        "   2/10   3/10   4/10   unicode problem! 5/10   unicode problem! unicode problem! 6/10   7/10   \n",
        "Page:1\n",
        "unicode problem!"
       ]
      },
      {
       "output_type": "stream",
       "stream": "stdout",
       "text": [
        " 1/10   2/10   3/10   unicode problem! unicode problem! 4/10   5/10   6/10   7/10   \n",
        "Page:2\n",
        "unicode problem!"
       ]
      },
      {
       "output_type": "stream",
       "stream": "stdout",
       "text": [
        " unicode problem! 1/10   unicode problem! 2/10   unicode problem! 3/10   4/10   5/10   6/10   \n",
        "Page:3\n",
        "1/10"
       ]
      },
      {
       "output_type": "stream",
       "stream": "stdout",
       "text": [
        "   2/10   3/10   4/10   5/10   unicode problem! unicode problem! unicode problem! unicode problem! unicode problem! \n",
        "Page:4\n",
        "1/10"
       ]
      },
      {
       "output_type": "stream",
       "stream": "stdout",
       "text": [
        "   2/10   3/10   unicode problem! unicode problem! 4/10   unicode problem! 5/10   6/10   7/10   \n",
        "Page:5\n",
        "unicode problem!"
       ]
      },
      {
       "output_type": "stream",
       "stream": "stdout",
       "text": [
        " unicode problem! 1/10   2/10   unicode problem! 3/10   4/10   5/10   unicode problem! 6/10   \n",
        "Page:6\n",
        "1/10"
       ]
      },
      {
       "output_type": "stream",
       "stream": "stdout",
       "text": [
        "   2/10   3/10   4/10   unicode problem! unicode problem! unicode problem! 5/10   unicode problem! 6/10   \n",
        "Page:7\n",
        "1/10"
       ]
      },
      {
       "output_type": "stream",
       "stream": "stdout",
       "text": [
        "   2/10   3/10   unicode problem! 4/10   5/10   6/10   7/10   8/10   unicode problem! \n",
        "Page:8\n",
        "1/10"
       ]
      },
      {
       "output_type": "stream",
       "stream": "stdout",
       "text": [
        "   unicode problem! 2/10   3/10   4/10   unicode problem! 5/10   6/10   7/10   unicode problem! \n",
        "Page:9\n",
        "unicode problem!"
       ]
      },
      {
       "output_type": "stream",
       "stream": "stdout",
       "text": [
        " unicode problem! unicode problem! 1/10   unicode problem! 2/10   3/10   unicode problem! 4/10   unicode problem! \n",
        "Page:0\n",
        "1/10"
       ]
      },
      {
       "output_type": "stream",
       "stream": "stdout",
       "text": [
        "   2/10   unicode problem! unicode problem! unicode problem! 3/10   4/10   5/10   unicode problem! unicode problem! \n",
        "Page:1\n",
        "\n",
        "Page:2"
       ]
      },
      {
       "output_type": "stream",
       "stream": "stdout",
       "text": [
        "\n",
        "1/10"
       ]
      },
      {
       "output_type": "stream",
       "stream": "stdout",
       "text": [
        "   unicode problem! 2/10   3/10   4/10   unicode problem! unicode problem! 5/10   6/10   unicode problem! \n",
        "Page:3\n",
        "1/10"
       ]
      },
      {
       "output_type": "stream",
       "stream": "stdout",
       "text": [
        "   unicode problem! unicode problem! unicode problem! unicode problem! 2/10   3/10   unicode problem! unicode problem! 4/10   \n",
        "Page:4\n",
        "\n",
        "Page:5"
       ]
      },
      {
       "output_type": "stream",
       "stream": "stdout",
       "text": [
        "\n",
        "unicode problem!"
       ]
      },
      {
       "output_type": "stream",
       "stream": "stdout",
       "text": [
        " 1/10   2/10   3/10   4/10   5/10   6/10   7/10   8/10   unicode problem! \n",
        "Page:6\n",
        "unicode problem!"
       ]
      },
      {
       "output_type": "stream",
       "stream": "stdout",
       "text": [
        " 1/10   2/10   3/10   4/10   5/10   6/10   7/10   unicode problem! 8/10   \n",
        "Page:7\n",
        "1/10"
       ]
      },
      {
       "output_type": "stream",
       "stream": "stdout",
       "text": [
        "   unicode problem! 2/10   3/10   4/10   5/10   6/10   7/10   8/10   unicode problem! \n",
        "Page:8\n",
        "1/10"
       ]
      },
      {
       "output_type": "stream",
       "stream": "stdout",
       "text": [
        "   2/10   unicode problem! 3/10   unicode problem! 4/10   unicode problem! 5/10   unicode problem! unicode problem! \n",
        "Page:9\n",
        "1/10"
       ]
      },
      {
       "output_type": "stream",
       "stream": "stdout",
       "text": [
        "   2/10   3/10   unicode problem! 4/10   unicode problem! 5/10   6/10   7/10   8/10   \n",
        "Page:0\n",
        "1/10"
       ]
      },
      {
       "output_type": "stream",
       "stream": "stdout",
       "text": [
        "   unicode problem! 2/10   unicode problem! 3/10   4/10   unicode problem! 5/10   unicode problem! unicode problem! \n",
        "Page:1\n",
        "1/10"
       ]
      },
      {
       "output_type": "stream",
       "stream": "stdout",
       "text": [
        "   2/10   3/10   4/10   5/10   6/10   unicode problem! 7/10   8/10   9/10   \n",
        "Page:2\n",
        "unicode problem!"
       ]
      },
      {
       "output_type": "stream",
       "stream": "stdout",
       "text": [
        " 1/10   unicode problem! unicode problem! 2/10   3/10   unicode problem! 4/10   5/10   unicode problem! \n",
        "Page:3\n",
        "unicode problem!"
       ]
      },
      {
       "output_type": "stream",
       "stream": "stdout",
       "text": [
        " unicode problem! 1/10   unicode problem! unicode problem! unicode problem! 2/10   3/10   4/10   5/10   \n",
        "Page:4\n",
        "1/10"
       ]
      },
      {
       "output_type": "stream",
       "stream": "stdout",
       "text": [
        "   2/10   3/10   4/10   5/10   unicode problem! 6/10   7/10   8/10   9/10   \n",
        "Page:5\n",
        "1/10"
       ]
      },
      {
       "output_type": "stream",
       "stream": "stdout",
       "text": [
        "   2/10   unicode problem! unicode problem! unicode problem! 3/10   unicode problem! 4/10   5/10   6/10   \n",
        "Page:6\n",
        "1/10"
       ]
      },
      {
       "output_type": "stream",
       "stream": "stdout",
       "text": [
        "   2/10   3/10   4/10   5/10   6/10   unicode problem! 7/10   8/10   9/10   \n",
        "Page:7\n",
        "unicode problem!"
       ]
      },
      {
       "output_type": "stream",
       "stream": "stdout",
       "text": [
        " 1/10   2/10   3/10   4/10   unicode problem! 5/10   6/10   7/10   8/10   \n",
        "Page:8\n",
        "unicode problem!"
       ]
      },
      {
       "output_type": "stream",
       "stream": "stdout",
       "text": [
        " unicode problem! 1/10   2/10   3/10   unicode problem! 4/10   unicode problem! 5/10   unicode problem! \n",
        "Page:9\n",
        "unicode problem!"
       ]
      },
      {
       "output_type": "stream",
       "stream": "stdout",
       "text": [
        " 1/10   unicode problem! 2/10   3/10   unicode problem! 4/10   unicode problem! 5/10   unicode problem! \n",
        "Page:0\n",
        "unicode problem!"
       ]
      },
      {
       "output_type": "stream",
       "stream": "stdout",
       "text": [
        " 1/10   2/10   3/10   unicode problem! 4/10   unicode problem! unicode problem! 5/10   unicode problem! \n",
        "Page:1\n",
        "1/10"
       ]
      },
      {
       "output_type": "stream",
       "stream": "stdout",
       "text": [
        "   unicode problem! 2/10   3/10   4/10   5/10   6/10   unicode problem! unicode problem! 7/10   \n",
        "Page:2\n",
        "unicode problem!"
       ]
      },
      {
       "output_type": "stream",
       "stream": "stdout",
       "text": [
        " 1/10   unicode problem! unicode problem! 2/10   unicode problem! 3/10   4/10   unicode problem! unicode problem! \n",
        "Page:3\n",
        "1/10"
       ]
      },
      {
       "output_type": "stream",
       "stream": "stdout",
       "text": [
        "   2/10   3/10   4/10   5/10   6/10   7/10   8/10   9/10   unicode problem! \n",
        "Page:4\n",
        "1/10"
       ]
      },
      {
       "output_type": "stream",
       "stream": "stdout",
       "text": [
        "   2/10   unicode problem! unicode problem! unicode problem! unicode problem! 3/10   4/10   5/10   6/10   \n",
        "Page:5\n",
        "1/10"
       ]
      },
      {
       "output_type": "stream",
       "stream": "stdout",
       "text": [
        "   2/10   3/10   unicode problem! 4/10   5/10   6/10   unicode problem! 7/10   8/10   \n",
        "Page:6\n",
        "1/10"
       ]
      },
      {
       "output_type": "stream",
       "stream": "stdout",
       "text": [
        "   2/10   3/10   4/10   unicode problem! 5/10   unicode problem! 6/10   7/10   8/10   \n",
        "Page:7\n",
        "unicode problem!"
       ]
      },
      {
       "output_type": "stream",
       "stream": "stdout",
       "text": [
        " 1/10   unicode problem! 2/10   3/10   4/10   5/10   6/10   7/10   8/10   \n",
        "Page:8\n",
        "1/10"
       ]
      },
      {
       "output_type": "stream",
       "stream": "stdout",
       "text": [
        "   unicode problem! 2/10   3/10   4/10   unicode problem! 5/10   6/10   7/10   unicode problem! \n",
        "Page:9\n",
        "1/10"
       ]
      },
      {
       "output_type": "stream",
       "stream": "stdout",
       "text": [
        "   unicode problem! 2/10   unicode problem! unicode problem! 3/10   4/10   5/10   6/10   unicode problem! \n",
        "Page:0\n",
        "1/10"
       ]
      },
      {
       "output_type": "stream",
       "stream": "stdout",
       "text": [
        "   2/10   3/10   unicode problem! unicode problem! 4/10   5/10   6/10   unicode problem! unicode problem! \n",
        "Page:1\n",
        "1/10"
       ]
      },
      {
       "output_type": "stream",
       "stream": "stdout",
       "text": [
        "   2/10   unicode problem! 3/10   4/10   5/10   unicode problem! 6/10   7/10   8/10   \n",
        "Page:2\n",
        "1/10"
       ]
      },
      {
       "output_type": "stream",
       "stream": "stdout",
       "text": [
        "   unicode problem! 2/10   3/10   4/10   5/10   6/10   7/10   8/10   9/10   \n",
        "Page:3\n",
        "unicode problem!"
       ]
      },
      {
       "output_type": "stream",
       "stream": "stdout",
       "text": [
        " 1/10   2/10   3/10   4/10   unicode problem! 5/10   unicode problem! 6/10   7/10   \n",
        "Page:4\n",
        "1/10"
       ]
      },
      {
       "output_type": "stream",
       "stream": "stdout",
       "text": [
        "   2/10   3/10   4/10   unicode problem! 5/10   6/10   7/10   8/10   9/10   \n",
        "Page:5\n",
        "unicode problem!"
       ]
      },
      {
       "output_type": "stream",
       "stream": "stdout",
       "text": [
        " unicode problem! unicode problem! unicode problem! 1/10   2/10   unicode problem! 3/10   unicode problem! 4/10   \n",
        "Page:6\n",
        "1/10"
       ]
      },
      {
       "output_type": "stream",
       "stream": "stdout",
       "text": [
        "   2/10   3/10   4/10   5/10   unicode problem! 6/10   unicode problem! unicode problem! 7/10   \n",
        "Page:7\n",
        "1/10"
       ]
      },
      {
       "output_type": "stream",
       "stream": "stdout",
       "text": [
        "   unicode problem! unicode problem! 2/10   unicode problem! 3/10   unicode problem! unicode problem! 4/10   unicode problem! \n",
        "Page:8\n",
        "1/10"
       ]
      },
      {
       "output_type": "stream",
       "stream": "stdout",
       "text": [
        "   2/10   unicode problem! 3/10   unicode problem! 4/10   unicode problem! 5/10   6/10   7/10   \n",
        "Page:9\n",
        "1/10"
       ]
      },
      {
       "output_type": "stream",
       "stream": "stdout",
       "text": [
        "   2/10   unicode problem! 3/10   4/10   unicode problem! 5/10   unicode problem! unicode problem! unicode problem! \n",
        "Page:0\n",
        "unicode problem!"
       ]
      },
      {
       "output_type": "stream",
       "stream": "stdout",
       "text": [
        " 1/10   unicode problem! 2/10   3/10   4/10   5/10   unicode problem! 6/10   7/10   \n",
        "Page:1\n",
        "unicode problem!"
       ]
      },
      {
       "output_type": "stream",
       "stream": "stdout",
       "text": [
        " 1/10   2/10   unicode problem! 3/10   4/10   unicode problem! 5/10   6/10   7/10   \n",
        "Page:2\n",
        "1/10"
       ]
      },
      {
       "output_type": "stream",
       "stream": "stdout",
       "text": [
        "   unicode problem! unicode problem! unicode problem! unicode problem! 2/10   unicode problem! unicode problem! unicode problem! unicode problem! \n",
        "Page:3\n",
        "unicode problem!"
       ]
      },
      {
       "output_type": "stream",
       "stream": "stdout",
       "text": [
        " unicode problem! 1/10   2/10   3/10   4/10   unicode problem! 5/10   6/10   7/10   \n",
        "Page:4\n",
        "1/10"
       ]
      },
      {
       "output_type": "stream",
       "stream": "stdout",
       "text": [
        "   unicode problem! unicode problem! unicode problem! unicode problem! 2/10   3/10   unicode problem! unicode problem! unicode problem! \n",
        "Page:5\n",
        "unicode problem!"
       ]
      },
      {
       "output_type": "stream",
       "stream": "stdout",
       "text": [
        " 1/10   unicode problem! unicode problem! 2/10   3/10   unicode problem! unicode problem! unicode problem! unicode problem! \n",
        "Page:6\n",
        "unicode problem!"
       ]
      },
      {
       "output_type": "stream",
       "stream": "stdout",
       "text": [
        " unicode problem! 1/10   2/10   3/10   unicode problem! 4/10   5/10   unicode problem! unicode problem! \n",
        "Page:7\n",
        "1/10"
       ]
      },
      {
       "output_type": "stream",
       "stream": "stdout",
       "text": [
        "   unicode problem! unicode problem! unicode problem! unicode problem! unicode problem! 2/10   3/10   unicode problem! unicode problem! \n",
        "Page:8\n",
        "unicode problem!"
       ]
      },
      {
       "output_type": "stream",
       "stream": "stdout",
       "text": [
        " unicode problem! 1/10   2/10   unicode problem! unicode problem! unicode problem! 3/10   unicode problem! unicode problem! \n",
        "Page:9\n",
        "unicode problem!"
       ]
      },
      {
       "output_type": "stream",
       "stream": "stdout",
       "text": [
        " unicode problem! unicode problem! 1/10   unicode problem! 2/10   unicode problem! unicode problem! unicode problem! unicode problem! \n",
        "Page:0\n",
        "1/10"
       ]
      },
      {
       "output_type": "stream",
       "stream": "stdout",
       "text": [
        "   unicode problem! unicode problem! unicode problem! unicode problem! 2/10   3/10   4/10   5/10   6/10   \n",
        "Page:1\n",
        "unicode problem!"
       ]
      },
      {
       "output_type": "stream",
       "stream": "stdout",
       "text": [
        " unicode problem! 1/10   unicode problem! unicode problem! unicode problem! unicode problem! 2/10   3/10   4/10   \n",
        "Page:2\n",
        "unicode problem!"
       ]
      },
      {
       "output_type": "stream",
       "stream": "stdout",
       "text": [
        " 1/10   unicode problem! 2/10   unicode problem! 3/10   unicode problem! 4/10   5/10   unicode problem! \n",
        "Page:3\n",
        "unicode problem!"
       ]
      },
      {
       "output_type": "stream",
       "stream": "stdout",
       "text": [
        " unicode problem! unicode problem! 1/10   unicode problem! unicode problem! 2/10   3/10   4/10   unicode problem! \n",
        "Page:4\n",
        "unicode problem!"
       ]
      },
      {
       "output_type": "stream",
       "stream": "stdout",
       "text": [
        " 1/10   unicode problem! 2/10   3/10   4/10   5/10   6/10   7/10   8/10   \n",
        "Page:5\n",
        "1/10"
       ]
      },
      {
       "output_type": "stream",
       "stream": "stdout",
       "text": [
        "   2/10   3/10   4/10   5/10   6/10   7/10   8/10   9/10   10/10   \n",
        "Page:6\n",
        "unicode problem!"
       ]
      },
      {
       "output_type": "stream",
       "stream": "stdout",
       "text": [
        " 1/10   2/10   unicode problem! 3/10   unicode problem! 4/10   unicode problem! 5/10   6/10   \n",
        "Page:7\n",
        "1/10"
       ]
      },
      {
       "output_type": "stream",
       "stream": "stdout",
       "text": [
        "   2/10   3/10   4/10   5/10   unicode problem! 6/10   7/10   8/10   unicode problem! \n",
        "Page:8\n",
        "1/10"
       ]
      },
      {
       "output_type": "stream",
       "stream": "stdout",
       "text": [
        "   2/10   unicode problem! 3/10   4/10   unicode problem! 5/10   6/10   7/10   8/10   \n",
        "Page:9\n"
       ]
      }
     ],
     "prompt_number": 215
    }
   ],
   "metadata": {}
  }
 ]
}