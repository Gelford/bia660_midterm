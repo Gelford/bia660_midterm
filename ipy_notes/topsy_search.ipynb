{
 "metadata": {
  "name": ""
 },
 "nbformat": 3,
 "nbformat_minor": 0,
 "worksheets": [
  {
   "cells": [
    {
     "cell_type": "code",
     "collapsed": false,
     "input": [
      "import BeautifulSoup as bs4\n",
      "import urllib\n",
      "import re\n",
      "\n",
      "TAG_RE = re.compile(r'<[^>]+>')\n",
      "def remove_tags(text):\n",
      "    return TAG_RE.sub('', text)"
     ],
     "language": "python",
     "metadata": {},
     "outputs": [],
     "prompt_number": 1
    },
    {
     "cell_type": "code",
     "collapsed": false,
     "input": [
      "search_con = 'ios4'\n",
      "t_since = '1276473611'#time for June 14th 2010, 3600 is an hour\n",
      "t_until = '1277683211'#time for June 28th 2010, 3600 is an hour\n",
      "page_num = 0 #page #, 1/2/3/4/5...\n",
      "lang = 'en'\n",
      "\n",
      "search_str = 'http://topsy.com/s?q=' + search_con + '&type=tweet&sort=-date&language=' + lang + '&offset=' + str(page_num) + '0&mintime=' + t_since + '&maxtime=' + t_until\n",
      "f = urllib.urlopen(search_str)\n",
      "\n",
      "sss_html = f.read()\n",
      "sssoup = bs4.BeautifulSoup(sss_html)\n",
      "print sssoup.title\n",
      "print search_str\n",
      "print \"/n/n\""
     ],
     "language": "python",
     "metadata": {},
     "outputs": [
      {
       "output_type": "stream",
       "stream": "stdout",
       "text": [
        "<title>Twitter Search, Monitoring, &amp; Analytics | Topsy.com</title>\n",
        "http://topsy.com/s?q=ios4&type=tweet&sort=-date&language=en&offset=00&mintime=1276473611&maxtime=1277683211\n",
        "/n/n\n"
       ]
      }
     ],
     "prompt_number": 9
    },
    {
     "cell_type": "code",
     "collapsed": false,
     "input": [
      "tmp_res = sssoup.findAll('div')\n",
      "for elem in tmp_res:\n",
      "    if (elem.get('class') == u'media-body'):\n",
      "        print elem.getText(separator = u' ')\n",
      "        print '\\n\\n'"
     ],
     "language": "python",
     "metadata": {},
     "outputs": [],
     "prompt_number": 7
    },
    {
     "cell_type": "code",
     "collapsed": false,
     "input": [],
     "language": "python",
     "metadata": {},
     "outputs": []
    }
   ],
   "metadata": {}
  }
 ]
}