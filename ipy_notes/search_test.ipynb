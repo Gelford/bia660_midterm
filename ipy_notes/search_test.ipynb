{
 "metadata": {
  "name": ""
 },
 "nbformat": 3,
 "nbformat_minor": 0,
 "worksheets": [
  {
   "cells": [
    {
     "cell_type": "code",
     "collapsed": false,
     "input": [
      "import BeautifulSoup as bs4\n",
      "import urllib\n",
      "import re\n",
      "\n",
      "TAG_RE = re.compile(r'<[^>]+>')\n",
      "def remove_tags(text):\n",
      "    return TAG_RE.sub('', text)"
     ],
     "language": "python",
     "metadata": {},
     "outputs": [],
     "prompt_number": 1
    },
    {
     "cell_type": "code",
     "collapsed": false,
     "input": [
      "search_con = 'ios4'\n",
      "t_since = '2010-6-14'\n",
      "t_until = '2010-6-28'\n",
      "lang = 'en'\n",
      "\n",
      "search_str = 'https://twitter.com/search?q='+ search_con +'%20lang%3A'+ lang +'%20since%3A'+ t_since +'%20until%3A' + t_until + '&src=typd&f=realtime'\n",
      "f = urllib.urlopen(search_str)\n",
      "\n",
      "sss_html = f.read()\n",
      "sssoup = bs4.BeautifulSoup(sss_html)\n",
      "print sssoup.title\n",
      "print search_str"
     ],
     "language": "python",
     "metadata": {},
     "outputs": [
      {
       "output_type": "stream",
       "stream": "stdout",
       "text": [
        "<title>Twitter / Search - ios4 lang:en since:2010-6-14 until:2010-6-28</title>\n",
        "https://twitter.com/search?q=ios4%20lang%3Aen%20since%3A2010-6-14%20until%3A2010-6-28&src=typd&f=realtime\n"
       ]
      }
     ],
     "prompt_number": 2
    },
    {
     "cell_type": "code",
     "collapsed": false,
     "input": [
      "tmp_res = sssoup.findAll('p')\n",
      "for elem in tmp_res:\n",
      "    if (elem.get('class') == u'js-tweet-text tweet-text'):\n",
      "        print elem.getText(separator = u' ')\n",
      "        print '\\n\\n'"
     ],
     "language": "python",
     "metadata": {},
     "outputs": [
      {
       "output_type": "stream",
       "stream": "stdout",
       "text": [
        "Visit: Android has the advantage over Apple&#39;s iOS4 and iPhone 4 - MobileWhack.com http://bit.ly/9n1wJF\n",
        "\n",
        "\n",
        "\n",
        "Please Digg: Android still has the advantage over Apples iOS4 and iPhone http://bit.ly/cnp06P\n",
        "\n",
        "\n",
        "\n",
        "Android has the advantage over Apple&#39;s iOS4 and iPhone 4 http://bit.ly/9A1izk\n",
        "\n",
        "\n",
        "\n",
        "My Jobs Pro: Job Search Organizer \uffe5230 \u21d2 \uffe50 http://iphone.orelabo.jp/app/362632538/ Dear iOS4 Users! Please be patient!&#10;Update is subm\n",
        "\n",
        "\n",
        "\n",
        "New Blog Post: Apple iPhone iOS4 Review \u2013 Whats New? | Triphp Webmaster Blog http://bit.ly/bzBZ1E\n",
        "\n",
        "\n",
        "\n",
        "# apple Android has the advantage over Apple&#39;s iOS4 and iPhone 4 - MobileWhack.com http://bit.ly/aLIG93\n",
        "\n",
        "\n",
        "\n",
        "Apple: iOS4 4.0.1 update coming soon to fix iPhone 4 reception issues?: After a quote from Steve Jobs, and a state... http://bit.ly/cVEc4G\n",
        "\n",
        "\n",
        "\n",
        "Android still has the advantage over Apples iOS4 and iPhone: http://digg.com/d31VEvJ?t\n",
        "\n",
        "\n",
        "\n",
        "Bing iOS4 update brings new features, but isn\u2019t optimized for iPhone 4 &#10;    (Appolicious) http://bit.ly/doIEfR\n",
        "\n",
        "\n",
        "\n",
        "# Android Android still has the advantage over Apples iOS4 and iPhone: Google&#39;s Android platform can easily ... http://bit.ly/9rLiv2 # XMail\n",
        "\n",
        "\n",
        "\n",
        "# android Android still has the advantage over Apples iOS4 and iPhone: Google&#39;s Android platform can easily top Ap... http://bit.ly/9rLiv2\n",
        "\n",
        "\n",
        "\n",
        "Really Want: on iOS4 , ability to quickly switch between two most recent apps, like fast cmd-tab on Mac.\n",
        "\n",
        "\n",
        "\n",
        "f9book.com Apple: iOS4 4.0.1 update coming soon to fix iPhone 4 reception issues? - MacWorld UK http://bit.ly/9dMpn0\n",
        "\n",
        "\n",
        "\n",
        "Apple: iOS4 4.0.1 update coming soon to fix iPhone 4 reception issues? http://bit.ly/cVEc4G | # Droid  # Android\n",
        "\n",
        "\n",
        "\n",
        "ooops, # iOS4 autocorrect @ MarcusGButler @aussenatesnoop that was meant to be # xenuphon\n",
        "\n",
        "\n",
        "\n",
        "Android still has the advantage over Apples iOS4 and iPhone: http://digg.com/d31VEvJ?t\n",
        "\n",
        "\n",
        "\n",
        "Email from Steve Jobs hints at fix for iPhone 4 reception problems http://j.mp/bPoobz &#10; # Apple  # tech  # ios4\n",
        "\n",
        "\n",
        "\n",
        "Bug in # ios4 API causes financial app 2 round 2 nearest dollar! http://is.gd/d6Rup\n",
        "\n",
        "\n",
        "\n",
        "Complete guide to the iPhone&#39;s new OS - iOS4 http://bte.tc/cnNc # RTW\n",
        "\n",
        "\n",
        "\n"
       ]
      }
     ],
     "prompt_number": 3
    },
    {
     "cell_type": "code",
     "collapsed": false,
     "input": [],
     "language": "python",
     "metadata": {},
     "outputs": []
    }
   ],
   "metadata": {}
  }
 ]
}