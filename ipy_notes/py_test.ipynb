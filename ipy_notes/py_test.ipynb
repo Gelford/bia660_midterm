{
 "metadata": {
  "name": ""
 },
 "nbformat": 3,
 "nbformat_minor": 0,
 "worksheets": [
  {
   "cells": [
    {
     "cell_type": "code",
     "collapsed": false,
     "input": [
      "import time\n",
      "from datetime import date"
     ],
     "language": "python",
     "metadata": {},
     "outputs": [],
     "prompt_number": 5
    },
    {
     "cell_type": "code",
     "collapsed": false,
     "input": [
      "d = date.fromtimestamp(12767473867)\n",
      "print d"
     ],
     "language": "python",
     "metadata": {},
     "outputs": [
      {
       "output_type": "stream",
       "stream": "stdout",
       "text": [
        "2374-08-02\n"
       ]
      }
     ],
     "prompt_number": 9
    },
    {
     "cell_type": "code",
     "collapsed": false,
     "input": [
      "def get_id_name(strTmp):\n",
      "    return strTmp.split(' @')"
     ],
     "language": "python",
     "metadata": {},
     "outputs": [],
     "prompt_number": 98
    },
    {
     "cell_type": "code",
     "collapsed": false,
     "input": [
      "print get_id_name(\"Nick Robinson @ratkat\")"
     ],
     "language": "python",
     "metadata": {},
     "outputs": [
      {
       "output_type": "stream",
       "stream": "stdout",
       "text": [
        "['Nick Robinson', 'ratkat']\n"
       ]
      }
     ],
     "prompt_number": 21
    },
    {
     "cell_type": "code",
     "collapsed": false,
     "input": [
      "strtmp = \"http://twitter.com/Ratkat/status/16106746744\"\n",
      "tmp_list = strtmp.split('Ratkat')\n",
      "print \"\".join(tmp_list[0]) + 'Ratkat'"
     ],
     "language": "python",
     "metadata": {},
     "outputs": [
      {
       "output_type": "stream",
       "stream": "stdout",
       "text": [
        "http://twitter.com/Ratkat\n"
       ]
      }
     ],
     "prompt_number": 27
    },
    {
     "cell_type": "code",
     "collapsed": false,
     "input": [
      "import time\n",
      "import datetime\n",
      "import calendar"
     ],
     "language": "python",
     "metadata": {},
     "outputs": [],
     "prompt_number": 66
    },
    {
     "cell_type": "code",
     "collapsed": false,
     "input": [
      "print time.strftime('%Y-%m-%d %H:%M:%S')\n",
      "print '5:04 PM - 13 Jun 10'"
     ],
     "language": "python",
     "metadata": {},
     "outputs": [
      {
       "output_type": "stream",
       "stream": "stdout",
       "text": [
        "2013-10-03 04:29:01\n",
        "5:04 PM - 13 Jun 10\n"
       ]
      }
     ],
     "prompt_number": 67
    },
    {
     "cell_type": "code",
     "collapsed": false,
     "input": [
      "def myParseDateTime(str):\n",
      "    tmp_list = str.split()\n",
      "    hour_min = tmp_list[0].split(':')\n",
      "    minute = hour_min[1]\n",
      "    hour = hour_min[0]\n",
      "    if(tmp_list[1] == \"PM\"):\n",
      "        hour = int(hour) + 12\n",
      "    minute = int(minute)\n",
      "    d = int(tmp_list[3])\n",
      "    y = int(tmp_list[5])+2000\n",
      "    dic_months = dict((v,k) for k,v in enumerate(calendar.month_abbr))\n",
      "    m = dic_months[tmp_list[4]]\n",
      "    dt = datetime.datetime(y, m, d, hour, minute, 0)\n",
      "    #print dt\n",
      "    return dt"
     ],
     "language": "python",
     "metadata": {},
     "outputs": [],
     "prompt_number": 74
    },
    {
     "cell_type": "code",
     "collapsed": false,
     "input": [
      "myParseDateTime('5:04 PM - 13 Jun 10')\n",
      "tmp = myParseDateTime('5:36 PM - 13 Jun 10')"
     ],
     "language": "python",
     "metadata": {},
     "outputs": [
      {
       "output_type": "stream",
       "stream": "stdout",
       "text": [
        "2010-06-13 17:04:00\n",
        "2010-06-13 17:36:00\n"
       ]
      }
     ],
     "prompt_number": 81
    },
    {
     "cell_type": "code",
     "collapsed": false,
     "input": [
      "dict((v,k) for k,v in enumerate(calendar.month_abbr))"
     ],
     "language": "python",
     "metadata": {},
     "outputs": [
      {
       "metadata": {},
       "output_type": "pyout",
       "prompt_number": 76,
       "text": [
        "{'': 0,\n",
        " 'Apr': 4,\n",
        " 'Aug': 8,\n",
        " 'Dec': 12,\n",
        " 'Feb': 2,\n",
        " 'Jan': 1,\n",
        " 'Jul': 7,\n",
        " 'Jun': 6,\n",
        " 'Mar': 3,\n",
        " 'May': 5,\n",
        " 'Nov': 11,\n",
        " 'Oct': 10,\n",
        " 'Sep': 9}"
       ]
      }
     ],
     "prompt_number": 76
    },
    {
     "cell_type": "code",
     "collapsed": false,
     "input": [
      "dt = datetime.datetime.now()\n",
      "dt = None\n",
      "print dt"
     ],
     "language": "python",
     "metadata": {},
     "outputs": [
      {
       "output_type": "stream",
       "stream": "stdout",
       "text": [
        "None\n"
       ]
      }
     ],
     "prompt_number": 78
    },
    {
     "cell_type": "code",
     "collapsed": false,
     "input": [
      "time.strftime(tmp)"
     ],
     "language": "python",
     "metadata": {},
     "outputs": [
      {
       "ename": "TypeError",
       "evalue": "must be string, not datetime.datetime",
       "output_type": "pyerr",
       "traceback": [
        "\u001b[0;31m---------------------------------------------------------------------------\u001b[0m\n\u001b[0;31mTypeError\u001b[0m                                 Traceback (most recent call last)",
        "\u001b[0;32m<ipython-input-82-c12fd24864a4>\u001b[0m in \u001b[0;36m<module>\u001b[0;34m()\u001b[0m\n\u001b[0;32m----> 1\u001b[0;31m \u001b[0mtime\u001b[0m\u001b[0;34m.\u001b[0m\u001b[0mstrftime\u001b[0m\u001b[0;34m(\u001b[0m\u001b[0mtmp\u001b[0m\u001b[0;34m)\u001b[0m\u001b[0;34m\u001b[0m\u001b[0m\n\u001b[0m",
        "\u001b[0;31mTypeError\u001b[0m: must be string, not datetime.datetime"
       ]
      }
     ],
     "prompt_number": 82
    },
    {
     "cell_type": "code",
     "collapsed": false,
     "input": [
      "for i in 10:\n",
      "    print i"
     ],
     "language": "python",
     "metadata": {},
     "outputs": [
      {
       "ename": "TypeError",
       "evalue": "'int' object is not iterable",
       "output_type": "pyerr",
       "traceback": [
        "\u001b[0;31m---------------------------------------------------------------------------\u001b[0m\n\u001b[0;31mTypeError\u001b[0m                                 Traceback (most recent call last)",
        "\u001b[0;32m<ipython-input-83-dae0df8168f7>\u001b[0m in \u001b[0;36m<module>\u001b[0;34m()\u001b[0m\n\u001b[0;32m----> 1\u001b[0;31m \u001b[0;32mfor\u001b[0m \u001b[0mi\u001b[0m \u001b[0;32min\u001b[0m \u001b[0;36m10\u001b[0m\u001b[0;34m:\u001b[0m\u001b[0;34m\u001b[0m\u001b[0m\n\u001b[0m\u001b[1;32m      2\u001b[0m     \u001b[0;32mprint\u001b[0m \u001b[0mi\u001b[0m\u001b[0;34m\u001b[0m\u001b[0m\n",
        "\u001b[0;31mTypeError\u001b[0m: 'int' object is not iterable"
       ]
      }
     ],
     "prompt_number": 83
    },
    {
     "cell_type": "code",
     "collapsed": false,
     "input": [
      "for i in range(10):\n",
      "    print i;"
     ],
     "language": "python",
     "metadata": {},
     "outputs": [
      {
       "output_type": "stream",
       "stream": "stdout",
       "text": [
        "0\n",
        "1\n",
        "2\n",
        "3\n",
        "4\n",
        "5\n",
        "6\n",
        "7\n",
        "8\n",
        "9\n"
       ]
      }
     ],
     "prompt_number": 84
    },
    {
     "cell_type": "code",
     "collapsed": false,
     "input": [
      "list_sin_until_time = ['1276473611', '1276560011', '1276646411', '1276732811', '1276819211', '1276905611', '1276992011']\n",
      "t_since = list_sin_until_time[0]\n",
      "t_until = list_sin_until_time[1]"
     ],
     "language": "python",
     "metadata": {},
     "outputs": [],
     "prompt_number": 85
    },
    {
     "cell_type": "code",
     "collapsed": false,
     "input": [
      "for i in range(6):\n",
      "    t_since = list_sin_until_time[i]\n",
      "    t_until = list_sin_until_time[i+1]\n",
      "    print t_since, \" \", t_until"
     ],
     "language": "python",
     "metadata": {},
     "outputs": [
      {
       "output_type": "stream",
       "stream": "stdout",
       "text": [
        "1276473611   1276560011\n",
        "1276560011   1276646411\n",
        "1276646411   1276732811\n",
        "1276732811   1276819211\n",
        "1276819211   1276905611\n",
        "1276905611   1276992011\n"
       ]
      }
     ],
     "prompt_number": 88
    },
    {
     "cell_type": "code",
     "collapsed": false,
     "input": [
      "import re"
     ],
     "language": "python",
     "metadata": {},
     "outputs": [],
     "prompt_number": 90
    },
    {
     "cell_type": "code",
     "collapsed": false,
     "input": [
      "search_con = 'ios4'\n",
      "#'1276473611'time for June 14th 2010, 3600 is an hour, really not acurate!\n",
      "#'1276560011'time for June 15th 2010\n",
      "#'1276646411'time for June 16th 2010\n",
      "#'1276732811'time for June 17th 2010\n",
      "#'1276819211'time for June 18th 2010\n",
      "#'1276905611'time for June 19th 2010\n",
      "#'1276992011'time for June 20th 2010\n",
      "list_sin_until_time = ['1276473611', '1276560011', '1276646411', '1276732811', '1276819211', '1276905611', '1276992011']\n",
      "t_since = list_sin_until_time[0]\n",
      "t_until = list_sin_until_time[1]\n",
      "\n",
      "page_num = 0 #page #, 1/2/3/4/5...\n",
      "lang = 'en'\n",
      "sort = ['-date','date']#newest or oldest\n",
      "\n",
      "#search_url = 'http://topsy.com/s?q=' + search_con + '&type=tweet&sort=' + sort[0] + '&language=' + lang + '&offset=' + str(page_num) + '0&mintime=' + t_since + '&maxtime=' + t_until\n",
      "\n",
      "#print search_url"
     ],
     "language": "python",
     "metadata": {},
     "outputs": [],
     "prompt_number": 94
    },
    {
     "cell_type": "code",
     "collapsed": false,
     "input": [
      "for sort_index in range(2):\n",
      "    for since_until_index in range(6):\n",
      "        for page_num in range(10):\n",
      "            print page_num, \" \"\n",
      "        t_since = list_sin_until_time[since_until_index]\n",
      "        t_until = list_sin_until_time[since_until_index]\n",
      "        print t_since, \" \", t_until\n",
      "    print sort[sort_index]"
     ],
     "language": "python",
     "metadata": {},
     "outputs": [
      {
       "output_type": "stream",
       "stream": "stdout",
       "text": [
        "0  \n",
        "1  \n",
        "2  \n",
        "3  \n",
        "4  \n",
        "5  \n",
        "6  \n",
        "7  \n",
        "8  \n",
        "9  \n",
        "1276473611   1276473611\n",
        "0  \n",
        "1  \n",
        "2  \n",
        "3  \n",
        "4  \n",
        "5  \n",
        "6  \n",
        "7  \n",
        "8  \n",
        "9  \n",
        "1276560011   1276560011\n",
        "0  \n",
        "1  \n",
        "2  \n",
        "3  \n",
        "4  \n",
        "5  \n",
        "6  \n",
        "7  \n",
        "8  \n",
        "9  \n",
        "1276646411   1276646411\n",
        "0  \n",
        "1  \n",
        "2  \n",
        "3  \n",
        "4  \n",
        "5  \n",
        "6  \n",
        "7  \n",
        "8  \n",
        "9  \n",
        "1276732811   1276732811\n",
        "0  \n",
        "1  \n",
        "2  \n",
        "3  \n",
        "4  \n",
        "5  \n",
        "6  \n",
        "7  \n",
        "8  \n",
        "9  \n",
        "1276819211   1276819211\n",
        "0  \n",
        "1  \n",
        "2  \n",
        "3  \n",
        "4  \n",
        "5  \n",
        "6  \n",
        "7  \n",
        "8  \n",
        "9  \n",
        "1276905611   1276905611\n",
        "-date\n",
        "0  \n",
        "1  \n",
        "2  \n",
        "3  \n",
        "4  \n",
        "5  \n",
        "6  \n",
        "7  \n",
        "8  \n",
        "9  \n",
        "1276473611   1276473611\n",
        "0  \n",
        "1  \n",
        "2  \n",
        "3  \n",
        "4  \n",
        "5  \n",
        "6  \n",
        "7  \n",
        "8  \n",
        "9  \n",
        "1276560011   1276560011\n",
        "0  \n",
        "1  \n",
        "2  \n",
        "3  \n",
        "4  \n",
        "5  \n",
        "6  \n",
        "7  \n",
        "8  \n",
        "9  \n",
        "1276646411   1276646411\n",
        "0  \n",
        "1  \n",
        "2  \n",
        "3  \n",
        "4  \n",
        "5  \n",
        "6  \n",
        "7  \n",
        "8  \n",
        "9  \n",
        "1276732811   1276732811\n",
        "0  \n",
        "1  \n",
        "2  \n",
        "3  \n",
        "4  \n",
        "5  \n",
        "6  \n",
        "7  \n",
        "8  \n",
        "9  \n",
        "1276819211   1276819211\n",
        "0  \n",
        "1  \n",
        "2  \n",
        "3  \n",
        "4  \n",
        "5  \n",
        "6  \n",
        "7  \n",
        "8  \n",
        "9  \n",
        "1276905611   1276905611\n",
        "date\n"
       ]
      }
     ],
     "prompt_number": 96
    },
    {
     "cell_type": "code",
     "collapsed": false,
     "input": [
      "const = 1306972811\n",
      "mylist = []\n",
      "for i in range(10):\n",
      "    mylist.append(const + i*3600*24)\n",
      "    print type(mylist[i])\n",
      "print mylist"
     ],
     "language": "python",
     "metadata": {},
     "outputs": [
      {
       "output_type": "stream",
       "stream": "stdout",
       "text": [
        "<type 'int'>\n",
        "<type 'int'>\n",
        "<type 'int'>\n",
        "<type 'int'>\n",
        "<type 'int'>\n",
        "<type 'int'>\n",
        "<type 'int'>\n",
        "<type 'int'>\n",
        "<type 'int'>\n",
        "<type 'int'>\n",
        "[1306972811, 1307059211, 1307145611, 1307232011, 1307318411, 1307404811, 1307491211, 1307577611, 1307664011, 1307750411]\n"
       ]
      }
     ],
     "prompt_number": 101
    },
    {
     "cell_type": "code",
     "collapsed": false,
     "input": [],
     "language": "python",
     "metadata": {},
     "outputs": []
    }
   ],
   "metadata": {}
  }
 ]
}